{
 "cells": [
  {
   "cell_type": "code",
   "execution_count": 1,
   "metadata": {
    "ExecuteTime": {
     "end_time": "2021-02-10T08:35:16.432339Z",
     "start_time": "2021-02-10T08:35:09.277570Z"
    }
   },
   "outputs": [],
   "source": [
    "import pandas as pd\n",
    "import sqlite3"
   ]
  },
  {
   "cell_type": "code",
   "execution_count": 2,
   "metadata": {
    "ExecuteTime": {
     "end_time": "2021-02-10T08:35:16.445068Z",
     "start_time": "2021-02-10T08:35:16.436114Z"
    }
   },
   "outputs": [],
   "source": [
    "connection = sqlite3.connect(\"food.db\")"
   ]
  },
  {
   "cell_type": "code",
   "execution_count": 3,
   "metadata": {
    "ExecuteTime": {
     "end_time": "2021-02-10T08:37:37.226606Z",
     "start_time": "2021-02-10T08:37:22.842790Z"
    }
   },
   "outputs": [],
   "source": [
    "df = pd.read_excel(\"/Users/Edite/foods.xlsx\")"
   ]
  },
  {
   "cell_type": "markdown",
   "metadata": {
    "ExecuteTime": {
     "end_time": "2021-02-09T12:37:40.822358Z",
     "start_time": "2021-02-09T12:37:40.813822Z"
    }
   },
   "source": [
    "transfer =['Shrt_Desc', 'Energ_Kcal', 'Protein_(g)','Lipid_Tot_(g)', \n",
    "        'Ash_(g)', 'Carbohydrt_(g)', 'Fiber_TD_(g)',\n",
    "       'Sugar_Tot_(g)', 'Water_(g)','Calcium_(mg)', 'Iron_(mg)', 'Magnesium_(mg)',\n",
    "       'Phosphorus_(mg)', 'Potassium_(mg)', 'Sodium_(mg)', 'Zinc_(mg)',\n",
    "       'Copper_mg)', 'Manganese_(mg)', 'Selenium_(µg)', 'Vit_C_(mg)',\n",
    "       'Thiamin_(mg)', 'Riboflavin_(mg)', 'Niacin_(mg)', 'Panto_Acid_mg)',\n",
    "       'Vit_B6_(mg)', 'Folate_Tot_(µg)', 'Folic_Acid_(µg)', 'Food_Folate_(µg)',\n",
    "       'Folate_DFE_(µg)', 'Choline_Tot_ (mg)', 'Vit_B12_(µg)', 'Vit_A_IU',\n",
    "       'Vit_A_RAE', 'Retinol_(µg)', 'Alpha_Carot_(µg)', 'Beta_Carot_(µg)',\n",
    "       'Beta_Crypt_(µg)', 'Lycopene_(µg)', 'Lut+Zea_ (µg)', 'Vit_E_(mg)',\n",
    "       'Vit_D_µg', 'Vit_D_IU', 'Vit_K_(µg)', 'FA_Sat_(g)', 'FA_Mono_(g)',\n",
    "       'FA_Poly_(g)', 'Cholestrl_(mg)', 'GmWt_1', 'GmWt_Desc1', 'GmWt_2',\n",
    "       'GmWt_Desc2']"
   ]
  },
  {
   "cell_type": "markdown",
   "metadata": {
    "ExecuteTime": {
     "end_time": "2021-02-09T14:00:03.266211Z",
     "start_time": "2021-02-09T14:00:03.219665Z"
    }
   },
   "source": [
    "for i in df[transfer]:\n",
    "    print(\",\" +str(i).replace(\"(\",\"\").replace(\")\",\"\")\n",
    "          .replace(\"µ\",\"mm\").replace(\" \",\"\").replace(\"+\",\"\")\n",
    "          ,df[i].dtype)"
   ]
  },
  {
   "cell_type": "markdown",
   "metadata": {
    "ExecuteTime": {
     "end_time": "2021-02-09T14:15:27.733457Z",
     "start_time": "2021-02-09T14:15:27.689138Z"
    }
   },
   "source": [
    "connection = sqlite3.connect(\"food.db\")\n",
    "cursor = connection.cursor()\n",
    "cursor.executescript(\"DROP TABLE IF EXISTS foods\")\n",
    "\n",
    "cursor.execute(\n",
    "    '''CREATE TABLE foods (\n",
    "            Shrt_Desc object\n",
    "            ,Energ_Kcal int64\n",
    "            ,Protein_g float64\n",
    "            ,Lipid_Tot_g float64\n",
    "            ,Carbohydrt_g float64\n",
    "            ,Fiber_TD_g float64\n",
    "            ,Net_Carbs float64\n",
    "            ,Ash_g float64\n",
    "            ,Sugar_Tot_g float64\n",
    "            ,Water_g float64\n",
    "            ,Calcium_mg float64\n",
    "            ,Iron_mg float64\n",
    "            ,Magnesium_mg float64\n",
    "            ,Phosphorus_mg float64\n",
    "            ,Potassium_mg float64\n",
    "            ,Sodium_mg float64\n",
    "            ,Zinc_mg float64\n",
    "            ,Copper_mg float64\n",
    "            ,Manganese_mg float64\n",
    "            ,Selenium_mmg float64\n",
    "            ,Vit_C_mg float64\n",
    "            ,Thiamin_mg float64\n",
    "            ,Riboflavin_mg float64\n",
    "            ,Niacin_mg float64\n",
    "            ,Panto_Acid_mg float64\n",
    "            ,Vit_B6_mg float64\n",
    "            ,Folate_Tot_mmg float64\n",
    "            ,Folic_Acid_mmg float64\n",
    "            ,Food_Folate_mmg float64\n",
    "            ,Folate_DFE_mmg float64\n",
    "            ,Choline_Tot_mg float64\n",
    "            ,Vit_B12_mmg float64\n",
    "            ,Vit_A_IU float64\n",
    "            ,Vit_A_RAE float64\n",
    "            ,Retinol_mmg float64\n",
    "            ,Alpha_Carot_mmg float64\n",
    "            ,Beta_Carot_mmg float64\n",
    "            ,Beta_Crypt_mmg float64\n",
    "            ,Lycopene_mmg float64\n",
    "            ,LutZea_mmg float64\n",
    "            ,Vit_E_mg float64\n",
    "            ,Vit_D_mmg float64\n",
    "            ,Vit_D_IU float64\n",
    "            ,Vit_K_mmg float64\n",
    "            ,FA_Sat_g float64\n",
    "            ,FA_Mono_g float64\n",
    "            ,FA_Poly_g float64\n",
    "            ,Cholestrl_mg float64\n",
    "            ,GmWt_1 float64\n",
    "            ,GmWt_Desc1 object\n",
    "            ,GmWt_2 float64\n",
    "            ,GmWt_Desc2 object)''')"
   ]
  },
  {
   "cell_type": "markdown",
   "metadata": {
    "ExecuteTime": {
     "end_time": "2021-02-09T14:45:41.672010Z",
     "start_time": "2021-02-09T14:45:41.661278Z"
    }
   },
   "source": [
    "connection = sqlite3.connect(\"food.db\")\n",
    "cursor = connection.cursor()\n",
    "cursor.executescript(\"DROP TABLE IF EXISTS daily\")\n",
    "\n",
    "cursor.execute(\n",
    "    '''CREATE TABLE daily (\n",
    "            date datetime\n",
    "            ,name text\n",
    "            ,quantity float64\n",
    "            )''')"
   ]
  },
  {
   "cell_type": "code",
   "execution_count": 4,
   "metadata": {
    "ExecuteTime": {
     "end_time": "2021-02-10T08:37:47.183071Z",
     "start_time": "2021-02-10T08:37:46.636988Z"
    }
   },
   "outputs": [
    {
     "data": {
      "text/html": [
       "<div>\n",
       "<style scoped>\n",
       "    .dataframe tbody tr th:only-of-type {\n",
       "        vertical-align: middle;\n",
       "    }\n",
       "\n",
       "    .dataframe tbody tr th {\n",
       "        vertical-align: top;\n",
       "    }\n",
       "\n",
       "    .dataframe thead th {\n",
       "        text-align: right;\n",
       "    }\n",
       "</style>\n",
       "<table border=\"1\" class=\"dataframe\">\n",
       "  <thead>\n",
       "    <tr style=\"text-align: right;\">\n",
       "      <th></th>\n",
       "      <th>Shrt_Desc</th>\n",
       "      <th>Energ_Kcal</th>\n",
       "      <th>Protein_g</th>\n",
       "      <th>Lipid_Tot_g</th>\n",
       "      <th>Carbohydrt_g</th>\n",
       "      <th>Fiber_TD_g</th>\n",
       "      <th>Net_Carbs</th>\n",
       "      <th>Ash_g</th>\n",
       "      <th>Sugar_Tot_g</th>\n",
       "      <th>Water_g</th>\n",
       "      <th>...</th>\n",
       "      <th>Vit_D_IU</th>\n",
       "      <th>Vit_K_mmg</th>\n",
       "      <th>FA_Sat_g</th>\n",
       "      <th>FA_Mono_g</th>\n",
       "      <th>FA_Poly_g</th>\n",
       "      <th>Cholestrl_mg</th>\n",
       "      <th>GmWt_1</th>\n",
       "      <th>GmWt_Desc1</th>\n",
       "      <th>GmWt_2</th>\n",
       "      <th>GmWt_Desc2</th>\n",
       "    </tr>\n",
       "  </thead>\n",
       "  <tbody>\n",
       "    <tr>\n",
       "      <th>0</th>\n",
       "      <td>EGG</td>\n",
       "      <td>143</td>\n",
       "      <td>12.56</td>\n",
       "      <td>9.51</td>\n",
       "      <td>0.72</td>\n",
       "      <td>0.0</td>\n",
       "      <td>0.72</td>\n",
       "      <td>1.06</td>\n",
       "      <td>0.37</td>\n",
       "      <td>76.15</td>\n",
       "      <td>...</td>\n",
       "      <td>82.0</td>\n",
       "      <td>0.3</td>\n",
       "      <td>3.126</td>\n",
       "      <td>3.658</td>\n",
       "      <td>1.911</td>\n",
       "      <td>372.0</td>\n",
       "      <td>50.0</td>\n",
       "      <td>1 large</td>\n",
       "      <td>56.0</td>\n",
       "      <td>1 extra large</td>\n",
       "    </tr>\n",
       "    <tr>\n",
       "      <th>1</th>\n",
       "      <td>CHEESE</td>\n",
       "      <td>371</td>\n",
       "      <td>23.24</td>\n",
       "      <td>29.68</td>\n",
       "      <td>2.79</td>\n",
       "      <td>0.0</td>\n",
       "      <td>2.79</td>\n",
       "      <td>3.18</td>\n",
       "      <td>0.51</td>\n",
       "      <td>41.11</td>\n",
       "      <td>...</td>\n",
       "      <td>22.0</td>\n",
       "      <td>2.5</td>\n",
       "      <td>18.764</td>\n",
       "      <td>8.598</td>\n",
       "      <td>0.784</td>\n",
       "      <td>94.0</td>\n",
       "      <td>132.0</td>\n",
       "      <td>1 cup, diced</td>\n",
       "      <td>113.0</td>\n",
       "      <td>1 cup, shredded</td>\n",
       "    </tr>\n",
       "    <tr>\n",
       "      <th>2</th>\n",
       "      <td>BACON</td>\n",
       "      <td>417</td>\n",
       "      <td>12.62</td>\n",
       "      <td>39.69</td>\n",
       "      <td>1.28</td>\n",
       "      <td>0.0</td>\n",
       "      <td>1.28</td>\n",
       "      <td>2.17</td>\n",
       "      <td>1.00</td>\n",
       "      <td>44.24</td>\n",
       "      <td>...</td>\n",
       "      <td>16.0</td>\n",
       "      <td>0.0</td>\n",
       "      <td>13.296</td>\n",
       "      <td>17.439</td>\n",
       "      <td>6.454</td>\n",
       "      <td>66.0</td>\n",
       "      <td>28.0</td>\n",
       "      <td>1 slice, raw</td>\n",
       "      <td>442.0</td>\n",
       "      <td>1 package</td>\n",
       "    </tr>\n",
       "    <tr>\n",
       "      <th>3</th>\n",
       "      <td>AVOCADO</td>\n",
       "      <td>167</td>\n",
       "      <td>1.96</td>\n",
       "      <td>15.41</td>\n",
       "      <td>8.64</td>\n",
       "      <td>6.8</td>\n",
       "      <td>1.84</td>\n",
       "      <td>1.66</td>\n",
       "      <td>0.30</td>\n",
       "      <td>72.33</td>\n",
       "      <td>...</td>\n",
       "      <td>0.0</td>\n",
       "      <td>21.0</td>\n",
       "      <td>2.126</td>\n",
       "      <td>9.799</td>\n",
       "      <td>1.816</td>\n",
       "      <td>0.0</td>\n",
       "      <td>230.0</td>\n",
       "      <td>1 cup, pureed</td>\n",
       "      <td>136.0</td>\n",
       "      <td>1 fruit, without skin and seed</td>\n",
       "    </tr>\n",
       "    <tr>\n",
       "      <th>4</th>\n",
       "      <td>NUTRIONAL YEAST</td>\n",
       "      <td>325</td>\n",
       "      <td>40.44</td>\n",
       "      <td>7.61</td>\n",
       "      <td>41.22</td>\n",
       "      <td>26.9</td>\n",
       "      <td>14.32</td>\n",
       "      <td>5.65</td>\n",
       "      <td>0.00</td>\n",
       "      <td>5.08</td>\n",
       "      <td>...</td>\n",
       "      <td>0.0</td>\n",
       "      <td>0.4</td>\n",
       "      <td>1.001</td>\n",
       "      <td>4.309</td>\n",
       "      <td>0.017</td>\n",
       "      <td>0.0</td>\n",
       "      <td>4.0</td>\n",
       "      <td>1 tsp</td>\n",
       "      <td>12.0</td>\n",
       "      <td>1 tbsp</td>\n",
       "    </tr>\n",
       "  </tbody>\n",
       "</table>\n",
       "<p>5 rows × 52 columns</p>\n",
       "</div>"
      ],
      "text/plain": [
       "         Shrt_Desc  Energ_Kcal  Protein_g  Lipid_Tot_g  Carbohydrt_g  \\\n",
       "0              EGG         143      12.56         9.51          0.72   \n",
       "1           CHEESE         371      23.24        29.68          2.79   \n",
       "2            BACON         417      12.62        39.69          1.28   \n",
       "3          AVOCADO         167       1.96        15.41          8.64   \n",
       "4  NUTRIONAL YEAST         325      40.44         7.61         41.22   \n",
       "\n",
       "   Fiber_TD_g  Net_Carbs  Ash_g  Sugar_Tot_g  Water_g  ...  Vit_D_IU  \\\n",
       "0         0.0       0.72   1.06         0.37    76.15  ...      82.0   \n",
       "1         0.0       2.79   3.18         0.51    41.11  ...      22.0   \n",
       "2         0.0       1.28   2.17         1.00    44.24  ...      16.0   \n",
       "3         6.8       1.84   1.66         0.30    72.33  ...       0.0   \n",
       "4        26.9      14.32   5.65         0.00     5.08  ...       0.0   \n",
       "\n",
       "   Vit_K_mmg  FA_Sat_g  FA_Mono_g  FA_Poly_g  Cholestrl_mg  GmWt_1  \\\n",
       "0        0.3     3.126      3.658      1.911         372.0    50.0   \n",
       "1        2.5    18.764      8.598      0.784          94.0   132.0   \n",
       "2        0.0    13.296     17.439      6.454          66.0    28.0   \n",
       "3       21.0     2.126      9.799      1.816           0.0   230.0   \n",
       "4        0.4     1.001      4.309      0.017           0.0     4.0   \n",
       "\n",
       "      GmWt_Desc1  GmWt_2                      GmWt_Desc2  \n",
       "0        1 large    56.0                   1 extra large  \n",
       "1   1 cup, diced   113.0                 1 cup, shredded  \n",
       "2   1 slice, raw   442.0                       1 package  \n",
       "3  1 cup, pureed   136.0  1 fruit, without skin and seed  \n",
       "4          1 tsp    12.0                          1 tbsp  \n",
       "\n",
       "[5 rows x 52 columns]"
      ]
     },
     "execution_count": 4,
     "metadata": {},
     "output_type": "execute_result"
    }
   ],
   "source": [
    "conn = sqlite3.connect('food.db')\n",
    "query = \"SELECT * FROM foods;\"\n",
    "\n",
    "foo = pd.read_sql_query(query,conn)\n",
    "foo"
   ]
  },
  {
   "cell_type": "code",
   "execution_count": 11,
   "metadata": {
    "ExecuteTime": {
     "end_time": "2021-02-10T12:28:25.679368Z",
     "start_time": "2021-02-10T12:28:25.614659Z"
    }
   },
   "outputs": [
    {
     "data": {
      "text/html": [
       "<div>\n",
       "<style scoped>\n",
       "    .dataframe tbody tr th:only-of-type {\n",
       "        vertical-align: middle;\n",
       "    }\n",
       "\n",
       "    .dataframe tbody tr th {\n",
       "        vertical-align: top;\n",
       "    }\n",
       "\n",
       "    .dataframe thead th {\n",
       "        text-align: right;\n",
       "    }\n",
       "</style>\n",
       "<table border=\"1\" class=\"dataframe\">\n",
       "  <thead>\n",
       "    <tr style=\"text-align: right;\">\n",
       "      <th></th>\n",
       "      <th>date</th>\n",
       "      <th>name</th>\n",
       "      <th>quantity</th>\n",
       "    </tr>\n",
       "  </thead>\n",
       "  <tbody>\n",
       "    <tr>\n",
       "      <th>0</th>\n",
       "      <td>2021-02-08 00:00:00</td>\n",
       "      <td>EGG</td>\n",
       "      <td>2.00</td>\n",
       "    </tr>\n",
       "    <tr>\n",
       "      <th>1</th>\n",
       "      <td>2021-02-08 00:00:00</td>\n",
       "      <td>CHEESE</td>\n",
       "      <td>1.00</td>\n",
       "    </tr>\n",
       "    <tr>\n",
       "      <th>2</th>\n",
       "      <td>2021-02-08 00:00:00</td>\n",
       "      <td>BACON</td>\n",
       "      <td>1.12</td>\n",
       "    </tr>\n",
       "    <tr>\n",
       "      <th>3</th>\n",
       "      <td>2021-02-08 00:00:00</td>\n",
       "      <td>AVOCADO</td>\n",
       "      <td>1.36</td>\n",
       "    </tr>\n",
       "    <tr>\n",
       "      <th>4</th>\n",
       "      <td>2021-02-08 00:00:00</td>\n",
       "      <td>NUTRIONAL YEAST</td>\n",
       "      <td>0.05</td>\n",
       "    </tr>\n",
       "    <tr>\n",
       "      <th>5</th>\n",
       "      <td>2021-02-10 00:00:00</td>\n",
       "      <td>KOLLAGEN</td>\n",
       "      <td>0.20</td>\n",
       "    </tr>\n",
       "  </tbody>\n",
       "</table>\n",
       "</div>"
      ],
      "text/plain": [
       "                  date             name  quantity\n",
       "0  2021-02-08 00:00:00              EGG      2.00\n",
       "1  2021-02-08 00:00:00           CHEESE      1.00\n",
       "2  2021-02-08 00:00:00            BACON      1.12\n",
       "3  2021-02-08 00:00:00          AVOCADO      1.36\n",
       "4  2021-02-08 00:00:00  NUTRIONAL YEAST      0.05\n",
       "5  2021-02-10 00:00:00         KOLLAGEN      0.20"
      ]
     },
     "execution_count": 11,
     "metadata": {},
     "output_type": "execute_result"
    }
   ],
   "source": [
    "conn = sqlite3.connect('food.db')\n",
    "query = \"SELECT * FROM daily;\"\n",
    "\n",
    "voo = pd.read_sql_query(query,conn)\n",
    "voo"
   ]
  },
  {
   "cell_type": "markdown",
   "metadata": {
    "ExecuteTime": {
     "end_time": "2021-02-10T10:02:57.646162Z",
     "start_time": "2021-02-10T10:02:57.186663Z"
    }
   },
   "source": [
    "connection = sqlite3.connect(\"food.db\")\n",
    "cursor = connection.cursor()\n",
    "cursor.executescript(\"DELETE FROM daily where date = '2021-02-08 00:00:00';\")"
   ]
  },
  {
   "cell_type": "markdown",
   "metadata": {},
   "source": [
    "THIS IS TRANSFER PART"
   ]
  },
  {
   "cell_type": "markdown",
   "metadata": {
    "ExecuteTime": {
     "end_time": "2021-02-09T14:36:40.814871Z",
     "start_time": "2021-02-09T14:36:40.773323Z"
    }
   },
   "source": [
    "a = df[df.NDB_No.isin([18375]) == True].reset_index(drop = True)\n",
    "a"
   ]
  },
  {
   "cell_type": "markdown",
   "metadata": {
    "ExecuteTime": {
     "end_time": "2021-02-09T14:36:57.695376Z",
     "start_time": "2021-02-09T14:36:57.651934Z"
    }
   },
   "source": [
    "a = a[['Shrt_Desc', 'Energ_Kcal', 'Protein_g', 'Lipid_Tot_g', 'Carbohydrt_g',\n",
    "       'Fiber_TD_g', 'Net_Carbs', 'Ash_g', 'Sugar_Tot_g', 'Water_g',\n",
    "       'Calcium_mg', 'Iron_mg', 'Magnesium_mg', 'Phosphorus_mg',\n",
    "       'Potassium_mg', 'Sodium_mg', 'Zinc_mg', 'Copper_mg', 'Manganese_mg',\n",
    "       'Selenium_mmg', 'Vit_C_mg', 'Thiamin_mg', 'Riboflavin_mg', 'Niacin_mg',\n",
    "       'Panto_Acid_mg', 'Vit_B6_mg', 'Folate_Tot_mmg', 'Folic_Acid_mmg',\n",
    "       'Food_Folate_mmg', 'Folate_DFE_mmg', 'Choline_Tot_mg', 'Vit_B12_mmg',\n",
    "       'Vit_A_IU', 'Vit_A_RAE', 'Retinol_mmg', 'Alpha_Carot_mmg',\n",
    "       'Beta_Carot_mmg', 'Beta_Crypt_mmg', 'Lycopene_mmg', 'LutZea_mmg',\n",
    "       'Vit_E_mg', 'Vit_D_mmg', 'Vit_D_IU', 'Vit_K_mmg', 'FA_Sat_g',\n",
    "       'FA_Mono_g', 'FA_Poly_g', 'Cholestrl_mg', 'GmWt_1', 'GmWt_Desc1',\n",
    "       'GmWt_2', 'GmWt_Desc2']]\n",
    "\n",
    "a.Shrt_Desc = \"NUTRIONAL YEAST\"\n",
    "a"
   ]
  },
  {
   "cell_type": "markdown",
   "metadata": {
    "ExecuteTime": {
     "end_time": "2021-02-09T14:37:05.193596Z",
     "start_time": "2021-02-09T14:37:05.115092Z"
    }
   },
   "source": [
    "a.to_sql(\"foods\", conn, if_exists='append', index = False)"
   ]
  },
  {
   "cell_type": "code",
   "execution_count": null,
   "metadata": {
    "ExecuteTime": {
     "end_time": "2021-02-09T15:21:34.319394Z",
     "start_time": "2021-02-09T15:21:34.285741Z"
    }
   },
   "outputs": [],
   "source": [
    "df[df.Shrt_Desc.str.contains('COLLAGEN') == True]"
   ]
  },
  {
   "cell_type": "code",
   "execution_count": null,
   "metadata": {
    "ExecuteTime": {
     "end_time": "2021-02-09T11:19:45.447769Z",
     "start_time": "2021-02-09T11:19:45.440924Z"
    },
    "scrolled": true
   },
   "outputs": [],
   "source": [
    "kcal = 1609\n",
    "carbs = 20\n",
    "protein = 106\n",
    "fat = 123"
   ]
  }
 ],
 "metadata": {
  "kernelspec": {
   "display_name": "Python 3",
   "language": "python",
   "name": "python3"
  },
  "language_info": {
   "codemirror_mode": {
    "name": "ipython",
    "version": 3
   },
   "file_extension": ".py",
   "mimetype": "text/x-python",
   "name": "python",
   "nbconvert_exporter": "python",
   "pygments_lexer": "ipython3",
   "version": "3.7.4"
  },
  "toc": {
   "base_numbering": 1,
   "nav_menu": {},
   "number_sections": true,
   "sideBar": true,
   "skip_h1_title": false,
   "title_cell": "Table of Contents",
   "title_sidebar": "Contents",
   "toc_cell": false,
   "toc_position": {},
   "toc_section_display": true,
   "toc_window_display": false
  }
 },
 "nbformat": 4,
 "nbformat_minor": 2
}
