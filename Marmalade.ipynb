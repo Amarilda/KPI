{
 "cells": [
  {
   "cell_type": "code",
   "execution_count": 1,
   "metadata": {
    "ExecuteTime": {
     "end_time": "2021-03-13T12:12:50.311174Z",
     "start_time": "2021-03-13T12:12:40.659136Z"
    }
   },
   "outputs": [],
   "source": [
    "import pandas as pd\n",
    "from bs4 import BeautifulSoup\n",
    "import requests\n",
    "import re\n",
    "import datetime"
   ]
  },
  {
   "cell_type": "code",
   "execution_count": 32,
   "metadata": {
    "ExecuteTime": {
     "end_time": "2021-03-13T12:24:34.224225Z",
     "start_time": "2021-03-13T12:24:34.177428Z"
    }
   },
   "outputs": [],
   "source": [
    "#an existing data set\n",
    "df = pd.read_csv('Jurmala20210313.csv')"
   ]
  },
  {
   "cell_type": "code",
   "execution_count": 33,
   "metadata": {
    "ExecuteTime": {
     "end_time": "2021-03-13T12:24:39.542780Z",
     "start_time": "2021-03-13T12:24:39.533732Z"
    }
   },
   "outputs": [
    {
     "data": {
      "text/plain": [
       "269"
      ]
     },
     "execution_count": 33,
     "metadata": {},
     "output_type": "execute_result"
    }
   ],
   "source": [
    "len(df)"
   ]
  },
  {
   "cell_type": "code",
   "execution_count": 34,
   "metadata": {
    "ExecuteTime": {
     "end_time": "2021-03-13T12:24:42.552016Z",
     "start_time": "2021-03-13T12:24:42.544864Z"
    }
   },
   "outputs": [],
   "source": [
    "existing = []\n",
    "for i in df.Url:\n",
    "    existing.append(i[17:])"
   ]
  },
  {
   "cell_type": "code",
   "execution_count": 35,
   "metadata": {
    "ExecuteTime": {
     "end_time": "2021-03-13T12:24:48.354894Z",
     "start_time": "2021-03-13T12:24:48.349550Z"
    }
   },
   "outputs": [],
   "source": [
    "#Loop through pages\n",
    "urls = []\n",
    "urls.append('https://www.ss.lv/lv/real-estate/flats/jurmala/sell/')\n",
    "for i in range(1, 16):\n",
    "    dz = \"https://www.ss.lv/lv/real-estate/flats/jurmala/sell/page\"+str(i)+\".html\"\n",
    "    urls.append(dz)    "
   ]
  },
  {
   "cell_type": "code",
   "execution_count": 37,
   "metadata": {
    "ExecuteTime": {
     "end_time": "2021-03-13T12:25:10.570788Z",
     "start_time": "2021-03-13T12:25:04.402103Z"
    }
   },
   "outputs": [],
   "source": [
    "#Include all Jurmala. After EDA can reduce it to +- 5 km.m \n",
    "a = []\n",
    "for url in urls:\n",
    "    r = requests.get(url)\n",
    "    data = r.text\n",
    "    soup = BeautifulSoup(data)\n",
    "    for link in soup.find_all('a', href=True):\n",
    "        if link['href'].startswith( '/msg' ) and link['href'] not in a and link['href'] not in existing:\n",
    "            a.append(link['href'])"
   ]
  },
  {
   "cell_type": "code",
   "execution_count": 39,
   "metadata": {
    "ExecuteTime": {
     "end_time": "2021-03-13T12:25:14.988411Z",
     "start_time": "2021-03-13T12:25:14.967560Z"
    }
   },
   "outputs": [],
   "source": [
    "url_ss = \"https://www.ss.lv\"\n",
    "for i in a:\n",
    "    ex = []\n",
    "    bildes = []\n",
    "    full_web_address = url_ss+i\n",
    "    #print(full_web_address)\n",
    "    ex.append(full_web_address)\n",
    "    r = requests.get(full_web_address)\n",
    "    data = r.text\n",
    "    soup = BeautifulSoup(data)\n",
    "    #print()    \n",
    "    table_MN = pd.read_html(full_web_address)\n",
    "\n",
    "    frames = [table_MN[3], table_MN[4], table_MN[5]]\n",
    "    result = pd.concat(frames)\n",
    "\n",
    "    for i in ['Pilsēta:', 'Rajons:', 'Iela:', 'Istabas:','Platība:','Stāvs:', 'Sērija:', 'Mājas tips:', 'Ērtības:','Cena:']:\n",
    "        if i in result[0].unique():\n",
    "            ex.append(result.loc[result[0] == i, (1)].item())\n",
    "        else:\n",
    "            ex.append('FALSE')\n",
    "    if table_MN[7].shape[0] == 4:\n",
    "        ex.append(table_MN[7][2][1][8:])\n",
    "        ex.append(table_MN[7][2][2][28:])\n",
    "    else:\n",
    "        ex.append(table_MN[8][2][1][8:])\n",
    "        ex.append(table_MN[8][2][2][28:])\n",
    "    #Datums\n",
    "    ex.append(datetime.datetime.now())\n",
    "    #Advertisment text. Just in case. Todays mission is just to get it working. run now analyse later. \n",
    "    ex.append(str(soup.find_all(\"div\", {\"id\": \"msg_div_msg\"})))\n",
    "    \n",
    "    for link in soup.find_all('a', href=True):\n",
    "        if 'gallery' in link['href']:\n",
    "            bildes.append(link['href'])\n",
    "    ex.append(bildes)       \n",
    "    df.loc[len(df)]= ex"
   ]
  },
  {
   "cell_type": "code",
   "execution_count": 17,
   "metadata": {
    "ExecuteTime": {
     "end_time": "2021-03-13T12:18:39.655135Z",
     "start_time": "2021-03-13T12:18:39.557602Z"
    }
   },
   "outputs": [],
   "source": [
    "df.to_csv('Jurmala20210313.csv',index = False)"
   ]
  },
  {
   "cell_type": "code",
   "execution_count": 31,
   "metadata": {
    "ExecuteTime": {
     "end_time": "2021-03-13T12:23:38.763334Z",
     "start_time": "2021-03-13T12:23:38.691310Z"
    }
   },
   "outputs": [
    {
     "name": "stdout",
     "output_type": "stream",
     "text": [
      "Pilsēta\n",
      "Jūrmala    269\n",
      "Name: Pilsēta, dtype: int64\n",
      "\n",
      "Rajons\n",
      "Bulduri        62\n",
      "Dzintari       55\n",
      "Kauguri        40\n",
      "Majori         25\n",
      "Lielupe        19\n",
      "Dubulti        17\n",
      "Pumpuri        15\n",
      "Melluži        11\n",
      "Asari          10\n",
      "Jaundubulti     9\n",
      "Sloka           4\n",
      "Buļļuciems      1\n",
      "Ķemeri          1\n",
      "Name: Rajons, dtype: int64\n",
      "\n",
      "Iela\n",
      "Dzintaru prospekts 48 [Karte]     6\n",
      "Jasminu 9 [Karte]                 6\n",
      "Asaru prospekts 57 [Karte]        5\n",
      "Rigas iela 90 [Karte]             4\n",
      "Mežaparka prospekts 10 [Karte]    4\n",
      "                                 ..\n",
      "Tīklu iela 11 [Karte]             1\n",
      "Slokas iela 63/8 [Karte]          1\n",
      "Turaidas iela 17 [Karte]          1\n",
      "Bulduru prospekts 17 [Karte]      1\n",
      "Hercoga Jekaba 10 [Karte]         1\n",
      "Name: Iela, Length: 193, dtype: int64\n",
      "\n",
      "Istabas\n",
      "2    91\n",
      "3    86\n",
      "4    45\n",
      "3    15\n",
      "1    14\n",
      "2     9\n",
      "4     5\n",
      "1     1\n",
      "5     1\n",
      "6     1\n",
      "5     1\n",
      "Name: Istabas, dtype: int64\n",
      "\n",
      "Platība\n",
      "50 m²        10\n",
      "47 m²         7\n",
      "55 m²         7\n",
      "52 m²         7\n",
      "64 m²         6\n",
      "             ..\n",
      "102.10 m²     1\n",
      "142 m²        1\n",
      "164 m²        1\n",
      "178 m²        1\n",
      "131.80 m²     1\n",
      "Name: Platība, Length: 128, dtype: int64\n",
      "\n",
      "Stāvs\n",
      "2/3/lifts     28\n",
      "1/4/lifts     24\n",
      "2/3           18\n",
      "1/3/lifts     15\n",
      "1/3           14\n",
      "5/5           14\n",
      "1/2           12\n",
      "3/3/lifts     11\n",
      "2/4/lifts     11\n",
      "1/5           10\n",
      "2/2           10\n",
      "3/3            9\n",
      "2/4            8\n",
      "3/4/lifts      7\n",
      "4/5            6\n",
      "3/4            5\n",
      "4/4            5\n",
      "1/1            5\n",
      "01-Mar         4\n",
      "5/5/lifts      4\n",
      "5/9/lifts      3\n",
      "3/5            3\n",
      "3/5/lifts      3\n",
      "03-Apr         3\n",
      "1/4            3\n",
      "2/6            2\n",
      "1/9/lifts      2\n",
      "2/5            2\n",
      "01-Apr         2\n",
      "02-Apr         2\n",
      "1/6            2\n",
      "02-Mar         2\n",
      "01-May         2\n",
      "6/6/lifts      2\n",
      "4/9/lifts      1\n",
      "2/5/lifts      1\n",
      "2/2/lifts      1\n",
      "4/4/lifts      1\n",
      "1/5/lifts      1\n",
      "3/8            1\n",
      "1/9            1\n",
      "6/9/lifts      1\n",
      "2/6/lifts      1\n",
      "8/9/lifts      1\n",
      "9/10/lifts     1\n",
      "5/8            1\n",
      "6/8/lifts      1\n",
      "03-Mar         1\n",
      "3/9/lifts      1\n",
      "04-Apr         1\n",
      "Name: Stāvs, dtype: int64\n",
      "\n",
      "Sērija\n",
      "Jaun.       167\n",
      "Specpr.      29\n",
      "Renov.       22\n",
      "103.         16\n",
      "P. kara       7\n",
      "602.          6\n",
      "Hrušč.        6\n",
      "Priv. m.      5\n",
      "467.          5\n",
      "103           3\n",
      "M. ģim.       1\n",
      "104           1\n",
      "Čehu pr.      1\n",
      "Name: Sērija, dtype: int64\n",
      "\n",
      "Mājas tips\n",
      "Mūra                85\n",
      "Ķieģeļu-paneļu      54\n",
      "Paneļu              40\n",
      "Ķieģeļu             38\n",
      "Paneļu - ķieģeļu    33\n",
      "Koka                19\n",
      "Name: Mājas tips, dtype: int64\n",
      "\n",
      "Ērtības:\n",
      "FALSE                                         95\n",
      "Terase, Parkošanas vieta                      30\n",
      "Balkons, Parkošanas vieta                     25\n",
      "Terase                                        23\n",
      "Lodžija                                       19\n",
      "Balkons                                       18\n",
      "Parkošanas vieta                              14\n",
      "Balkons, Terase, Parkošanas vieta             13\n",
      "Lodžija, Parkošanas vieta                      9\n",
      "Balkons, Lodžija                               5\n",
      "Lodžija, Terase, Parkošanas vieta              5\n",
      "Balkons, Terase                                4\n",
      "Lodžija, Terase                                2\n",
      "Balkons, Lodžija, Parkošanas vieta             2\n",
      "Balkons, Lodžija, Terase, Parkošanas vieta     2\n",
      "Terase, Pirts, Parkošanas vieta                1\n",
      "Balkons, Terase, Pirts, Parkošanas vieta       1\n",
      "Pirts                                          1\n",
      "Name: Ērtības:, dtype: int64\n",
      "\n",
      "Cena\n",
      "153 800 € (2 480.65 €/m²)    3\n",
      "116 000 € (2 468.09 €/m²)    2\n",
      "32 000 € (1 142.86 €/m²)     2\n",
      "124 000 € (2 384.62 €/m²)    2\n",
      "300 000 € (3 092.78 €/m²)    2\n",
      "                            ..\n",
      "890 000 € (5 894.04 €/m²)    1\n",
      "340 220 € (1 955.29 €/m²)    1\n",
      "155 184 € (2 821.53 €/m²)    1\n",
      "325 000 € (2 210.88 €/m²)    1\n",
      "159 000 € (2 694.92 €/m²)    1\n",
      "Name: Cena, Length: 252, dtype: int64\n",
      "\n",
      "Datums\n",
      "17.02.2021 11:17    3\n",
      "23.02.2021 18:05    3\n",
      "09.03.2021 11:13    2\n",
      "12.03.2021 19:07    2\n",
      "10.03.2021 13:32    2\n",
      "                   ..\n",
      "02.03.2021 12:15    1\n",
      "26.02.2021 17:14    1\n",
      "19.02.2021 10:34    1\n",
      "24.01.2021 23:19    1\n",
      "28.02.2021 11:17    1\n",
      "Name: Datums, Length: 252, dtype: int64\n",
      "\n"
     ]
    }
   ],
   "source": [
    "for column in df.columns[1:-4]:\n",
    "    print(column)\n",
    "    print(df[column].value_counts())\n",
    "    print()"
   ]
  },
  {
   "cell_type": "markdown",
   "metadata": {
    "heading_collapsed": true
   },
   "source": [
    "# THIS IS GOLD"
   ]
  },
  {
   "cell_type": "code",
   "execution_count": null,
   "metadata": {
    "ExecuteTime": {
     "end_time": "2021-03-12T12:29:44.531918Z",
     "start_time": "2021-03-12T12:29:44.520564Z"
    },
    "hidden": true
   },
   "outputs": [],
   "source": [
    "datums = pd.to_datetime('2021-02-15 13:39:51')\n",
    "datumi = []\n",
    "for i in range(0,len(df)):\n",
    "    x = datums + datetime.timedelta(seconds=i)\n",
    "    print(x)\n",
    "    datumi.append(str(x))"
   ]
  },
  {
   "cell_type": "code",
   "execution_count": null,
   "metadata": {
    "ExecuteTime": {
     "end_time": "2021-03-12T12:22:32.837492Z",
     "start_time": "2021-03-12T12:22:32.796912Z"
    },
    "hidden": true
   },
   "outputs": [],
   "source": [
    "import numpy as np\n",
    "\n",
    "df['web_date'] = np.resize(datumi,len(df))"
   ]
  },
  {
   "cell_type": "code",
   "execution_count": null,
   "metadata": {
    "ExecuteTime": {
     "end_time": "2021-03-12T12:25:40.946047Z",
     "start_time": "2021-03-12T12:25:39.914448Z"
    },
    "hidden": true
   },
   "outputs": [],
   "source": [
    "df.web_date.describe()"
   ]
  },
  {
   "cell_type": "code",
   "execution_count": null,
   "metadata": {
    "hidden": true
   },
   "outputs": [],
   "source": [
    "https://www.ss.lv//msg/lv/real-estate/flats/jurmala/dzintari/agdic.html#photo-11"
   ]
  }
 ],
 "metadata": {
  "kernelspec": {
   "display_name": "Python 3",
   "language": "python",
   "name": "python3"
  },
  "language_info": {
   "codemirror_mode": {
    "name": "ipython",
    "version": 3
   },
   "file_extension": ".py",
   "mimetype": "text/x-python",
   "name": "python",
   "nbconvert_exporter": "python",
   "pygments_lexer": "ipython3",
   "version": "3.7.4"
  },
  "toc": {
   "base_numbering": 1,
   "nav_menu": {},
   "number_sections": true,
   "sideBar": true,
   "skip_h1_title": false,
   "title_cell": "Table of Contents",
   "title_sidebar": "Contents",
   "toc_cell": false,
   "toc_position": {},
   "toc_section_display": true,
   "toc_window_display": false
  }
 },
 "nbformat": 4,
 "nbformat_minor": 2
}
