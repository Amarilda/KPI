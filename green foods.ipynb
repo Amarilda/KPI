{
 "cells": [
  {
   "cell_type": "code",
   "execution_count": 1,
   "metadata": {
    "ExecuteTime": {
     "end_time": "2021-02-09T11:19:33.325369Z",
     "start_time": "2021-02-09T11:19:25.026835Z"
    }
   },
   "outputs": [],
   "source": [
    "import pandas as pd"
   ]
  },
  {
   "cell_type": "markdown",
   "metadata": {},
   "source": [
    "recipes = pd.read_excel(\"RECIPE_BOOK.xlsx\")\n",
    "recipes"
   ]
  },
  {
   "cell_type": "code",
   "execution_count": 35,
   "metadata": {
    "ExecuteTime": {
     "end_time": "2021-02-09T11:56:01.704858Z",
     "start_time": "2021-02-09T11:55:52.462925Z"
    }
   },
   "outputs": [],
   "source": [
    "df = pd.read_excel(\"/Users/Edite/foods.xlsx\")"
   ]
  },
  {
   "cell_type": "code",
   "execution_count": 49,
   "metadata": {
    "ExecuteTime": {
     "end_time": "2021-02-09T12:06:07.128454Z",
     "start_time": "2021-02-09T12:06:07.068317Z"
    }
   },
   "outputs": [
    {
     "data": {
      "text/html": [
       "<div>\n",
       "<style scoped>\n",
       "    .dataframe tbody tr th:only-of-type {\n",
       "        vertical-align: middle;\n",
       "    }\n",
       "\n",
       "    .dataframe tbody tr th {\n",
       "        vertical-align: top;\n",
       "    }\n",
       "\n",
       "    .dataframe thead th {\n",
       "        text-align: right;\n",
       "    }\n",
       "</style>\n",
       "<table border=\"1\" class=\"dataframe\">\n",
       "  <thead>\n",
       "    <tr style=\"text-align: right;\">\n",
       "      <th></th>\n",
       "      <th>NDB_No</th>\n",
       "      <th>Shrt_Desc</th>\n",
       "      <th>Water_(g)</th>\n",
       "      <th>Energ_Kcal</th>\n",
       "      <th>Protein_(g)</th>\n",
       "      <th>Lipid_Tot_(g)</th>\n",
       "      <th>Ash_(g)</th>\n",
       "      <th>Carbohydrt_(g)</th>\n",
       "      <th>Fiber_TD_(g)</th>\n",
       "      <th>Sugar_Tot_(g)</th>\n",
       "      <th>...</th>\n",
       "      <th>Vit_K_(µg)</th>\n",
       "      <th>FA_Sat_(g)</th>\n",
       "      <th>FA_Mono_(g)</th>\n",
       "      <th>FA_Poly_(g)</th>\n",
       "      <th>Cholestrl_(mg)</th>\n",
       "      <th>GmWt_1</th>\n",
       "      <th>GmWt_Desc1</th>\n",
       "      <th>GmWt_2</th>\n",
       "      <th>GmWt_Desc2</th>\n",
       "      <th>Refuse_Pct</th>\n",
       "    </tr>\n",
       "  </thead>\n",
       "  <tbody>\n",
       "    <tr>\n",
       "      <th>3642</th>\n",
       "      <td>12006</td>\n",
       "      <td>CHIA SEEDS,DRIED</td>\n",
       "      <td>5.8</td>\n",
       "      <td>486</td>\n",
       "      <td>16.54</td>\n",
       "      <td>30.74</td>\n",
       "      <td>4.8</td>\n",
       "      <td>42.12</td>\n",
       "      <td>34.4</td>\n",
       "      <td>NaN</td>\n",
       "      <td>...</td>\n",
       "      <td>NaN</td>\n",
       "      <td>3.33</td>\n",
       "      <td>2.309</td>\n",
       "      <td>23.665</td>\n",
       "      <td>0.0</td>\n",
       "      <td>28.0</td>\n",
       "      <td>1 oz</td>\n",
       "      <td>NaN</td>\n",
       "      <td>NaN</td>\n",
       "      <td>0.0</td>\n",
       "    </tr>\n",
       "  </tbody>\n",
       "</table>\n",
       "<p>1 rows × 53 columns</p>\n",
       "</div>"
      ],
      "text/plain": [
       "      NDB_No         Shrt_Desc  Water_(g)  Energ_Kcal  Protein_(g)  \\\n",
       "3642   12006  CHIA SEEDS,DRIED        5.8         486        16.54   \n",
       "\n",
       "      Lipid_Tot_(g)  Ash_(g)  Carbohydrt_(g)  Fiber_TD_(g)  Sugar_Tot_(g)  \\\n",
       "3642          30.74      4.8           42.12          34.4            NaN   \n",
       "\n",
       "      ...  Vit_K_(µg)  FA_Sat_(g)  FA_Mono_(g)  FA_Poly_(g)  Cholestrl_(mg)  \\\n",
       "3642  ...         NaN        3.33        2.309       23.665             0.0   \n",
       "\n",
       "      GmWt_1  GmWt_Desc1  GmWt_2  GmWt_Desc2  Refuse_Pct  \n",
       "3642    28.0        1 oz     NaN         NaN         0.0  \n",
       "\n",
       "[1 rows x 53 columns]"
      ]
     },
     "execution_count": 49,
     "metadata": {},
     "output_type": "execute_result"
    }
   ],
   "source": [
    "df[df.Shrt_Desc.str.contains('CHIA') == True]"
   ]
  },
  {
   "cell_type": "code",
   "execution_count": 50,
   "metadata": {
    "ExecuteTime": {
     "end_time": "2021-02-09T12:09:11.568676Z",
     "start_time": "2021-02-09T12:09:11.521014Z"
    }
   },
   "outputs": [
    {
     "data": {
      "text/html": [
       "<div>\n",
       "<style scoped>\n",
       "    .dataframe tbody tr th:only-of-type {\n",
       "        vertical-align: middle;\n",
       "    }\n",
       "\n",
       "    .dataframe tbody tr th {\n",
       "        vertical-align: top;\n",
       "    }\n",
       "\n",
       "    .dataframe thead th {\n",
       "        text-align: right;\n",
       "    }\n",
       "</style>\n",
       "<table border=\"1\" class=\"dataframe\">\n",
       "  <thead>\n",
       "    <tr style=\"text-align: right;\">\n",
       "      <th></th>\n",
       "      <th>NDB_No</th>\n",
       "      <th>Shrt_Desc</th>\n",
       "      <th>Water_(g)</th>\n",
       "      <th>Energ_Kcal</th>\n",
       "      <th>Protein_(g)</th>\n",
       "      <th>Lipid_Tot_(g)</th>\n",
       "      <th>Ash_(g)</th>\n",
       "      <th>Carbohydrt_(g)</th>\n",
       "      <th>Fiber_TD_(g)</th>\n",
       "      <th>Sugar_Tot_(g)</th>\n",
       "      <th>...</th>\n",
       "      <th>Vit_K_(µg)</th>\n",
       "      <th>FA_Sat_(g)</th>\n",
       "      <th>FA_Mono_(g)</th>\n",
       "      <th>FA_Poly_(g)</th>\n",
       "      <th>Cholestrl_(mg)</th>\n",
       "      <th>GmWt_1</th>\n",
       "      <th>GmWt_Desc1</th>\n",
       "      <th>GmWt_2</th>\n",
       "      <th>GmWt_Desc2</th>\n",
       "      <th>Refuse_Pct</th>\n",
       "    </tr>\n",
       "  </thead>\n",
       "  <tbody>\n",
       "    <tr>\n",
       "      <th>93</th>\n",
       "      <td>1105</td>\n",
       "      <td>MILK,CHOC BEV,HOT COCOA,HOMEMADE</td>\n",
       "      <td>82.45</td>\n",
       "      <td>77</td>\n",
       "      <td>3.52</td>\n",
       "      <td>2.34</td>\n",
       "      <td>0.65</td>\n",
       "      <td>10.74</td>\n",
       "      <td>1.0</td>\n",
       "      <td>9.66</td>\n",
       "      <td>...</td>\n",
       "      <td>0.2</td>\n",
       "      <td>1.431</td>\n",
       "      <td>0.677</td>\n",
       "      <td>0.084</td>\n",
       "      <td>8.0</td>\n",
       "      <td>250.0</td>\n",
       "      <td>1 cup</td>\n",
       "      <td>31.2</td>\n",
       "      <td>1 fl oz</td>\n",
       "      <td>0.0</td>\n",
       "    </tr>\n",
       "    <tr>\n",
       "      <th>6145</th>\n",
       "      <td>19165</td>\n",
       "      <td>COCOA,DRY PDR,UNSWTND</td>\n",
       "      <td>3.00</td>\n",
       "      <td>228</td>\n",
       "      <td>19.60</td>\n",
       "      <td>13.70</td>\n",
       "      <td>5.80</td>\n",
       "      <td>57.90</td>\n",
       "      <td>37.0</td>\n",
       "      <td>1.75</td>\n",
       "      <td>...</td>\n",
       "      <td>2.5</td>\n",
       "      <td>8.070</td>\n",
       "      <td>4.570</td>\n",
       "      <td>0.440</td>\n",
       "      <td>0.0</td>\n",
       "      <td>86.0</td>\n",
       "      <td>1 cup</td>\n",
       "      <td>5.4</td>\n",
       "      <td>1 tbsp</td>\n",
       "      <td>0.0</td>\n",
       "    </tr>\n",
       "    <tr>\n",
       "      <th>6146</th>\n",
       "      <td>19166</td>\n",
       "      <td>COCOA,DRY PDR,UNSWTND,PROC W/ALKALI</td>\n",
       "      <td>2.70</td>\n",
       "      <td>220</td>\n",
       "      <td>18.10</td>\n",
       "      <td>13.10</td>\n",
       "      <td>7.80</td>\n",
       "      <td>58.30</td>\n",
       "      <td>29.8</td>\n",
       "      <td>1.76</td>\n",
       "      <td>...</td>\n",
       "      <td>2.4</td>\n",
       "      <td>7.760</td>\n",
       "      <td>4.390</td>\n",
       "      <td>0.420</td>\n",
       "      <td>0.0</td>\n",
       "      <td>86.0</td>\n",
       "      <td>1 cup</td>\n",
       "      <td>5.4</td>\n",
       "      <td>1 tbsp</td>\n",
       "      <td>0.0</td>\n",
       "    </tr>\n",
       "    <tr>\n",
       "      <th>6150</th>\n",
       "      <td>19171</td>\n",
       "      <td>COCOA,DRY PDR,UNSWTND,HERSHEY'S EUROPEAN STYLE...</td>\n",
       "      <td>NaN</td>\n",
       "      <td>400</td>\n",
       "      <td>20.00</td>\n",
       "      <td>10.00</td>\n",
       "      <td>NaN</td>\n",
       "      <td>60.00</td>\n",
       "      <td>20.0</td>\n",
       "      <td>0.00</td>\n",
       "      <td>...</td>\n",
       "      <td>NaN</td>\n",
       "      <td>0.000</td>\n",
       "      <td>NaN</td>\n",
       "      <td>NaN</td>\n",
       "      <td>0.0</td>\n",
       "      <td>5.0</td>\n",
       "      <td>1 tbsp</td>\n",
       "      <td>NaN</td>\n",
       "      <td>NaN</td>\n",
       "      <td>0.0</td>\n",
       "    </tr>\n",
       "    <tr>\n",
       "      <th>6371</th>\n",
       "      <td>19859</td>\n",
       "      <td>COCOA,DRY PDR,HI-FAT OR BRKFST,PLN</td>\n",
       "      <td>3.00</td>\n",
       "      <td>486</td>\n",
       "      <td>16.80</td>\n",
       "      <td>23.71</td>\n",
       "      <td>5.10</td>\n",
       "      <td>51.39</td>\n",
       "      <td>29.8</td>\n",
       "      <td>1.55</td>\n",
       "      <td>...</td>\n",
       "      <td>2.3</td>\n",
       "      <td>12.640</td>\n",
       "      <td>7.380</td>\n",
       "      <td>0.769</td>\n",
       "      <td>0.0</td>\n",
       "      <td>5.0</td>\n",
       "      <td>1 tbsp</td>\n",
       "      <td>NaN</td>\n",
       "      <td>NaN</td>\n",
       "      <td>0.0</td>\n",
       "    </tr>\n",
       "    <tr>\n",
       "      <th>6372</th>\n",
       "      <td>19860</td>\n",
       "      <td>COCOA,DRY PDR,HI-FAT OR BRKFST,PROC W/ALKALI</td>\n",
       "      <td>3.00</td>\n",
       "      <td>479</td>\n",
       "      <td>16.80</td>\n",
       "      <td>23.71</td>\n",
       "      <td>6.79</td>\n",
       "      <td>49.71</td>\n",
       "      <td>33.9</td>\n",
       "      <td>1.53</td>\n",
       "      <td>...</td>\n",
       "      <td>4.4</td>\n",
       "      <td>12.640</td>\n",
       "      <td>7.380</td>\n",
       "      <td>0.769</td>\n",
       "      <td>0.0</td>\n",
       "      <td>6.0</td>\n",
       "      <td>1 tablespoon,  Ghirardelli label 2011</td>\n",
       "      <td>5.0</td>\n",
       "      <td>1 tablespoon,  Hershey's label 2011</td>\n",
       "      <td>0.0</td>\n",
       "    </tr>\n",
       "  </tbody>\n",
       "</table>\n",
       "<p>6 rows × 53 columns</p>\n",
       "</div>"
      ],
      "text/plain": [
       "      NDB_No                                          Shrt_Desc  Water_(g)  \\\n",
       "93      1105                   MILK,CHOC BEV,HOT COCOA,HOMEMADE      82.45   \n",
       "6145   19165                              COCOA,DRY PDR,UNSWTND       3.00   \n",
       "6146   19166                COCOA,DRY PDR,UNSWTND,PROC W/ALKALI       2.70   \n",
       "6150   19171  COCOA,DRY PDR,UNSWTND,HERSHEY'S EUROPEAN STYLE...        NaN   \n",
       "6371   19859                 COCOA,DRY PDR,HI-FAT OR BRKFST,PLN       3.00   \n",
       "6372   19860       COCOA,DRY PDR,HI-FAT OR BRKFST,PROC W/ALKALI       3.00   \n",
       "\n",
       "      Energ_Kcal  Protein_(g)  Lipid_Tot_(g)  Ash_(g)  Carbohydrt_(g)  \\\n",
       "93            77         3.52           2.34     0.65           10.74   \n",
       "6145         228        19.60          13.70     5.80           57.90   \n",
       "6146         220        18.10          13.10     7.80           58.30   \n",
       "6150         400        20.00          10.00      NaN           60.00   \n",
       "6371         486        16.80          23.71     5.10           51.39   \n",
       "6372         479        16.80          23.71     6.79           49.71   \n",
       "\n",
       "      Fiber_TD_(g)  Sugar_Tot_(g)  ...  Vit_K_(µg)  FA_Sat_(g)  FA_Mono_(g)  \\\n",
       "93             1.0           9.66  ...         0.2       1.431        0.677   \n",
       "6145          37.0           1.75  ...         2.5       8.070        4.570   \n",
       "6146          29.8           1.76  ...         2.4       7.760        4.390   \n",
       "6150          20.0           0.00  ...         NaN       0.000          NaN   \n",
       "6371          29.8           1.55  ...         2.3      12.640        7.380   \n",
       "6372          33.9           1.53  ...         4.4      12.640        7.380   \n",
       "\n",
       "      FA_Poly_(g)  Cholestrl_(mg)  GmWt_1  \\\n",
       "93          0.084             8.0   250.0   \n",
       "6145        0.440             0.0    86.0   \n",
       "6146        0.420             0.0    86.0   \n",
       "6150          NaN             0.0     5.0   \n",
       "6371        0.769             0.0     5.0   \n",
       "6372        0.769             0.0     6.0   \n",
       "\n",
       "                                 GmWt_Desc1  GmWt_2  \\\n",
       "93                                    1 cup    31.2   \n",
       "6145                                  1 cup     5.4   \n",
       "6146                                  1 cup     5.4   \n",
       "6150                                 1 tbsp     NaN   \n",
       "6371                                 1 tbsp     NaN   \n",
       "6372  1 tablespoon,  Ghirardelli label 2011     5.0   \n",
       "\n",
       "                               GmWt_Desc2  Refuse_Pct  \n",
       "93                                1 fl oz         0.0  \n",
       "6145                               1 tbsp         0.0  \n",
       "6146                               1 tbsp         0.0  \n",
       "6150                                  NaN         0.0  \n",
       "6371                                  NaN         0.0  \n",
       "6372  1 tablespoon,  Hershey's label 2011         0.0  \n",
       "\n",
       "[6 rows x 53 columns]"
      ]
     },
     "execution_count": 50,
     "metadata": {},
     "output_type": "execute_result"
    }
   ],
   "source": [
    "df[df.Shrt_Desc.str.contains('COCOA,') == True]"
   ]
  },
  {
   "cell_type": "code",
   "execution_count": 5,
   "metadata": {
    "ExecuteTime": {
     "end_time": "2021-02-09T11:19:45.447769Z",
     "start_time": "2021-02-09T11:19:45.440924Z"
    },
    "scrolled": true
   },
   "outputs": [],
   "source": [
    "kcal = 1609\n",
    "carbs = 20\n",
    "protein = 106\n",
    "fat = 123"
   ]
  },
  {
   "cell_type": "code",
   "execution_count": 36,
   "metadata": {
    "ExecuteTime": {
     "end_time": "2021-02-09T11:56:01.724460Z",
     "start_time": "2021-02-09T11:56:01.707695Z"
    }
   },
   "outputs": [],
   "source": [
    "trenger = ['NDB_No', 'Shrt_Desc','Energ_Kcal', 'Protein_(g)','Lipid_Tot_(g)', 'Carbohydrt_(g)','Fiber_TD_(g)']"
   ]
  },
  {
   "cell_type": "code",
   "execution_count": 37,
   "metadata": {
    "ExecuteTime": {
     "end_time": "2021-02-09T11:56:02.746376Z",
     "start_time": "2021-02-09T11:56:02.737380Z"
    }
   },
   "outputs": [],
   "source": [
    "sodiena = df[trenger ]\n",
    "sodiena = sodiena[df.NDB_No.isin([1123,9038,10123,1005,18375]) ]"
   ]
  },
  {
   "cell_type": "code",
   "execution_count": 38,
   "metadata": {
    "ExecuteTime": {
     "end_time": "2021-02-09T11:56:03.974743Z",
     "start_time": "2021-02-09T11:56:03.967613Z"
    }
   },
   "outputs": [],
   "source": [
    "sodiena['QUANT'] = [1,3, 1.36, 1.12, 0.05]"
   ]
  },
  {
   "cell_type": "code",
   "execution_count": 39,
   "metadata": {
    "ExecuteTime": {
     "end_time": "2021-02-09T11:56:05.185546Z",
     "start_time": "2021-02-09T11:56:05.169344Z"
    }
   },
   "outputs": [],
   "source": [
    "sodiena['Net_carbs'] = sodiena['Carbohydrt_(g)'] - sodiena['Fiber_TD_(g)']"
   ]
  },
  {
   "cell_type": "code",
   "execution_count": 10,
   "metadata": {
    "ExecuteTime": {
     "end_time": "2021-02-09T11:19:45.615634Z",
     "start_time": "2021-02-09T11:19:45.572949Z"
    }
   },
   "outputs": [
    {
     "data": {
      "text/html": [
       "<div>\n",
       "<style scoped>\n",
       "    .dataframe tbody tr th:only-of-type {\n",
       "        vertical-align: middle;\n",
       "    }\n",
       "\n",
       "    .dataframe tbody tr th {\n",
       "        vertical-align: top;\n",
       "    }\n",
       "\n",
       "    .dataframe thead th {\n",
       "        text-align: right;\n",
       "    }\n",
       "</style>\n",
       "<table border=\"1\" class=\"dataframe\">\n",
       "  <thead>\n",
       "    <tr style=\"text-align: right;\">\n",
       "      <th></th>\n",
       "      <th>NDB_No</th>\n",
       "      <th>Shrt_Desc</th>\n",
       "      <th>Energ_Kcal</th>\n",
       "      <th>Protein_(g)</th>\n",
       "      <th>Lipid_Tot_(g)</th>\n",
       "      <th>Carbohydrt_(g)</th>\n",
       "      <th>Fiber_TD_(g)</th>\n",
       "      <th>QUANT</th>\n",
       "      <th>Net_carbs</th>\n",
       "    </tr>\n",
       "  </thead>\n",
       "  <tbody>\n",
       "    <tr>\n",
       "      <th>4</th>\n",
       "      <td>1005</td>\n",
       "      <td>CHEESE,BRICK</td>\n",
       "      <td>371</td>\n",
       "      <td>23.24</td>\n",
       "      <td>29.68</td>\n",
       "      <td>2.79</td>\n",
       "      <td>0.0</td>\n",
       "      <td>1.00</td>\n",
       "      <td>2.79</td>\n",
       "    </tr>\n",
       "    <tr>\n",
       "      <th>111</th>\n",
       "      <td>1123</td>\n",
       "      <td>EGG,WHL,RAW,FRSH</td>\n",
       "      <td>143</td>\n",
       "      <td>12.56</td>\n",
       "      <td>9.51</td>\n",
       "      <td>0.72</td>\n",
       "      <td>0.0</td>\n",
       "      <td>3.00</td>\n",
       "      <td>0.72</td>\n",
       "    </tr>\n",
       "    <tr>\n",
       "      <th>2205</th>\n",
       "      <td>9038</td>\n",
       "      <td>AVOCADOS,RAW,CALIFORNIA</td>\n",
       "      <td>167</td>\n",
       "      <td>1.96</td>\n",
       "      <td>15.41</td>\n",
       "      <td>8.64</td>\n",
       "      <td>6.8</td>\n",
       "      <td>1.36</td>\n",
       "      <td>1.84</td>\n",
       "    </tr>\n",
       "    <tr>\n",
       "      <th>2631</th>\n",
       "      <td>10123</td>\n",
       "      <td>PORK,CURED,BACON,UNPREP</td>\n",
       "      <td>417</td>\n",
       "      <td>12.62</td>\n",
       "      <td>39.69</td>\n",
       "      <td>1.28</td>\n",
       "      <td>0.0</td>\n",
       "      <td>1.12</td>\n",
       "      <td>1.28</td>\n",
       "    </tr>\n",
       "    <tr>\n",
       "      <th>5817</th>\n",
       "      <td>18375</td>\n",
       "      <td>LEAVENING AGENTS,YEAST,BAKER'S,ACTIVE DRY</td>\n",
       "      <td>325</td>\n",
       "      <td>40.44</td>\n",
       "      <td>7.61</td>\n",
       "      <td>41.22</td>\n",
       "      <td>26.9</td>\n",
       "      <td>0.05</td>\n",
       "      <td>14.32</td>\n",
       "    </tr>\n",
       "  </tbody>\n",
       "</table>\n",
       "</div>"
      ],
      "text/plain": [
       "      NDB_No                                  Shrt_Desc  Energ_Kcal  \\\n",
       "4       1005                               CHEESE,BRICK         371   \n",
       "111     1123                           EGG,WHL,RAW,FRSH         143   \n",
       "2205    9038                    AVOCADOS,RAW,CALIFORNIA         167   \n",
       "2631   10123                    PORK,CURED,BACON,UNPREP         417   \n",
       "5817   18375  LEAVENING AGENTS,YEAST,BAKER'S,ACTIVE DRY         325   \n",
       "\n",
       "      Protein_(g)  Lipid_Tot_(g)  Carbohydrt_(g)  Fiber_TD_(g)  QUANT  \\\n",
       "4           23.24          29.68            2.79           0.0   1.00   \n",
       "111         12.56           9.51            0.72           0.0   3.00   \n",
       "2205         1.96          15.41            8.64           6.8   1.36   \n",
       "2631        12.62          39.69            1.28           0.0   1.12   \n",
       "5817        40.44           7.61           41.22          26.9   0.05   \n",
       "\n",
       "      Net_carbs  \n",
       "4          2.79  \n",
       "111        0.72  \n",
       "2205       1.84  \n",
       "2631       1.28  \n",
       "5817      14.32  "
      ]
     },
     "execution_count": 10,
     "metadata": {},
     "output_type": "execute_result"
    }
   ],
   "source": [
    "sodiena"
   ]
  },
  {
   "cell_type": "code",
   "execution_count": 21,
   "metadata": {
    "ExecuteTime": {
     "end_time": "2021-02-09T11:46:48.318354Z",
     "start_time": "2021-02-09T11:46:48.296176Z"
    }
   },
   "outputs": [
    {
     "data": {
      "text/html": [
       "<div>\n",
       "<style scoped>\n",
       "    .dataframe tbody tr th:only-of-type {\n",
       "        vertical-align: middle;\n",
       "    }\n",
       "\n",
       "    .dataframe tbody tr th {\n",
       "        vertical-align: top;\n",
       "    }\n",
       "\n",
       "    .dataframe thead th {\n",
       "        text-align: right;\n",
       "    }\n",
       "</style>\n",
       "<table border=\"1\" class=\"dataframe\">\n",
       "  <thead>\n",
       "    <tr style=\"text-align: right;\">\n",
       "      <th></th>\n",
       "      <th>Energ_Kcal</th>\n",
       "      <th>Protein_(g)</th>\n",
       "      <th>Lipid_Tot_(g)</th>\n",
       "      <th>Carbohydrt_(g)</th>\n",
       "      <th>Net_carbs</th>\n",
       "    </tr>\n",
       "  </thead>\n",
       "  <tbody>\n",
       "    <tr>\n",
       "      <th>4</th>\n",
       "      <td>371.00</td>\n",
       "      <td>23.2400</td>\n",
       "      <td>29.6800</td>\n",
       "      <td>2.7900</td>\n",
       "      <td>2.7900</td>\n",
       "    </tr>\n",
       "    <tr>\n",
       "      <th>111</th>\n",
       "      <td>429.00</td>\n",
       "      <td>37.6800</td>\n",
       "      <td>28.5300</td>\n",
       "      <td>2.1600</td>\n",
       "      <td>2.1600</td>\n",
       "    </tr>\n",
       "    <tr>\n",
       "      <th>2205</th>\n",
       "      <td>227.12</td>\n",
       "      <td>2.6656</td>\n",
       "      <td>20.9576</td>\n",
       "      <td>11.7504</td>\n",
       "      <td>2.5024</td>\n",
       "    </tr>\n",
       "    <tr>\n",
       "      <th>2631</th>\n",
       "      <td>467.04</td>\n",
       "      <td>14.1344</td>\n",
       "      <td>44.4528</td>\n",
       "      <td>1.4336</td>\n",
       "      <td>1.4336</td>\n",
       "    </tr>\n",
       "    <tr>\n",
       "      <th>5817</th>\n",
       "      <td>16.25</td>\n",
       "      <td>2.0220</td>\n",
       "      <td>0.3805</td>\n",
       "      <td>2.0610</td>\n",
       "      <td>0.7160</td>\n",
       "    </tr>\n",
       "  </tbody>\n",
       "</table>\n",
       "</div>"
      ],
      "text/plain": [
       "      Energ_Kcal  Protein_(g)  Lipid_Tot_(g)  Carbohydrt_(g)  Net_carbs\n",
       "4         371.00      23.2400        29.6800          2.7900     2.7900\n",
       "111       429.00      37.6800        28.5300          2.1600     2.1600\n",
       "2205      227.12       2.6656        20.9576         11.7504     2.5024\n",
       "2631      467.04      14.1344        44.4528          1.4336     1.4336\n",
       "5817       16.25       2.0220         0.3805          2.0610     0.7160"
      ]
     },
     "execution_count": 21,
     "metadata": {},
     "output_type": "execute_result"
    }
   ],
   "source": [
    "sodiena[['Energ_Kcal', 'Protein_(g)','Lipid_Tot_(g)', 'Carbohydrt_(g)','Net_carbs']].multiply(sodiena[\"QUANT\"], axis=\"index\")"
   ]
  },
  {
   "cell_type": "code",
   "execution_count": 17,
   "metadata": {
    "ExecuteTime": {
     "end_time": "2021-02-09T11:21:26.664307Z",
     "start_time": "2021-02-09T11:21:26.650329Z"
    }
   },
   "outputs": [
    {
     "data": {
      "text/plain": [
       "Energ_Kcal        1510.4100\n",
       "Protein_(g)         79.7420\n",
       "Lipid_Tot_(g)      124.0009\n",
       "Carbohydrt_(g)      20.1950\n",
       "Net_carbs            9.6020\n",
       "dtype: float64"
      ]
     },
     "execution_count": 17,
     "metadata": {},
     "output_type": "execute_result"
    }
   ],
   "source": [
    "sodiena[['Energ_Kcal', 'Protein_(g)','Lipid_Tot_(g)', 'Carbohydrt_(g)','Net_carbs']].multiply(sodiena[\"QUANT\"], axis=\"index\").sum(axis=0)"
   ]
  },
  {
   "cell_type": "code",
   "execution_count": 13,
   "metadata": {
    "ExecuteTime": {
     "end_time": "2021-02-09T11:19:45.723817Z",
     "start_time": "2021-02-09T11:19:45.708552Z"
    }
   },
   "outputs": [],
   "source": [
    "kcal = 1609\n",
    "carbs = 20\n",
    "protein = 106\n",
    "fat = 123"
   ]
  },
  {
   "cell_type": "code",
   "execution_count": 45,
   "metadata": {
    "ExecuteTime": {
     "end_time": "2021-02-09T11:57:49.533457Z",
     "start_time": "2021-02-09T11:57:49.515434Z"
    }
   },
   "outputs": [],
   "source": [
    "one = pd.pivot_table(sodiena[['Shrt_Desc','Energ_Kcal', 'Protein_(g)','Lipid_Tot_(g)','Net_carbs','QUANT']],index=[\"Shrt_Desc\"])"
   ]
  },
  {
   "cell_type": "code",
   "execution_count": 47,
   "metadata": {
    "ExecuteTime": {
     "end_time": "2021-02-09T11:58:11.239354Z",
     "start_time": "2021-02-09T11:58:11.217254Z"
    }
   },
   "outputs": [
    {
     "data": {
      "text/html": [
       "<div>\n",
       "<style scoped>\n",
       "    .dataframe tbody tr th:only-of-type {\n",
       "        vertical-align: middle;\n",
       "    }\n",
       "\n",
       "    .dataframe tbody tr th {\n",
       "        vertical-align: top;\n",
       "    }\n",
       "\n",
       "    .dataframe thead th {\n",
       "        text-align: right;\n",
       "    }\n",
       "</style>\n",
       "<table border=\"1\" class=\"dataframe\">\n",
       "  <thead>\n",
       "    <tr style=\"text-align: right;\">\n",
       "      <th></th>\n",
       "      <th>Energ_Kcal</th>\n",
       "      <th>Protein_(g)</th>\n",
       "      <th>Lipid_Tot_(g)</th>\n",
       "      <th>Net_carbs</th>\n",
       "    </tr>\n",
       "    <tr>\n",
       "      <th>Shrt_Desc</th>\n",
       "      <th></th>\n",
       "      <th></th>\n",
       "      <th></th>\n",
       "      <th></th>\n",
       "    </tr>\n",
       "  </thead>\n",
       "  <tbody>\n",
       "    <tr>\n",
       "      <th>AVOCADOS,RAW,CALIFORNIA</th>\n",
       "      <td>227.12</td>\n",
       "      <td>2.6656</td>\n",
       "      <td>20.9576</td>\n",
       "      <td>2.5024</td>\n",
       "    </tr>\n",
       "    <tr>\n",
       "      <th>CHEESE,BRICK</th>\n",
       "      <td>371.00</td>\n",
       "      <td>23.2400</td>\n",
       "      <td>29.6800</td>\n",
       "      <td>2.7900</td>\n",
       "    </tr>\n",
       "    <tr>\n",
       "      <th>EGG,WHL,RAW,FRSH</th>\n",
       "      <td>429.00</td>\n",
       "      <td>37.6800</td>\n",
       "      <td>28.5300</td>\n",
       "      <td>2.1600</td>\n",
       "    </tr>\n",
       "    <tr>\n",
       "      <th>LEAVENING AGENTS,YEAST,BAKER'S,ACTIVE DRY</th>\n",
       "      <td>16.25</td>\n",
       "      <td>2.0220</td>\n",
       "      <td>0.3805</td>\n",
       "      <td>0.7160</td>\n",
       "    </tr>\n",
       "    <tr>\n",
       "      <th>PORK,CURED,BACON,UNPREP</th>\n",
       "      <td>467.04</td>\n",
       "      <td>14.1344</td>\n",
       "      <td>44.4528</td>\n",
       "      <td>1.4336</td>\n",
       "    </tr>\n",
       "  </tbody>\n",
       "</table>\n",
       "</div>"
      ],
      "text/plain": [
       "                                           Energ_Kcal  Protein_(g)  \\\n",
       "Shrt_Desc                                                            \n",
       "AVOCADOS,RAW,CALIFORNIA                        227.12       2.6656   \n",
       "CHEESE,BRICK                                   371.00      23.2400   \n",
       "EGG,WHL,RAW,FRSH                               429.00      37.6800   \n",
       "LEAVENING AGENTS,YEAST,BAKER'S,ACTIVE DRY       16.25       2.0220   \n",
       "PORK,CURED,BACON,UNPREP                        467.04      14.1344   \n",
       "\n",
       "                                           Lipid_Tot_(g)  Net_carbs  \n",
       "Shrt_Desc                                                            \n",
       "AVOCADOS,RAW,CALIFORNIA                          20.9576     2.5024  \n",
       "CHEESE,BRICK                                     29.6800     2.7900  \n",
       "EGG,WHL,RAW,FRSH                                 28.5300     2.1600  \n",
       "LEAVENING AGENTS,YEAST,BAKER'S,ACTIVE DRY         0.3805     0.7160  \n",
       "PORK,CURED,BACON,UNPREP                          44.4528     1.4336  "
      ]
     },
     "execution_count": 47,
     "metadata": {},
     "output_type": "execute_result"
    }
   ],
   "source": [
    "one[['Energ_Kcal', 'Protein_(g)','Lipid_Tot_(g)','Net_carbs']].multiply(one[\"QUANT\"], axis=\"index\")"
   ]
  },
  {
   "cell_type": "code",
   "execution_count": 48,
   "metadata": {
    "ExecuteTime": {
     "end_time": "2021-02-09T11:59:31.226059Z",
     "start_time": "2021-02-09T11:59:31.213028Z"
    }
   },
   "outputs": [
    {
     "data": {
      "text/plain": [
       "Energ_Kcal       1510.4100\n",
       "Protein_(g)        79.7420\n",
       "Lipid_Tot_(g)     124.0009\n",
       "Net_carbs           9.6020\n",
       "dtype: float64"
      ]
     },
     "execution_count": 48,
     "metadata": {},
     "output_type": "execute_result"
    }
   ],
   "source": [
    "sodiena[['Energ_Kcal', 'Protein_(g)','Lipid_Tot_(g)','Net_carbs']].multiply(sodiena[\"QUANT\"], axis=\"index\").sum(axis=0)"
   ]
  }
 ],
 "metadata": {
  "kernelspec": {
   "display_name": "Python 3",
   "language": "python",
   "name": "python3"
  },
  "language_info": {
   "codemirror_mode": {
    "name": "ipython",
    "version": 3
   },
   "file_extension": ".py",
   "mimetype": "text/x-python",
   "name": "python",
   "nbconvert_exporter": "python",
   "pygments_lexer": "ipython3",
   "version": "3.7.4"
  },
  "toc": {
   "base_numbering": 1,
   "nav_menu": {},
   "number_sections": true,
   "sideBar": true,
   "skip_h1_title": false,
   "title_cell": "Table of Contents",
   "title_sidebar": "Contents",
   "toc_cell": false,
   "toc_position": {},
   "toc_section_display": true,
   "toc_window_display": false
  }
 },
 "nbformat": 4,
 "nbformat_minor": 2
}
