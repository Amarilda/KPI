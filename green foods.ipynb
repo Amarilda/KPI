{
 "cells": [
  {
   "cell_type": "code",
   "execution_count": 1,
   "metadata": {
    "ExecuteTime": {
     "end_time": "2021-02-09T12:24:50.205394Z",
     "start_time": "2021-02-09T12:24:32.908059Z"
    }
   },
   "outputs": [],
   "source": [
    "import pandas as pd\n",
    "import sqlite3"
   ]
  },
  {
   "cell_type": "code",
   "execution_count": 2,
   "metadata": {
    "ExecuteTime": {
     "end_time": "2021-02-09T12:24:50.225612Z",
     "start_time": "2021-02-09T12:24:50.208554Z"
    }
   },
   "outputs": [],
   "source": [
    "connection = sqlite3.connect(\"food.db\")"
   ]
  },
  {
   "cell_type": "markdown",
   "metadata": {},
   "source": [
    "recipes = pd.read_excel(\"RECIPE_BOOK.xlsx\")\n",
    "recipes"
   ]
  },
  {
   "cell_type": "code",
   "execution_count": 132,
   "metadata": {
    "ExecuteTime": {
     "end_time": "2021-02-09T14:21:19.097864Z",
     "start_time": "2021-02-09T14:21:10.509796Z"
    }
   },
   "outputs": [],
   "source": [
    "df = pd.read_excel(\"/Users/Edite/foods.xlsx\")"
   ]
  },
  {
   "cell_type": "markdown",
   "metadata": {
    "ExecuteTime": {
     "end_time": "2021-02-09T12:37:40.822358Z",
     "start_time": "2021-02-09T12:37:40.813822Z"
    }
   },
   "source": [
    "transfer =['Shrt_Desc', 'Energ_Kcal', 'Protein_(g)','Lipid_Tot_(g)', \n",
    "        'Ash_(g)', 'Carbohydrt_(g)', 'Fiber_TD_(g)',\n",
    "       'Sugar_Tot_(g)', 'Water_(g)','Calcium_(mg)', 'Iron_(mg)', 'Magnesium_(mg)',\n",
    "       'Phosphorus_(mg)', 'Potassium_(mg)', 'Sodium_(mg)', 'Zinc_(mg)',\n",
    "       'Copper_mg)', 'Manganese_(mg)', 'Selenium_(µg)', 'Vit_C_(mg)',\n",
    "       'Thiamin_(mg)', 'Riboflavin_(mg)', 'Niacin_(mg)', 'Panto_Acid_mg)',\n",
    "       'Vit_B6_(mg)', 'Folate_Tot_(µg)', 'Folic_Acid_(µg)', 'Food_Folate_(µg)',\n",
    "       'Folate_DFE_(µg)', 'Choline_Tot_ (mg)', 'Vit_B12_(µg)', 'Vit_A_IU',\n",
    "       'Vit_A_RAE', 'Retinol_(µg)', 'Alpha_Carot_(µg)', 'Beta_Carot_(µg)',\n",
    "       'Beta_Crypt_(µg)', 'Lycopene_(µg)', 'Lut+Zea_ (µg)', 'Vit_E_(mg)',\n",
    "       'Vit_D_µg', 'Vit_D_IU', 'Vit_K_(µg)', 'FA_Sat_(g)', 'FA_Mono_(g)',\n",
    "       'FA_Poly_(g)', 'Cholestrl_(mg)', 'GmWt_1', 'GmWt_Desc1', 'GmWt_2',\n",
    "       'GmWt_Desc2']"
   ]
  },
  {
   "cell_type": "markdown",
   "metadata": {
    "ExecuteTime": {
     "end_time": "2021-02-09T14:00:03.266211Z",
     "start_time": "2021-02-09T14:00:03.219665Z"
    }
   },
   "source": [
    "for i in df[transfer]:\n",
    "    print(\",\" +str(i).replace(\"(\",\"\").replace(\")\",\"\")\n",
    "          .replace(\"µ\",\"mm\").replace(\" \",\"\").replace(\"+\",\"\")\n",
    "          ,df[i].dtype)"
   ]
  },
  {
   "cell_type": "code",
   "execution_count": 117,
   "metadata": {
    "ExecuteTime": {
     "end_time": "2021-02-09T14:15:27.733457Z",
     "start_time": "2021-02-09T14:15:27.689138Z"
    }
   },
   "outputs": [
    {
     "data": {
      "text/plain": [
       "<sqlite3.Cursor at 0x7fb24a0b59d0>"
      ]
     },
     "execution_count": 117,
     "metadata": {},
     "output_type": "execute_result"
    }
   ],
   "source": [
    "connection = sqlite3.connect(\"food.db\")\n",
    "cursor = connection.cursor()\n",
    "cursor.executescript(\"DROP TABLE IF EXISTS foods\")\n",
    "\n",
    "cursor.execute(\n",
    "    '''CREATE TABLE foods (\n",
    "            Shrt_Desc object\n",
    "            ,Energ_Kcal int64\n",
    "            ,Protein_g float64\n",
    "            ,Lipid_Tot_g float64\n",
    "            ,Carbohydrt_g float64\n",
    "            ,Fiber_TD_g float64\n",
    "            ,Net_Carbs float64\n",
    "            ,Ash_g float64\n",
    "            ,Sugar_Tot_g float64\n",
    "            ,Water_g float64\n",
    "            ,Calcium_mg float64\n",
    "            ,Iron_mg float64\n",
    "            ,Magnesium_mg float64\n",
    "            ,Phosphorus_mg float64\n",
    "            ,Potassium_mg float64\n",
    "            ,Sodium_mg float64\n",
    "            ,Zinc_mg float64\n",
    "            ,Copper_mg float64\n",
    "            ,Manganese_mg float64\n",
    "            ,Selenium_mmg float64\n",
    "            ,Vit_C_mg float64\n",
    "            ,Thiamin_mg float64\n",
    "            ,Riboflavin_mg float64\n",
    "            ,Niacin_mg float64\n",
    "            ,Panto_Acid_mg float64\n",
    "            ,Vit_B6_mg float64\n",
    "            ,Folate_Tot_mmg float64\n",
    "            ,Folic_Acid_mmg float64\n",
    "            ,Food_Folate_mmg float64\n",
    "            ,Folate_DFE_mmg float64\n",
    "            ,Choline_Tot_mg float64\n",
    "            ,Vit_B12_mmg float64\n",
    "            ,Vit_A_IU float64\n",
    "            ,Vit_A_RAE float64\n",
    "            ,Retinol_mmg float64\n",
    "            ,Alpha_Carot_mmg float64\n",
    "            ,Beta_Carot_mmg float64\n",
    "            ,Beta_Crypt_mmg float64\n",
    "            ,Lycopene_mmg float64\n",
    "            ,LutZea_mmg float64\n",
    "            ,Vit_E_mg float64\n",
    "            ,Vit_D_mmg float64\n",
    "            ,Vit_D_IU float64\n",
    "            ,Vit_K_mmg float64\n",
    "            ,FA_Sat_g float64\n",
    "            ,FA_Mono_g float64\n",
    "            ,FA_Poly_g float64\n",
    "            ,Cholestrl_mg float64\n",
    "            ,GmWt_1 float64\n",
    "            ,GmWt_Desc1 object\n",
    "            ,GmWt_2 float64\n",
    "            ,GmWt_Desc2 object)''')"
   ]
  },
  {
   "cell_type": "markdown",
   "metadata": {
    "ExecuteTime": {
     "end_time": "2021-02-09T14:45:41.672010Z",
     "start_time": "2021-02-09T14:45:41.661278Z"
    }
   },
   "source": [
    "connection = sqlite3.connect(\"food.db\")\n",
    "cursor = connection.cursor()\n",
    "cursor.executescript(\"DROP TABLE IF EXISTS daily\")\n",
    "\n",
    "cursor.execute(\n",
    "    '''CREATE TABLE daily (\n",
    "            date datetime\n",
    "            ,name text\n",
    "            ,quantity float64\n",
    "            )''')"
   ]
  },
  {
   "cell_type": "code",
   "execution_count": 158,
   "metadata": {
    "ExecuteTime": {
     "end_time": "2021-02-09T14:37:10.355305Z",
     "start_time": "2021-02-09T14:37:10.303078Z"
    }
   },
   "outputs": [
    {
     "data": {
      "text/html": [
       "<div>\n",
       "<style scoped>\n",
       "    .dataframe tbody tr th:only-of-type {\n",
       "        vertical-align: middle;\n",
       "    }\n",
       "\n",
       "    .dataframe tbody tr th {\n",
       "        vertical-align: top;\n",
       "    }\n",
       "\n",
       "    .dataframe thead th {\n",
       "        text-align: right;\n",
       "    }\n",
       "</style>\n",
       "<table border=\"1\" class=\"dataframe\">\n",
       "  <thead>\n",
       "    <tr style=\"text-align: right;\">\n",
       "      <th></th>\n",
       "      <th>Shrt_Desc</th>\n",
       "      <th>Energ_Kcal</th>\n",
       "      <th>Protein_g</th>\n",
       "      <th>Lipid_Tot_g</th>\n",
       "      <th>Carbohydrt_g</th>\n",
       "      <th>Fiber_TD_g</th>\n",
       "      <th>Net_Carbs</th>\n",
       "      <th>Ash_g</th>\n",
       "      <th>Sugar_Tot_g</th>\n",
       "      <th>Water_g</th>\n",
       "      <th>...</th>\n",
       "      <th>Vit_D_IU</th>\n",
       "      <th>Vit_K_mmg</th>\n",
       "      <th>FA_Sat_g</th>\n",
       "      <th>FA_Mono_g</th>\n",
       "      <th>FA_Poly_g</th>\n",
       "      <th>Cholestrl_mg</th>\n",
       "      <th>GmWt_1</th>\n",
       "      <th>GmWt_Desc1</th>\n",
       "      <th>GmWt_2</th>\n",
       "      <th>GmWt_Desc2</th>\n",
       "    </tr>\n",
       "  </thead>\n",
       "  <tbody>\n",
       "    <tr>\n",
       "      <th>0</th>\n",
       "      <td>EGG</td>\n",
       "      <td>143</td>\n",
       "      <td>12.56</td>\n",
       "      <td>9.51</td>\n",
       "      <td>0.72</td>\n",
       "      <td>0.0</td>\n",
       "      <td>0.72</td>\n",
       "      <td>1.06</td>\n",
       "      <td>0.37</td>\n",
       "      <td>76.15</td>\n",
       "      <td>...</td>\n",
       "      <td>82.0</td>\n",
       "      <td>0.3</td>\n",
       "      <td>3.126</td>\n",
       "      <td>3.658</td>\n",
       "      <td>1.911</td>\n",
       "      <td>372.0</td>\n",
       "      <td>50.0</td>\n",
       "      <td>1 large</td>\n",
       "      <td>56.0</td>\n",
       "      <td>1 extra large</td>\n",
       "    </tr>\n",
       "    <tr>\n",
       "      <th>1</th>\n",
       "      <td>CHEESE</td>\n",
       "      <td>371</td>\n",
       "      <td>23.24</td>\n",
       "      <td>29.68</td>\n",
       "      <td>2.79</td>\n",
       "      <td>0.0</td>\n",
       "      <td>2.79</td>\n",
       "      <td>3.18</td>\n",
       "      <td>0.51</td>\n",
       "      <td>41.11</td>\n",
       "      <td>...</td>\n",
       "      <td>22.0</td>\n",
       "      <td>2.5</td>\n",
       "      <td>18.764</td>\n",
       "      <td>8.598</td>\n",
       "      <td>0.784</td>\n",
       "      <td>94.0</td>\n",
       "      <td>132.0</td>\n",
       "      <td>1 cup, diced</td>\n",
       "      <td>113.0</td>\n",
       "      <td>1 cup, shredded</td>\n",
       "    </tr>\n",
       "    <tr>\n",
       "      <th>2</th>\n",
       "      <td>BACON</td>\n",
       "      <td>417</td>\n",
       "      <td>12.62</td>\n",
       "      <td>39.69</td>\n",
       "      <td>1.28</td>\n",
       "      <td>0.0</td>\n",
       "      <td>1.28</td>\n",
       "      <td>2.17</td>\n",
       "      <td>1.00</td>\n",
       "      <td>44.24</td>\n",
       "      <td>...</td>\n",
       "      <td>16.0</td>\n",
       "      <td>0.0</td>\n",
       "      <td>13.296</td>\n",
       "      <td>17.439</td>\n",
       "      <td>6.454</td>\n",
       "      <td>66.0</td>\n",
       "      <td>28.0</td>\n",
       "      <td>1 slice, raw</td>\n",
       "      <td>442.0</td>\n",
       "      <td>1 package</td>\n",
       "    </tr>\n",
       "    <tr>\n",
       "      <th>3</th>\n",
       "      <td>AVOCADO</td>\n",
       "      <td>167</td>\n",
       "      <td>1.96</td>\n",
       "      <td>15.41</td>\n",
       "      <td>8.64</td>\n",
       "      <td>6.8</td>\n",
       "      <td>1.84</td>\n",
       "      <td>1.66</td>\n",
       "      <td>0.30</td>\n",
       "      <td>72.33</td>\n",
       "      <td>...</td>\n",
       "      <td>0.0</td>\n",
       "      <td>21.0</td>\n",
       "      <td>2.126</td>\n",
       "      <td>9.799</td>\n",
       "      <td>1.816</td>\n",
       "      <td>0.0</td>\n",
       "      <td>230.0</td>\n",
       "      <td>1 cup, pureed</td>\n",
       "      <td>136.0</td>\n",
       "      <td>1 fruit, without skin and seed</td>\n",
       "    </tr>\n",
       "    <tr>\n",
       "      <th>4</th>\n",
       "      <td>NUTRIONAL YEAST</td>\n",
       "      <td>325</td>\n",
       "      <td>40.44</td>\n",
       "      <td>7.61</td>\n",
       "      <td>41.22</td>\n",
       "      <td>26.9</td>\n",
       "      <td>14.32</td>\n",
       "      <td>5.65</td>\n",
       "      <td>0.00</td>\n",
       "      <td>5.08</td>\n",
       "      <td>...</td>\n",
       "      <td>0.0</td>\n",
       "      <td>0.4</td>\n",
       "      <td>1.001</td>\n",
       "      <td>4.309</td>\n",
       "      <td>0.017</td>\n",
       "      <td>0.0</td>\n",
       "      <td>4.0</td>\n",
       "      <td>1 tsp</td>\n",
       "      <td>12.0</td>\n",
       "      <td>1 tbsp</td>\n",
       "    </tr>\n",
       "  </tbody>\n",
       "</table>\n",
       "<p>5 rows × 52 columns</p>\n",
       "</div>"
      ],
      "text/plain": [
       "         Shrt_Desc  Energ_Kcal  Protein_g  Lipid_Tot_g  Carbohydrt_g  \\\n",
       "0              EGG         143      12.56         9.51          0.72   \n",
       "1           CHEESE         371      23.24        29.68          2.79   \n",
       "2            BACON         417      12.62        39.69          1.28   \n",
       "3          AVOCADO         167       1.96        15.41          8.64   \n",
       "4  NUTRIONAL YEAST         325      40.44         7.61         41.22   \n",
       "\n",
       "   Fiber_TD_g  Net_Carbs  Ash_g  Sugar_Tot_g  Water_g  ...  Vit_D_IU  \\\n",
       "0         0.0       0.72   1.06         0.37    76.15  ...      82.0   \n",
       "1         0.0       2.79   3.18         0.51    41.11  ...      22.0   \n",
       "2         0.0       1.28   2.17         1.00    44.24  ...      16.0   \n",
       "3         6.8       1.84   1.66         0.30    72.33  ...       0.0   \n",
       "4        26.9      14.32   5.65         0.00     5.08  ...       0.0   \n",
       "\n",
       "   Vit_K_mmg  FA_Sat_g  FA_Mono_g  FA_Poly_g  Cholestrl_mg  GmWt_1  \\\n",
       "0        0.3     3.126      3.658      1.911         372.0    50.0   \n",
       "1        2.5    18.764      8.598      0.784          94.0   132.0   \n",
       "2        0.0    13.296     17.439      6.454          66.0    28.0   \n",
       "3       21.0     2.126      9.799      1.816           0.0   230.0   \n",
       "4        0.4     1.001      4.309      0.017           0.0     4.0   \n",
       "\n",
       "      GmWt_Desc1  GmWt_2                      GmWt_Desc2  \n",
       "0        1 large    56.0                   1 extra large  \n",
       "1   1 cup, diced   113.0                 1 cup, shredded  \n",
       "2   1 slice, raw   442.0                       1 package  \n",
       "3  1 cup, pureed   136.0  1 fruit, without skin and seed  \n",
       "4          1 tsp    12.0                          1 tbsp  \n",
       "\n",
       "[5 rows x 52 columns]"
      ]
     },
     "execution_count": 158,
     "metadata": {},
     "output_type": "execute_result"
    }
   ],
   "source": [
    "conn = sqlite3.connect('food.db')\n",
    "query = \"SELECT * FROM foods;\"\n",
    "\n",
    "foo = pd.read_sql_query(query,conn)\n",
    "foo"
   ]
  },
  {
   "cell_type": "code",
   "execution_count": 179,
   "metadata": {
    "ExecuteTime": {
     "end_time": "2021-02-09T14:50:48.229062Z",
     "start_time": "2021-02-09T14:50:48.222581Z"
    }
   },
   "outputs": [],
   "source": [
    "m = pd.DataFrame(foo.Shrt_Desc)\n",
    "m.columns = [\"name\"]"
   ]
  },
  {
   "cell_type": "code",
   "execution_count": 189,
   "metadata": {
    "ExecuteTime": {
     "end_time": "2021-02-09T14:54:37.969464Z",
     "start_time": "2021-02-09T14:54:37.955089Z"
    }
   },
   "outputs": [
    {
     "data": {
      "text/html": [
       "<div>\n",
       "<style scoped>\n",
       "    .dataframe tbody tr th:only-of-type {\n",
       "        vertical-align: middle;\n",
       "    }\n",
       "\n",
       "    .dataframe tbody tr th {\n",
       "        vertical-align: top;\n",
       "    }\n",
       "\n",
       "    .dataframe thead th {\n",
       "        text-align: right;\n",
       "    }\n",
       "</style>\n",
       "<table border=\"1\" class=\"dataframe\">\n",
       "  <thead>\n",
       "    <tr style=\"text-align: right;\">\n",
       "      <th></th>\n",
       "      <th>name</th>\n",
       "      <th>quantity</th>\n",
       "      <th>date</th>\n",
       "    </tr>\n",
       "  </thead>\n",
       "  <tbody>\n",
       "    <tr>\n",
       "      <th>0</th>\n",
       "      <td>EGG</td>\n",
       "      <td>1.00</td>\n",
       "      <td>2021-02-08</td>\n",
       "    </tr>\n",
       "    <tr>\n",
       "      <th>1</th>\n",
       "      <td>CHEESE</td>\n",
       "      <td>3.00</td>\n",
       "      <td>2021-02-08</td>\n",
       "    </tr>\n",
       "    <tr>\n",
       "      <th>2</th>\n",
       "      <td>BACON</td>\n",
       "      <td>1.36</td>\n",
       "      <td>2021-02-08</td>\n",
       "    </tr>\n",
       "    <tr>\n",
       "      <th>3</th>\n",
       "      <td>AVOCADO</td>\n",
       "      <td>1.12</td>\n",
       "      <td>2021-02-08</td>\n",
       "    </tr>\n",
       "    <tr>\n",
       "      <th>4</th>\n",
       "      <td>NUTRIONAL YEAST</td>\n",
       "      <td>0.05</td>\n",
       "      <td>2021-02-08</td>\n",
       "    </tr>\n",
       "  </tbody>\n",
       "</table>\n",
       "</div>"
      ],
      "text/plain": [
       "              name  quantity       date\n",
       "0              EGG      1.00 2021-02-08\n",
       "1           CHEESE      3.00 2021-02-08\n",
       "2            BACON      1.36 2021-02-08\n",
       "3          AVOCADO      1.12 2021-02-08\n",
       "4  NUTRIONAL YEAST      0.05 2021-02-08"
      ]
     },
     "execution_count": 189,
     "metadata": {},
     "output_type": "execute_result"
    }
   ],
   "source": [
    "m"
   ]
  },
  {
   "cell_type": "code",
   "execution_count": 181,
   "metadata": {
    "ExecuteTime": {
     "end_time": "2021-02-09T14:50:54.973708Z",
     "start_time": "2021-02-09T14:50:54.967155Z"
    }
   },
   "outputs": [],
   "source": [
    "m['quantity'] = [1,3, 1.36, 1.12, 0.05]"
   ]
  },
  {
   "cell_type": "code",
   "execution_count": 188,
   "metadata": {
    "ExecuteTime": {
     "end_time": "2021-02-09T14:54:35.456552Z",
     "start_time": "2021-02-09T14:54:35.395116Z"
    }
   },
   "outputs": [],
   "source": [
    "import datetime\n",
    "\n",
    "m['date'] = pd.to_datetime((datetime.datetime.now() - datetime.timedelta(days=1))).normalize()"
   ]
  },
  {
   "cell_type": "code",
   "execution_count": 190,
   "metadata": {
    "ExecuteTime": {
     "end_time": "2021-02-09T14:55:10.760934Z",
     "start_time": "2021-02-09T14:55:10.568840Z"
    }
   },
   "outputs": [],
   "source": [
    "m.to_sql(\"daily\", conn, if_exists='append', index = False)"
   ]
  },
  {
   "cell_type": "code",
   "execution_count": 191,
   "metadata": {
    "ExecuteTime": {
     "end_time": "2021-02-09T14:55:35.128879Z",
     "start_time": "2021-02-09T14:55:35.108687Z"
    }
   },
   "outputs": [
    {
     "data": {
      "text/html": [
       "<div>\n",
       "<style scoped>\n",
       "    .dataframe tbody tr th:only-of-type {\n",
       "        vertical-align: middle;\n",
       "    }\n",
       "\n",
       "    .dataframe tbody tr th {\n",
       "        vertical-align: top;\n",
       "    }\n",
       "\n",
       "    .dataframe thead th {\n",
       "        text-align: right;\n",
       "    }\n",
       "</style>\n",
       "<table border=\"1\" class=\"dataframe\">\n",
       "  <thead>\n",
       "    <tr style=\"text-align: right;\">\n",
       "      <th></th>\n",
       "      <th>date</th>\n",
       "      <th>name</th>\n",
       "      <th>quantity</th>\n",
       "    </tr>\n",
       "  </thead>\n",
       "  <tbody>\n",
       "    <tr>\n",
       "      <th>0</th>\n",
       "      <td>2021-02-08 00:00:00</td>\n",
       "      <td>EGG</td>\n",
       "      <td>1.00</td>\n",
       "    </tr>\n",
       "    <tr>\n",
       "      <th>1</th>\n",
       "      <td>2021-02-08 00:00:00</td>\n",
       "      <td>CHEESE</td>\n",
       "      <td>3.00</td>\n",
       "    </tr>\n",
       "    <tr>\n",
       "      <th>2</th>\n",
       "      <td>2021-02-08 00:00:00</td>\n",
       "      <td>BACON</td>\n",
       "      <td>1.36</td>\n",
       "    </tr>\n",
       "    <tr>\n",
       "      <th>3</th>\n",
       "      <td>2021-02-08 00:00:00</td>\n",
       "      <td>AVOCADO</td>\n",
       "      <td>1.12</td>\n",
       "    </tr>\n",
       "    <tr>\n",
       "      <th>4</th>\n",
       "      <td>2021-02-08 00:00:00</td>\n",
       "      <td>NUTRIONAL YEAST</td>\n",
       "      <td>0.05</td>\n",
       "    </tr>\n",
       "  </tbody>\n",
       "</table>\n",
       "</div>"
      ],
      "text/plain": [
       "                  date             name  quantity\n",
       "0  2021-02-08 00:00:00              EGG      1.00\n",
       "1  2021-02-08 00:00:00           CHEESE      3.00\n",
       "2  2021-02-08 00:00:00            BACON      1.36\n",
       "3  2021-02-08 00:00:00          AVOCADO      1.12\n",
       "4  2021-02-08 00:00:00  NUTRIONAL YEAST      0.05"
      ]
     },
     "execution_count": 191,
     "metadata": {},
     "output_type": "execute_result"
    }
   ],
   "source": [
    "conn = sqlite3.connect('food.db')\n",
    "query = \"SELECT * FROM daily;\"\n",
    "\n",
    "voo = pd.read_sql_query(query,conn)\n",
    "voo"
   ]
  },
  {
   "cell_type": "markdown",
   "metadata": {},
   "source": [
    "THIS IS TRANSFER PART"
   ]
  },
  {
   "cell_type": "markdown",
   "metadata": {
    "ExecuteTime": {
     "end_time": "2021-02-09T14:36:40.814871Z",
     "start_time": "2021-02-09T14:36:40.773323Z"
    }
   },
   "source": [
    "a = df[df.NDB_No.isin([18375]) == True].reset_index(drop = True)\n",
    "a"
   ]
  },
  {
   "cell_type": "markdown",
   "metadata": {
    "ExecuteTime": {
     "end_time": "2021-02-09T14:36:57.695376Z",
     "start_time": "2021-02-09T14:36:57.651934Z"
    }
   },
   "source": [
    "a = a[['Shrt_Desc', 'Energ_Kcal', 'Protein_g', 'Lipid_Tot_g', 'Carbohydrt_g',\n",
    "       'Fiber_TD_g', 'Net_Carbs', 'Ash_g', 'Sugar_Tot_g', 'Water_g',\n",
    "       'Calcium_mg', 'Iron_mg', 'Magnesium_mg', 'Phosphorus_mg',\n",
    "       'Potassium_mg', 'Sodium_mg', 'Zinc_mg', 'Copper_mg', 'Manganese_mg',\n",
    "       'Selenium_mmg', 'Vit_C_mg', 'Thiamin_mg', 'Riboflavin_mg', 'Niacin_mg',\n",
    "       'Panto_Acid_mg', 'Vit_B6_mg', 'Folate_Tot_mmg', 'Folic_Acid_mmg',\n",
    "       'Food_Folate_mmg', 'Folate_DFE_mmg', 'Choline_Tot_mg', 'Vit_B12_mmg',\n",
    "       'Vit_A_IU', 'Vit_A_RAE', 'Retinol_mmg', 'Alpha_Carot_mmg',\n",
    "       'Beta_Carot_mmg', 'Beta_Crypt_mmg', 'Lycopene_mmg', 'LutZea_mmg',\n",
    "       'Vit_E_mg', 'Vit_D_mmg', 'Vit_D_IU', 'Vit_K_mmg', 'FA_Sat_g',\n",
    "       'FA_Mono_g', 'FA_Poly_g', 'Cholestrl_mg', 'GmWt_1', 'GmWt_Desc1',\n",
    "       'GmWt_2', 'GmWt_Desc2']]\n",
    "\n",
    "a.Shrt_Desc = \"NUTRIONAL YEAST\"\n",
    "a"
   ]
  },
  {
   "cell_type": "markdown",
   "metadata": {
    "ExecuteTime": {
     "end_time": "2021-02-09T14:37:05.193596Z",
     "start_time": "2021-02-09T14:37:05.115092Z"
    }
   },
   "source": [
    "a.to_sql(\"foods\", conn, if_exists='append', index = False)"
   ]
  },
  {
   "cell_type": "code",
   "execution_count": 14,
   "metadata": {
    "ExecuteTime": {
     "end_time": "2021-02-09T12:40:01.565861Z",
     "start_time": "2021-02-09T12:40:01.501953Z"
    }
   },
   "outputs": [
    {
     "data": {
      "text/html": [
       "<div>\n",
       "<style scoped>\n",
       "    .dataframe tbody tr th:only-of-type {\n",
       "        vertical-align: middle;\n",
       "    }\n",
       "\n",
       "    .dataframe tbody tr th {\n",
       "        vertical-align: top;\n",
       "    }\n",
       "\n",
       "    .dataframe thead th {\n",
       "        text-align: right;\n",
       "    }\n",
       "</style>\n",
       "<table border=\"1\" class=\"dataframe\">\n",
       "  <thead>\n",
       "    <tr style=\"text-align: right;\">\n",
       "      <th></th>\n",
       "      <th>NDB_No</th>\n",
       "      <th>Shrt_Desc</th>\n",
       "      <th>Water_(g)</th>\n",
       "      <th>Energ_Kcal</th>\n",
       "      <th>Protein_(g)</th>\n",
       "      <th>Lipid_Tot_(g)</th>\n",
       "      <th>Ash_(g)</th>\n",
       "      <th>Carbohydrt_(g)</th>\n",
       "      <th>Fiber_TD_(g)</th>\n",
       "      <th>Sugar_Tot_(g)</th>\n",
       "      <th>...</th>\n",
       "      <th>Vit_K_(µg)</th>\n",
       "      <th>FA_Sat_(g)</th>\n",
       "      <th>FA_Mono_(g)</th>\n",
       "      <th>FA_Poly_(g)</th>\n",
       "      <th>Cholestrl_(mg)</th>\n",
       "      <th>GmWt_1</th>\n",
       "      <th>GmWt_Desc1</th>\n",
       "      <th>GmWt_2</th>\n",
       "      <th>GmWt_Desc2</th>\n",
       "      <th>Refuse_Pct</th>\n",
       "    </tr>\n",
       "  </thead>\n",
       "  <tbody>\n",
       "    <tr>\n",
       "      <th>0</th>\n",
       "      <td>1005</td>\n",
       "      <td>CHEESE,BRICK</td>\n",
       "      <td>41.11</td>\n",
       "      <td>371</td>\n",
       "      <td>23.24</td>\n",
       "      <td>29.68</td>\n",
       "      <td>3.18</td>\n",
       "      <td>2.79</td>\n",
       "      <td>0.0</td>\n",
       "      <td>0.51</td>\n",
       "      <td>...</td>\n",
       "      <td>2.5</td>\n",
       "      <td>18.764</td>\n",
       "      <td>8.598</td>\n",
       "      <td>0.784</td>\n",
       "      <td>94.0</td>\n",
       "      <td>132.0</td>\n",
       "      <td>1 cup, diced</td>\n",
       "      <td>113.0</td>\n",
       "      <td>1 cup, shredded</td>\n",
       "      <td>0.0</td>\n",
       "    </tr>\n",
       "    <tr>\n",
       "      <th>1</th>\n",
       "      <td>1123</td>\n",
       "      <td>EGG,WHL,RAW,FRSH</td>\n",
       "      <td>76.15</td>\n",
       "      <td>143</td>\n",
       "      <td>12.56</td>\n",
       "      <td>9.51</td>\n",
       "      <td>1.06</td>\n",
       "      <td>0.72</td>\n",
       "      <td>0.0</td>\n",
       "      <td>0.37</td>\n",
       "      <td>...</td>\n",
       "      <td>0.3</td>\n",
       "      <td>3.126</td>\n",
       "      <td>3.658</td>\n",
       "      <td>1.911</td>\n",
       "      <td>372.0</td>\n",
       "      <td>50.0</td>\n",
       "      <td>1 large</td>\n",
       "      <td>56.0</td>\n",
       "      <td>1 extra large</td>\n",
       "      <td>12.0</td>\n",
       "    </tr>\n",
       "    <tr>\n",
       "      <th>2</th>\n",
       "      <td>9038</td>\n",
       "      <td>AVOCADOS,RAW,CALIFORNIA</td>\n",
       "      <td>72.33</td>\n",
       "      <td>167</td>\n",
       "      <td>1.96</td>\n",
       "      <td>15.41</td>\n",
       "      <td>1.66</td>\n",
       "      <td>8.64</td>\n",
       "      <td>6.8</td>\n",
       "      <td>0.30</td>\n",
       "      <td>...</td>\n",
       "      <td>21.0</td>\n",
       "      <td>2.126</td>\n",
       "      <td>9.799</td>\n",
       "      <td>1.816</td>\n",
       "      <td>0.0</td>\n",
       "      <td>230.0</td>\n",
       "      <td>1 cup, pureed</td>\n",
       "      <td>136.0</td>\n",
       "      <td>1 fruit, without skin and seed</td>\n",
       "      <td>33.0</td>\n",
       "    </tr>\n",
       "    <tr>\n",
       "      <th>3</th>\n",
       "      <td>10123</td>\n",
       "      <td>PORK,CURED,BACON,UNPREP</td>\n",
       "      <td>44.24</td>\n",
       "      <td>417</td>\n",
       "      <td>12.62</td>\n",
       "      <td>39.69</td>\n",
       "      <td>2.17</td>\n",
       "      <td>1.28</td>\n",
       "      <td>0.0</td>\n",
       "      <td>1.00</td>\n",
       "      <td>...</td>\n",
       "      <td>0.0</td>\n",
       "      <td>13.296</td>\n",
       "      <td>17.439</td>\n",
       "      <td>6.454</td>\n",
       "      <td>66.0</td>\n",
       "      <td>28.0</td>\n",
       "      <td>1 slice, raw</td>\n",
       "      <td>442.0</td>\n",
       "      <td>1 package</td>\n",
       "      <td>0.0</td>\n",
       "    </tr>\n",
       "    <tr>\n",
       "      <th>4</th>\n",
       "      <td>18375</td>\n",
       "      <td>LEAVENING AGENTS,YEAST,BAKER'S,ACTIVE DRY</td>\n",
       "      <td>5.08</td>\n",
       "      <td>325</td>\n",
       "      <td>40.44</td>\n",
       "      <td>7.61</td>\n",
       "      <td>5.65</td>\n",
       "      <td>41.22</td>\n",
       "      <td>26.9</td>\n",
       "      <td>0.00</td>\n",
       "      <td>...</td>\n",
       "      <td>0.4</td>\n",
       "      <td>1.001</td>\n",
       "      <td>4.309</td>\n",
       "      <td>0.017</td>\n",
       "      <td>0.0</td>\n",
       "      <td>4.0</td>\n",
       "      <td>1 tsp</td>\n",
       "      <td>12.0</td>\n",
       "      <td>1 tbsp</td>\n",
       "      <td>0.0</td>\n",
       "    </tr>\n",
       "  </tbody>\n",
       "</table>\n",
       "<p>5 rows × 53 columns</p>\n",
       "</div>"
      ],
      "text/plain": [
       "   NDB_No                                  Shrt_Desc  Water_(g)  Energ_Kcal  \\\n",
       "0    1005                               CHEESE,BRICK      41.11         371   \n",
       "1    1123                           EGG,WHL,RAW,FRSH      76.15         143   \n",
       "2    9038                    AVOCADOS,RAW,CALIFORNIA      72.33         167   \n",
       "3   10123                    PORK,CURED,BACON,UNPREP      44.24         417   \n",
       "4   18375  LEAVENING AGENTS,YEAST,BAKER'S,ACTIVE DRY       5.08         325   \n",
       "\n",
       "   Protein_(g)  Lipid_Tot_(g)  Ash_(g)  Carbohydrt_(g)  Fiber_TD_(g)  \\\n",
       "0        23.24          29.68     3.18            2.79           0.0   \n",
       "1        12.56           9.51     1.06            0.72           0.0   \n",
       "2         1.96          15.41     1.66            8.64           6.8   \n",
       "3        12.62          39.69     2.17            1.28           0.0   \n",
       "4        40.44           7.61     5.65           41.22          26.9   \n",
       "\n",
       "   Sugar_Tot_(g)  ...  Vit_K_(µg)  FA_Sat_(g)  FA_Mono_(g)  FA_Poly_(g)  \\\n",
       "0           0.51  ...         2.5      18.764        8.598        0.784   \n",
       "1           0.37  ...         0.3       3.126        3.658        1.911   \n",
       "2           0.30  ...        21.0       2.126        9.799        1.816   \n",
       "3           1.00  ...         0.0      13.296       17.439        6.454   \n",
       "4           0.00  ...         0.4       1.001        4.309        0.017   \n",
       "\n",
       "   Cholestrl_(mg)  GmWt_1     GmWt_Desc1  GmWt_2  \\\n",
       "0            94.0   132.0   1 cup, diced   113.0   \n",
       "1           372.0    50.0        1 large    56.0   \n",
       "2             0.0   230.0  1 cup, pureed   136.0   \n",
       "3            66.0    28.0   1 slice, raw   442.0   \n",
       "4             0.0     4.0          1 tsp    12.0   \n",
       "\n",
       "                       GmWt_Desc2  Refuse_Pct  \n",
       "0                 1 cup, shredded         0.0  \n",
       "1                   1 extra large        12.0  \n",
       "2  1 fruit, without skin and seed        33.0  \n",
       "3                       1 package         0.0  \n",
       "4                          1 tbsp         0.0  \n",
       "\n",
       "[5 rows x 53 columns]"
      ]
     },
     "execution_count": 14,
     "metadata": {},
     "output_type": "execute_result"
    }
   ],
   "source": [
    "df[df.NDB_No.isin([1123,9038,10123,1005,18375]) == True].reset_index(drop = True)"
   ]
  },
  {
   "cell_type": "code",
   "execution_count": 198,
   "metadata": {
    "ExecuteTime": {
     "end_time": "2021-02-09T15:09:26.087361Z",
     "start_time": "2021-02-09T15:09:26.032193Z"
    }
   },
   "outputs": [
    {
     "data": {
      "text/html": [
       "<div>\n",
       "<style scoped>\n",
       "    .dataframe tbody tr th:only-of-type {\n",
       "        vertical-align: middle;\n",
       "    }\n",
       "\n",
       "    .dataframe tbody tr th {\n",
       "        vertical-align: top;\n",
       "    }\n",
       "\n",
       "    .dataframe thead th {\n",
       "        text-align: right;\n",
       "    }\n",
       "</style>\n",
       "<table border=\"1\" class=\"dataframe\">\n",
       "  <thead>\n",
       "    <tr style=\"text-align: right;\">\n",
       "      <th></th>\n",
       "      <th>Unnamed: 0</th>\n",
       "      <th>Unnamed: 0.1</th>\n",
       "      <th>NDB_No</th>\n",
       "      <th>Shrt_Desc</th>\n",
       "      <th>Water_g</th>\n",
       "      <th>Energ_Kcal</th>\n",
       "      <th>Protein_g</th>\n",
       "      <th>Lipid_Tot_g</th>\n",
       "      <th>Ash_g</th>\n",
       "      <th>Carbohydrt_g</th>\n",
       "      <th>...</th>\n",
       "      <th>FA_Sat_g</th>\n",
       "      <th>FA_Mono_g</th>\n",
       "      <th>FA_Poly_g</th>\n",
       "      <th>Cholestrl_mg</th>\n",
       "      <th>GmWt_1</th>\n",
       "      <th>GmWt_Desc1</th>\n",
       "      <th>GmWt_2</th>\n",
       "      <th>GmWt_Desc2</th>\n",
       "      <th>Refuse_Pct</th>\n",
       "      <th>Net_Carbs</th>\n",
       "    </tr>\n",
       "  </thead>\n",
       "  <tbody>\n",
       "    <tr>\n",
       "      <th>3642</th>\n",
       "      <td>3642</td>\n",
       "      <td>3642</td>\n",
       "      <td>12006</td>\n",
       "      <td>CHIA SEEDS,DRIED</td>\n",
       "      <td>5.8</td>\n",
       "      <td>486</td>\n",
       "      <td>16.54</td>\n",
       "      <td>30.74</td>\n",
       "      <td>4.8</td>\n",
       "      <td>42.12</td>\n",
       "      <td>...</td>\n",
       "      <td>3.33</td>\n",
       "      <td>2.309</td>\n",
       "      <td>23.665</td>\n",
       "      <td>0.0</td>\n",
       "      <td>28.0</td>\n",
       "      <td>1 oz</td>\n",
       "      <td>NaN</td>\n",
       "      <td>NaN</td>\n",
       "      <td>0.0</td>\n",
       "      <td>7.72</td>\n",
       "    </tr>\n",
       "  </tbody>\n",
       "</table>\n",
       "<p>1 rows × 56 columns</p>\n",
       "</div>"
      ],
      "text/plain": [
       "      Unnamed: 0  Unnamed: 0.1  NDB_No         Shrt_Desc  Water_g  Energ_Kcal  \\\n",
       "3642        3642          3642   12006  CHIA SEEDS,DRIED      5.8         486   \n",
       "\n",
       "      Protein_g  Lipid_Tot_g  Ash_g  Carbohydrt_g  ...  FA_Sat_g  FA_Mono_g  \\\n",
       "3642      16.54        30.74    4.8         42.12  ...      3.33      2.309   \n",
       "\n",
       "      FA_Poly_g  Cholestrl_mg  GmWt_1  GmWt_Desc1  GmWt_2  GmWt_Desc2  \\\n",
       "3642     23.665           0.0    28.0        1 oz     NaN         NaN   \n",
       "\n",
       "      Refuse_Pct  Net_Carbs  \n",
       "3642         0.0       7.72  \n",
       "\n",
       "[1 rows x 56 columns]"
      ]
     },
     "execution_count": 198,
     "metadata": {},
     "output_type": "execute_result"
    }
   ],
   "source": [
    "df[df.Shrt_Desc.str.contains('CHIA') == True]"
   ]
  },
  {
   "cell_type": "code",
   "execution_count": 199,
   "metadata": {
    "ExecuteTime": {
     "end_time": "2021-02-09T15:10:03.213265Z",
     "start_time": "2021-02-09T15:10:03.149148Z"
    }
   },
   "outputs": [
    {
     "data": {
      "text/html": [
       "<div>\n",
       "<style scoped>\n",
       "    .dataframe tbody tr th:only-of-type {\n",
       "        vertical-align: middle;\n",
       "    }\n",
       "\n",
       "    .dataframe tbody tr th {\n",
       "        vertical-align: top;\n",
       "    }\n",
       "\n",
       "    .dataframe thead th {\n",
       "        text-align: right;\n",
       "    }\n",
       "</style>\n",
       "<table border=\"1\" class=\"dataframe\">\n",
       "  <thead>\n",
       "    <tr style=\"text-align: right;\">\n",
       "      <th></th>\n",
       "      <th>Unnamed: 0</th>\n",
       "      <th>Unnamed: 0.1</th>\n",
       "      <th>NDB_No</th>\n",
       "      <th>Shrt_Desc</th>\n",
       "      <th>Water_g</th>\n",
       "      <th>Energ_Kcal</th>\n",
       "      <th>Protein_g</th>\n",
       "      <th>Lipid_Tot_g</th>\n",
       "      <th>Ash_g</th>\n",
       "      <th>Carbohydrt_g</th>\n",
       "      <th>...</th>\n",
       "      <th>FA_Sat_g</th>\n",
       "      <th>FA_Mono_g</th>\n",
       "      <th>FA_Poly_g</th>\n",
       "      <th>Cholestrl_mg</th>\n",
       "      <th>GmWt_1</th>\n",
       "      <th>GmWt_Desc1</th>\n",
       "      <th>GmWt_2</th>\n",
       "      <th>GmWt_Desc2</th>\n",
       "      <th>Refuse_Pct</th>\n",
       "      <th>Net_Carbs</th>\n",
       "    </tr>\n",
       "  </thead>\n",
       "  <tbody>\n",
       "    <tr>\n",
       "      <th>93</th>\n",
       "      <td>93</td>\n",
       "      <td>93</td>\n",
       "      <td>1105</td>\n",
       "      <td>MILK,CHOC BEV,HOT COCOA,HOMEMADE</td>\n",
       "      <td>82.45</td>\n",
       "      <td>77</td>\n",
       "      <td>3.52</td>\n",
       "      <td>2.34</td>\n",
       "      <td>0.65</td>\n",
       "      <td>10.74</td>\n",
       "      <td>...</td>\n",
       "      <td>1.431</td>\n",
       "      <td>0.677</td>\n",
       "      <td>0.084</td>\n",
       "      <td>8.0</td>\n",
       "      <td>250.0</td>\n",
       "      <td>1 cup</td>\n",
       "      <td>31.2</td>\n",
       "      <td>1 fl oz</td>\n",
       "      <td>0.0</td>\n",
       "      <td>9.74</td>\n",
       "    </tr>\n",
       "    <tr>\n",
       "      <th>6145</th>\n",
       "      <td>6145</td>\n",
       "      <td>6145</td>\n",
       "      <td>19165</td>\n",
       "      <td>COCOA,DRY PDR,UNSWTND</td>\n",
       "      <td>3.00</td>\n",
       "      <td>228</td>\n",
       "      <td>19.60</td>\n",
       "      <td>13.70</td>\n",
       "      <td>5.80</td>\n",
       "      <td>57.90</td>\n",
       "      <td>...</td>\n",
       "      <td>8.070</td>\n",
       "      <td>4.570</td>\n",
       "      <td>0.440</td>\n",
       "      <td>0.0</td>\n",
       "      <td>86.0</td>\n",
       "      <td>1 cup</td>\n",
       "      <td>5.4</td>\n",
       "      <td>1 tbsp</td>\n",
       "      <td>0.0</td>\n",
       "      <td>20.90</td>\n",
       "    </tr>\n",
       "    <tr>\n",
       "      <th>6146</th>\n",
       "      <td>6146</td>\n",
       "      <td>6146</td>\n",
       "      <td>19166</td>\n",
       "      <td>COCOA,DRY PDR,UNSWTND,PROC W/ALKALI</td>\n",
       "      <td>2.70</td>\n",
       "      <td>220</td>\n",
       "      <td>18.10</td>\n",
       "      <td>13.10</td>\n",
       "      <td>7.80</td>\n",
       "      <td>58.30</td>\n",
       "      <td>...</td>\n",
       "      <td>7.760</td>\n",
       "      <td>4.390</td>\n",
       "      <td>0.420</td>\n",
       "      <td>0.0</td>\n",
       "      <td>86.0</td>\n",
       "      <td>1 cup</td>\n",
       "      <td>5.4</td>\n",
       "      <td>1 tbsp</td>\n",
       "      <td>0.0</td>\n",
       "      <td>28.50</td>\n",
       "    </tr>\n",
       "    <tr>\n",
       "      <th>6150</th>\n",
       "      <td>6150</td>\n",
       "      <td>6150</td>\n",
       "      <td>19171</td>\n",
       "      <td>COCOA,DRY PDR,UNSWTND,HERSHEY'S EUROPEAN STYLE...</td>\n",
       "      <td>NaN</td>\n",
       "      <td>400</td>\n",
       "      <td>20.00</td>\n",
       "      <td>10.00</td>\n",
       "      <td>NaN</td>\n",
       "      <td>60.00</td>\n",
       "      <td>...</td>\n",
       "      <td>0.000</td>\n",
       "      <td>NaN</td>\n",
       "      <td>NaN</td>\n",
       "      <td>0.0</td>\n",
       "      <td>5.0</td>\n",
       "      <td>1 tbsp</td>\n",
       "      <td>NaN</td>\n",
       "      <td>NaN</td>\n",
       "      <td>0.0</td>\n",
       "      <td>40.00</td>\n",
       "    </tr>\n",
       "    <tr>\n",
       "      <th>6371</th>\n",
       "      <td>6371</td>\n",
       "      <td>6371</td>\n",
       "      <td>19859</td>\n",
       "      <td>COCOA,DRY PDR,HI-FAT OR BRKFST,PLN</td>\n",
       "      <td>3.00</td>\n",
       "      <td>486</td>\n",
       "      <td>16.80</td>\n",
       "      <td>23.71</td>\n",
       "      <td>5.10</td>\n",
       "      <td>51.39</td>\n",
       "      <td>...</td>\n",
       "      <td>12.640</td>\n",
       "      <td>7.380</td>\n",
       "      <td>0.769</td>\n",
       "      <td>0.0</td>\n",
       "      <td>5.0</td>\n",
       "      <td>1 tbsp</td>\n",
       "      <td>NaN</td>\n",
       "      <td>NaN</td>\n",
       "      <td>0.0</td>\n",
       "      <td>21.59</td>\n",
       "    </tr>\n",
       "    <tr>\n",
       "      <th>6372</th>\n",
       "      <td>6372</td>\n",
       "      <td>6372</td>\n",
       "      <td>19860</td>\n",
       "      <td>COCOA,DRY PDR,HI-FAT OR BRKFST,PROC W/ALKALI</td>\n",
       "      <td>3.00</td>\n",
       "      <td>479</td>\n",
       "      <td>16.80</td>\n",
       "      <td>23.71</td>\n",
       "      <td>6.79</td>\n",
       "      <td>49.71</td>\n",
       "      <td>...</td>\n",
       "      <td>12.640</td>\n",
       "      <td>7.380</td>\n",
       "      <td>0.769</td>\n",
       "      <td>0.0</td>\n",
       "      <td>6.0</td>\n",
       "      <td>1 tablespoon,  Ghirardelli label 2011</td>\n",
       "      <td>5.0</td>\n",
       "      <td>1 tablespoon,  Hershey's label 2011</td>\n",
       "      <td>0.0</td>\n",
       "      <td>15.81</td>\n",
       "    </tr>\n",
       "  </tbody>\n",
       "</table>\n",
       "<p>6 rows × 56 columns</p>\n",
       "</div>"
      ],
      "text/plain": [
       "      Unnamed: 0  Unnamed: 0.1  NDB_No  \\\n",
       "93            93            93    1105   \n",
       "6145        6145          6145   19165   \n",
       "6146        6146          6146   19166   \n",
       "6150        6150          6150   19171   \n",
       "6371        6371          6371   19859   \n",
       "6372        6372          6372   19860   \n",
       "\n",
       "                                              Shrt_Desc  Water_g  Energ_Kcal  \\\n",
       "93                     MILK,CHOC BEV,HOT COCOA,HOMEMADE    82.45          77   \n",
       "6145                              COCOA,DRY PDR,UNSWTND     3.00         228   \n",
       "6146                COCOA,DRY PDR,UNSWTND,PROC W/ALKALI     2.70         220   \n",
       "6150  COCOA,DRY PDR,UNSWTND,HERSHEY'S EUROPEAN STYLE...      NaN         400   \n",
       "6371                 COCOA,DRY PDR,HI-FAT OR BRKFST,PLN     3.00         486   \n",
       "6372       COCOA,DRY PDR,HI-FAT OR BRKFST,PROC W/ALKALI     3.00         479   \n",
       "\n",
       "      Protein_g  Lipid_Tot_g  Ash_g  Carbohydrt_g  ...  FA_Sat_g  FA_Mono_g  \\\n",
       "93         3.52         2.34   0.65         10.74  ...     1.431      0.677   \n",
       "6145      19.60        13.70   5.80         57.90  ...     8.070      4.570   \n",
       "6146      18.10        13.10   7.80         58.30  ...     7.760      4.390   \n",
       "6150      20.00        10.00    NaN         60.00  ...     0.000        NaN   \n",
       "6371      16.80        23.71   5.10         51.39  ...    12.640      7.380   \n",
       "6372      16.80        23.71   6.79         49.71  ...    12.640      7.380   \n",
       "\n",
       "      FA_Poly_g  Cholestrl_mg  GmWt_1                             GmWt_Desc1  \\\n",
       "93        0.084           8.0   250.0                                  1 cup   \n",
       "6145      0.440           0.0    86.0                                  1 cup   \n",
       "6146      0.420           0.0    86.0                                  1 cup   \n",
       "6150        NaN           0.0     5.0                                 1 tbsp   \n",
       "6371      0.769           0.0     5.0                                 1 tbsp   \n",
       "6372      0.769           0.0     6.0  1 tablespoon,  Ghirardelli label 2011   \n",
       "\n",
       "      GmWt_2                           GmWt_Desc2  Refuse_Pct  Net_Carbs  \n",
       "93      31.2                              1 fl oz         0.0       9.74  \n",
       "6145     5.4                               1 tbsp         0.0      20.90  \n",
       "6146     5.4                               1 tbsp         0.0      28.50  \n",
       "6150     NaN                                  NaN         0.0      40.00  \n",
       "6371     NaN                                  NaN         0.0      21.59  \n",
       "6372     5.0  1 tablespoon,  Hershey's label 2011         0.0      15.81  \n",
       "\n",
       "[6 rows x 56 columns]"
      ]
     },
     "execution_count": 199,
     "metadata": {},
     "output_type": "execute_result"
    }
   ],
   "source": [
    "df[df.Shrt_Desc.str.contains('COCOA,') == True]"
   ]
  },
  {
   "cell_type": "code",
   "execution_count": 207,
   "metadata": {
    "ExecuteTime": {
     "end_time": "2021-02-09T15:21:34.319394Z",
     "start_time": "2021-02-09T15:21:34.285741Z"
    }
   },
   "outputs": [
    {
     "data": {
      "text/html": [
       "<div>\n",
       "<style scoped>\n",
       "    .dataframe tbody tr th:only-of-type {\n",
       "        vertical-align: middle;\n",
       "    }\n",
       "\n",
       "    .dataframe tbody tr th {\n",
       "        vertical-align: top;\n",
       "    }\n",
       "\n",
       "    .dataframe thead th {\n",
       "        text-align: right;\n",
       "    }\n",
       "</style>\n",
       "<table border=\"1\" class=\"dataframe\">\n",
       "  <thead>\n",
       "    <tr style=\"text-align: right;\">\n",
       "      <th></th>\n",
       "      <th>Unnamed: 0</th>\n",
       "      <th>Unnamed: 0.1</th>\n",
       "      <th>NDB_No</th>\n",
       "      <th>Shrt_Desc</th>\n",
       "      <th>Water_g</th>\n",
       "      <th>Energ_Kcal</th>\n",
       "      <th>Protein_g</th>\n",
       "      <th>Lipid_Tot_g</th>\n",
       "      <th>Ash_g</th>\n",
       "      <th>Carbohydrt_g</th>\n",
       "      <th>...</th>\n",
       "      <th>FA_Sat_g</th>\n",
       "      <th>FA_Mono_g</th>\n",
       "      <th>FA_Poly_g</th>\n",
       "      <th>Cholestrl_mg</th>\n",
       "      <th>GmWt_1</th>\n",
       "      <th>GmWt_Desc1</th>\n",
       "      <th>GmWt_2</th>\n",
       "      <th>GmWt_Desc2</th>\n",
       "      <th>Refuse_Pct</th>\n",
       "      <th>Net_Carbs</th>\n",
       "    </tr>\n",
       "  </thead>\n",
       "  <tbody>\n",
       "  </tbody>\n",
       "</table>\n",
       "<p>0 rows × 56 columns</p>\n",
       "</div>"
      ],
      "text/plain": [
       "Empty DataFrame\n",
       "Columns: [Unnamed: 0, Unnamed: 0.1, NDB_No, Shrt_Desc, Water_g, Energ_Kcal, Protein_g, Lipid_Tot_g, Ash_g, Carbohydrt_g, Fiber_TD_g, Sugar_Tot_g, Calcium_mg, Iron_mg, Magnesium_mg, Phosphorus_mg, Potassium_mg, Sodium_mg, Zinc_mg, Copper_mg, Manganese_mg, Selenium_mmg, Vit_C_mg, Thiamin_mg, Riboflavin_mg, Niacin_mg, Panto_Acid_mg, Vit_B6_mg, Folate_Tot_mmg, Folic_Acid_mmg, Food_Folate_mmg, Folate_DFE_mmg, Choline_Tot_mg, Vit_B12_mmg, Vit_A_IU, Vit_A_RAE, Retinol_mmg, Alpha_Carot_mmg, Beta_Carot_mmg, Beta_Crypt_mmg, Lycopene_mmg, LutZea_mmg, Vit_E_mg, Vit_D_mmg, Vit_D_IU, Vit_K_mmg, FA_Sat_g, FA_Mono_g, FA_Poly_g, Cholestrl_mg, GmWt_1, GmWt_Desc1, GmWt_2, GmWt_Desc2, Refuse_Pct, Net_Carbs]\n",
       "Index: []\n",
       "\n",
       "[0 rows x 56 columns]"
      ]
     },
     "execution_count": 207,
     "metadata": {},
     "output_type": "execute_result"
    }
   ],
   "source": [
    "df[df.Shrt_Desc.str.contains('COLLAGEN') == True]"
   ]
  },
  {
   "cell_type": "code",
   "execution_count": null,
   "metadata": {
    "ExecuteTime": {
     "end_time": "2021-02-09T11:19:45.447769Z",
     "start_time": "2021-02-09T11:19:45.440924Z"
    },
    "scrolled": true
   },
   "outputs": [],
   "source": [
    "kcal = 1609\n",
    "carbs = 20\n",
    "protein = 106\n",
    "fat = 123"
   ]
  },
  {
   "cell_type": "code",
   "execution_count": 159,
   "metadata": {
    "ExecuteTime": {
     "end_time": "2021-02-09T14:38:21.268319Z",
     "start_time": "2021-02-09T14:38:21.263609Z"
    }
   },
   "outputs": [],
   "source": [
    "trenger = ['NDB_No', 'Shrt_Desc','Energ_Kcal', 'Protein_(g)','Lipid_Tot_(g)', 'Carbohydrt_(g)','Fiber_TD_(g)']"
   ]
  },
  {
   "cell_type": "code",
   "execution_count": 160,
   "metadata": {
    "ExecuteTime": {
     "end_time": "2021-02-09T14:38:28.934594Z",
     "start_time": "2021-02-09T14:38:28.888572Z"
    }
   },
   "outputs": [
    {
     "ename": "KeyError",
     "evalue": "\"['Protein_(g)', 'Lipid_Tot_(g)', 'Fiber_TD_(g)', 'Carbohydrt_(g)'] not in index\"",
     "output_type": "error",
     "traceback": [
      "\u001b[0;31m---------------------------------------------------------------------------\u001b[0m",
      "\u001b[0;31mKeyError\u001b[0m                                  Traceback (most recent call last)",
      "\u001b[0;32m<ipython-input-160-22dff33e4fd5>\u001b[0m in \u001b[0;36m<module>\u001b[0;34m\u001b[0m\n\u001b[0;32m----> 1\u001b[0;31m \u001b[0msodiena\u001b[0m \u001b[0;34m=\u001b[0m \u001b[0mdf\u001b[0m\u001b[0;34m[\u001b[0m\u001b[0mtrenger\u001b[0m \u001b[0;34m]\u001b[0m\u001b[0;34m\u001b[0m\u001b[0;34m\u001b[0m\u001b[0m\n\u001b[0m\u001b[1;32m      2\u001b[0m \u001b[0msodiena\u001b[0m \u001b[0;34m=\u001b[0m \u001b[0msodiena\u001b[0m\u001b[0;34m[\u001b[0m\u001b[0mdf\u001b[0m\u001b[0;34m.\u001b[0m\u001b[0mNDB_No\u001b[0m\u001b[0;34m.\u001b[0m\u001b[0misin\u001b[0m\u001b[0;34m(\u001b[0m\u001b[0;34m[\u001b[0m\u001b[0;36m1123\u001b[0m\u001b[0;34m,\u001b[0m\u001b[0;36m9038\u001b[0m\u001b[0;34m,\u001b[0m\u001b[0;36m10123\u001b[0m\u001b[0;34m,\u001b[0m\u001b[0;36m1005\u001b[0m\u001b[0;34m,\u001b[0m\u001b[0;36m18375\u001b[0m\u001b[0;34m]\u001b[0m\u001b[0;34m)\u001b[0m\u001b[0;34m]\u001b[0m\u001b[0;34m\u001b[0m\u001b[0;34m\u001b[0m\u001b[0m\n",
      "\u001b[0;32m~/opt/anaconda3/lib/python3.7/site-packages/pandas/core/frame.py\u001b[0m in \u001b[0;36m__getitem__\u001b[0;34m(self, key)\u001b[0m\n\u001b[1;32m   3028\u001b[0m             \u001b[0;32mif\u001b[0m \u001b[0mis_iterator\u001b[0m\u001b[0;34m(\u001b[0m\u001b[0mkey\u001b[0m\u001b[0;34m)\u001b[0m\u001b[0;34m:\u001b[0m\u001b[0;34m\u001b[0m\u001b[0;34m\u001b[0m\u001b[0m\n\u001b[1;32m   3029\u001b[0m                 \u001b[0mkey\u001b[0m \u001b[0;34m=\u001b[0m \u001b[0mlist\u001b[0m\u001b[0;34m(\u001b[0m\u001b[0mkey\u001b[0m\u001b[0;34m)\u001b[0m\u001b[0;34m\u001b[0m\u001b[0;34m\u001b[0m\u001b[0m\n\u001b[0;32m-> 3030\u001b[0;31m             \u001b[0mindexer\u001b[0m \u001b[0;34m=\u001b[0m \u001b[0mself\u001b[0m\u001b[0;34m.\u001b[0m\u001b[0mloc\u001b[0m\u001b[0;34m.\u001b[0m\u001b[0m_get_listlike_indexer\u001b[0m\u001b[0;34m(\u001b[0m\u001b[0mkey\u001b[0m\u001b[0;34m,\u001b[0m \u001b[0maxis\u001b[0m\u001b[0;34m=\u001b[0m\u001b[0;36m1\u001b[0m\u001b[0;34m,\u001b[0m \u001b[0mraise_missing\u001b[0m\u001b[0;34m=\u001b[0m\u001b[0;32mTrue\u001b[0m\u001b[0;34m)\u001b[0m\u001b[0;34m[\u001b[0m\u001b[0;36m1\u001b[0m\u001b[0;34m]\u001b[0m\u001b[0;34m\u001b[0m\u001b[0;34m\u001b[0m\u001b[0m\n\u001b[0m\u001b[1;32m   3031\u001b[0m \u001b[0;34m\u001b[0m\u001b[0m\n\u001b[1;32m   3032\u001b[0m         \u001b[0;31m# take() does not accept boolean indexers\u001b[0m\u001b[0;34m\u001b[0m\u001b[0;34m\u001b[0m\u001b[0;34m\u001b[0m\u001b[0m\n",
      "\u001b[0;32m~/opt/anaconda3/lib/python3.7/site-packages/pandas/core/indexing.py\u001b[0m in \u001b[0;36m_get_listlike_indexer\u001b[0;34m(self, key, axis, raise_missing)\u001b[0m\n\u001b[1;32m   1264\u001b[0m             \u001b[0mkeyarr\u001b[0m\u001b[0;34m,\u001b[0m \u001b[0mindexer\u001b[0m\u001b[0;34m,\u001b[0m \u001b[0mnew_indexer\u001b[0m \u001b[0;34m=\u001b[0m \u001b[0max\u001b[0m\u001b[0;34m.\u001b[0m\u001b[0m_reindex_non_unique\u001b[0m\u001b[0;34m(\u001b[0m\u001b[0mkeyarr\u001b[0m\u001b[0;34m)\u001b[0m\u001b[0;34m\u001b[0m\u001b[0;34m\u001b[0m\u001b[0m\n\u001b[1;32m   1265\u001b[0m \u001b[0;34m\u001b[0m\u001b[0m\n\u001b[0;32m-> 1266\u001b[0;31m         \u001b[0mself\u001b[0m\u001b[0;34m.\u001b[0m\u001b[0m_validate_read_indexer\u001b[0m\u001b[0;34m(\u001b[0m\u001b[0mkeyarr\u001b[0m\u001b[0;34m,\u001b[0m \u001b[0mindexer\u001b[0m\u001b[0;34m,\u001b[0m \u001b[0maxis\u001b[0m\u001b[0;34m,\u001b[0m \u001b[0mraise_missing\u001b[0m\u001b[0;34m=\u001b[0m\u001b[0mraise_missing\u001b[0m\u001b[0;34m)\u001b[0m\u001b[0;34m\u001b[0m\u001b[0;34m\u001b[0m\u001b[0m\n\u001b[0m\u001b[1;32m   1267\u001b[0m         \u001b[0;32mreturn\u001b[0m \u001b[0mkeyarr\u001b[0m\u001b[0;34m,\u001b[0m \u001b[0mindexer\u001b[0m\u001b[0;34m\u001b[0m\u001b[0;34m\u001b[0m\u001b[0m\n\u001b[1;32m   1268\u001b[0m \u001b[0;34m\u001b[0m\u001b[0m\n",
      "\u001b[0;32m~/opt/anaconda3/lib/python3.7/site-packages/pandas/core/indexing.py\u001b[0m in \u001b[0;36m_validate_read_indexer\u001b[0;34m(self, key, indexer, axis, raise_missing)\u001b[0m\n\u001b[1;32m   1314\u001b[0m             \u001b[0;32mif\u001b[0m \u001b[0mraise_missing\u001b[0m\u001b[0;34m:\u001b[0m\u001b[0;34m\u001b[0m\u001b[0;34m\u001b[0m\u001b[0m\n\u001b[1;32m   1315\u001b[0m                 \u001b[0mnot_found\u001b[0m \u001b[0;34m=\u001b[0m \u001b[0mlist\u001b[0m\u001b[0;34m(\u001b[0m\u001b[0mset\u001b[0m\u001b[0;34m(\u001b[0m\u001b[0mkey\u001b[0m\u001b[0;34m)\u001b[0m \u001b[0;34m-\u001b[0m \u001b[0mset\u001b[0m\u001b[0;34m(\u001b[0m\u001b[0max\u001b[0m\u001b[0;34m)\u001b[0m\u001b[0;34m)\u001b[0m\u001b[0;34m\u001b[0m\u001b[0;34m\u001b[0m\u001b[0m\n\u001b[0;32m-> 1316\u001b[0;31m                 \u001b[0;32mraise\u001b[0m \u001b[0mKeyError\u001b[0m\u001b[0;34m(\u001b[0m\u001b[0;34mf\"{not_found} not in index\"\u001b[0m\u001b[0;34m)\u001b[0m\u001b[0;34m\u001b[0m\u001b[0;34m\u001b[0m\u001b[0m\n\u001b[0m\u001b[1;32m   1317\u001b[0m \u001b[0;34m\u001b[0m\u001b[0m\n\u001b[1;32m   1318\u001b[0m             \u001b[0mnot_found\u001b[0m \u001b[0;34m=\u001b[0m \u001b[0mkey\u001b[0m\u001b[0;34m[\u001b[0m\u001b[0mmissing_mask\u001b[0m\u001b[0;34m]\u001b[0m\u001b[0;34m\u001b[0m\u001b[0;34m\u001b[0m\u001b[0m\n",
      "\u001b[0;31mKeyError\u001b[0m: \"['Protein_(g)', 'Lipid_Tot_(g)', 'Fiber_TD_(g)', 'Carbohydrt_(g)'] not in index\""
     ]
    }
   ],
   "source": [
    "sodiena = df[trenger ]\n",
    "sodiena = sodiena[df.NDB_No.isin([1123,9038,10123,1005,18375])]"
   ]
  },
  {
   "cell_type": "code",
   "execution_count": 164,
   "metadata": {
    "ExecuteTime": {
     "end_time": "2021-02-09T14:43:12.163228Z",
     "start_time": "2021-02-09T14:43:12.101435Z"
    }
   },
   "outputs": [
    {
     "data": {
      "text/html": [
       "<div>\n",
       "<style scoped>\n",
       "    .dataframe tbody tr th:only-of-type {\n",
       "        vertical-align: middle;\n",
       "    }\n",
       "\n",
       "    .dataframe tbody tr th {\n",
       "        vertical-align: top;\n",
       "    }\n",
       "\n",
       "    .dataframe thead th {\n",
       "        text-align: right;\n",
       "    }\n",
       "</style>\n",
       "<table border=\"1\" class=\"dataframe\">\n",
       "  <thead>\n",
       "    <tr style=\"text-align: right;\">\n",
       "      <th></th>\n",
       "      <th>Shrt_Desc</th>\n",
       "      <th>Energ_Kcal</th>\n",
       "      <th>Protein_g</th>\n",
       "      <th>Lipid_Tot_g</th>\n",
       "      <th>Carbohydrt_g</th>\n",
       "      <th>Fiber_TD_g</th>\n",
       "      <th>Net_Carbs</th>\n",
       "      <th>Ash_g</th>\n",
       "      <th>Sugar_Tot_g</th>\n",
       "      <th>Water_g</th>\n",
       "      <th>...</th>\n",
       "      <th>Vit_D_IU</th>\n",
       "      <th>Vit_K_mmg</th>\n",
       "      <th>FA_Sat_g</th>\n",
       "      <th>FA_Mono_g</th>\n",
       "      <th>FA_Poly_g</th>\n",
       "      <th>Cholestrl_mg</th>\n",
       "      <th>GmWt_1</th>\n",
       "      <th>GmWt_Desc1</th>\n",
       "      <th>GmWt_2</th>\n",
       "      <th>GmWt_Desc2</th>\n",
       "    </tr>\n",
       "  </thead>\n",
       "  <tbody>\n",
       "    <tr>\n",
       "      <th>0</th>\n",
       "      <td>EGG</td>\n",
       "      <td>143</td>\n",
       "      <td>12.56</td>\n",
       "      <td>9.51</td>\n",
       "      <td>0.72</td>\n",
       "      <td>0.0</td>\n",
       "      <td>0.72</td>\n",
       "      <td>1.06</td>\n",
       "      <td>0.37</td>\n",
       "      <td>76.15</td>\n",
       "      <td>...</td>\n",
       "      <td>82.0</td>\n",
       "      <td>0.3</td>\n",
       "      <td>3.126</td>\n",
       "      <td>3.658</td>\n",
       "      <td>1.911</td>\n",
       "      <td>372.0</td>\n",
       "      <td>50.0</td>\n",
       "      <td>1 large</td>\n",
       "      <td>56.0</td>\n",
       "      <td>1 extra large</td>\n",
       "    </tr>\n",
       "    <tr>\n",
       "      <th>1</th>\n",
       "      <td>CHEESE</td>\n",
       "      <td>371</td>\n",
       "      <td>23.24</td>\n",
       "      <td>29.68</td>\n",
       "      <td>2.79</td>\n",
       "      <td>0.0</td>\n",
       "      <td>2.79</td>\n",
       "      <td>3.18</td>\n",
       "      <td>0.51</td>\n",
       "      <td>41.11</td>\n",
       "      <td>...</td>\n",
       "      <td>22.0</td>\n",
       "      <td>2.5</td>\n",
       "      <td>18.764</td>\n",
       "      <td>8.598</td>\n",
       "      <td>0.784</td>\n",
       "      <td>94.0</td>\n",
       "      <td>132.0</td>\n",
       "      <td>1 cup, diced</td>\n",
       "      <td>113.0</td>\n",
       "      <td>1 cup, shredded</td>\n",
       "    </tr>\n",
       "    <tr>\n",
       "      <th>2</th>\n",
       "      <td>BACON</td>\n",
       "      <td>417</td>\n",
       "      <td>12.62</td>\n",
       "      <td>39.69</td>\n",
       "      <td>1.28</td>\n",
       "      <td>0.0</td>\n",
       "      <td>1.28</td>\n",
       "      <td>2.17</td>\n",
       "      <td>1.00</td>\n",
       "      <td>44.24</td>\n",
       "      <td>...</td>\n",
       "      <td>16.0</td>\n",
       "      <td>0.0</td>\n",
       "      <td>13.296</td>\n",
       "      <td>17.439</td>\n",
       "      <td>6.454</td>\n",
       "      <td>66.0</td>\n",
       "      <td>28.0</td>\n",
       "      <td>1 slice, raw</td>\n",
       "      <td>442.0</td>\n",
       "      <td>1 package</td>\n",
       "    </tr>\n",
       "    <tr>\n",
       "      <th>3</th>\n",
       "      <td>AVOCADO</td>\n",
       "      <td>167</td>\n",
       "      <td>1.96</td>\n",
       "      <td>15.41</td>\n",
       "      <td>8.64</td>\n",
       "      <td>6.8</td>\n",
       "      <td>1.84</td>\n",
       "      <td>1.66</td>\n",
       "      <td>0.30</td>\n",
       "      <td>72.33</td>\n",
       "      <td>...</td>\n",
       "      <td>0.0</td>\n",
       "      <td>21.0</td>\n",
       "      <td>2.126</td>\n",
       "      <td>9.799</td>\n",
       "      <td>1.816</td>\n",
       "      <td>0.0</td>\n",
       "      <td>230.0</td>\n",
       "      <td>1 cup, pureed</td>\n",
       "      <td>136.0</td>\n",
       "      <td>1 fruit, without skin and seed</td>\n",
       "    </tr>\n",
       "    <tr>\n",
       "      <th>4</th>\n",
       "      <td>NUTRIONAL YEAST</td>\n",
       "      <td>325</td>\n",
       "      <td>40.44</td>\n",
       "      <td>7.61</td>\n",
       "      <td>41.22</td>\n",
       "      <td>26.9</td>\n",
       "      <td>14.32</td>\n",
       "      <td>5.65</td>\n",
       "      <td>0.00</td>\n",
       "      <td>5.08</td>\n",
       "      <td>...</td>\n",
       "      <td>0.0</td>\n",
       "      <td>0.4</td>\n",
       "      <td>1.001</td>\n",
       "      <td>4.309</td>\n",
       "      <td>0.017</td>\n",
       "      <td>0.0</td>\n",
       "      <td>4.0</td>\n",
       "      <td>1 tsp</td>\n",
       "      <td>12.0</td>\n",
       "      <td>1 tbsp</td>\n",
       "    </tr>\n",
       "  </tbody>\n",
       "</table>\n",
       "<p>5 rows × 52 columns</p>\n",
       "</div>"
      ],
      "text/plain": [
       "         Shrt_Desc  Energ_Kcal  Protein_g  Lipid_Tot_g  Carbohydrt_g  \\\n",
       "0              EGG         143      12.56         9.51          0.72   \n",
       "1           CHEESE         371      23.24        29.68          2.79   \n",
       "2            BACON         417      12.62        39.69          1.28   \n",
       "3          AVOCADO         167       1.96        15.41          8.64   \n",
       "4  NUTRIONAL YEAST         325      40.44         7.61         41.22   \n",
       "\n",
       "   Fiber_TD_g  Net_Carbs  Ash_g  Sugar_Tot_g  Water_g  ...  Vit_D_IU  \\\n",
       "0         0.0       0.72   1.06         0.37    76.15  ...      82.0   \n",
       "1         0.0       2.79   3.18         0.51    41.11  ...      22.0   \n",
       "2         0.0       1.28   2.17         1.00    44.24  ...      16.0   \n",
       "3         6.8       1.84   1.66         0.30    72.33  ...       0.0   \n",
       "4        26.9      14.32   5.65         0.00     5.08  ...       0.0   \n",
       "\n",
       "   Vit_K_mmg  FA_Sat_g  FA_Mono_g  FA_Poly_g  Cholestrl_mg  GmWt_1  \\\n",
       "0        0.3     3.126      3.658      1.911         372.0    50.0   \n",
       "1        2.5    18.764      8.598      0.784          94.0   132.0   \n",
       "2        0.0    13.296     17.439      6.454          66.0    28.0   \n",
       "3       21.0     2.126      9.799      1.816           0.0   230.0   \n",
       "4        0.4     1.001      4.309      0.017           0.0     4.0   \n",
       "\n",
       "      GmWt_Desc1  GmWt_2                      GmWt_Desc2  \n",
       "0        1 large    56.0                   1 extra large  \n",
       "1   1 cup, diced   113.0                 1 cup, shredded  \n",
       "2   1 slice, raw   442.0                       1 package  \n",
       "3  1 cup, pureed   136.0  1 fruit, without skin and seed  \n",
       "4          1 tsp    12.0                          1 tbsp  \n",
       "\n",
       "[5 rows x 52 columns]"
      ]
     },
     "execution_count": 164,
     "metadata": {},
     "output_type": "execute_result"
    }
   ],
   "source": [
    "conn = sqlite3.connect('food.db')\n",
    "query = '''SELECT * FROM foods \n",
    "WHERE Shrt_Desc IN ('EGG','CHEESE', 'BACON','AVOCADO','NUTRIONAL YEAST');\n",
    "'''\n",
    "\n",
    "foo = pd.read_sql_query(query,conn)\n",
    "foo"
   ]
  },
  {
   "cell_type": "code",
   "execution_count": null,
   "metadata": {
    "ExecuteTime": {
     "end_time": "2021-02-09T11:56:03.974743Z",
     "start_time": "2021-02-09T11:56:03.967613Z"
    }
   },
   "outputs": [],
   "source": [
    "sodiena['QUANT'] = [1,3, 1.36, 1.12, 0.05]"
   ]
  },
  {
   "cell_type": "code",
   "execution_count": null,
   "metadata": {
    "ExecuteTime": {
     "end_time": "2021-02-09T11:56:05.185546Z",
     "start_time": "2021-02-09T11:56:05.169344Z"
    }
   },
   "outputs": [],
   "source": [
    "sodiena['Net_carbs'] = sodiena['Carbohydrt_(g)'] - sodiena['Fiber_TD_(g)']"
   ]
  },
  {
   "cell_type": "code",
   "execution_count": null,
   "metadata": {
    "ExecuteTime": {
     "end_time": "2021-02-09T11:19:45.615634Z",
     "start_time": "2021-02-09T11:19:45.572949Z"
    }
   },
   "outputs": [],
   "source": [
    "sodiena"
   ]
  },
  {
   "cell_type": "code",
   "execution_count": null,
   "metadata": {
    "ExecuteTime": {
     "end_time": "2021-02-09T11:46:48.318354Z",
     "start_time": "2021-02-09T11:46:48.296176Z"
    }
   },
   "outputs": [],
   "source": [
    "sodiena[['Energ_Kcal', 'Protein_(g)','Lipid_Tot_(g)', 'Carbohydrt_(g)','Net_carbs']].multiply(sodiena[\"QUANT\"], axis=\"index\")"
   ]
  },
  {
   "cell_type": "code",
   "execution_count": null,
   "metadata": {
    "ExecuteTime": {
     "end_time": "2021-02-09T11:21:26.664307Z",
     "start_time": "2021-02-09T11:21:26.650329Z"
    }
   },
   "outputs": [],
   "source": [
    "sodiena[['Energ_Kcal', 'Protein_(g)','Lipid_Tot_(g)', 'Carbohydrt_(g)','Net_carbs']].multiply(sodiena[\"QUANT\"], axis=\"index\").sum(axis=0)"
   ]
  },
  {
   "cell_type": "code",
   "execution_count": null,
   "metadata": {
    "ExecuteTime": {
     "end_time": "2021-02-09T11:19:45.723817Z",
     "start_time": "2021-02-09T11:19:45.708552Z"
    }
   },
   "outputs": [],
   "source": [
    "kcal = 1609\n",
    "carbs = 20\n",
    "protein = 106\n",
    "fat = 123"
   ]
  },
  {
   "cell_type": "code",
   "execution_count": null,
   "metadata": {
    "ExecuteTime": {
     "end_time": "2021-02-09T11:57:49.533457Z",
     "start_time": "2021-02-09T11:57:49.515434Z"
    }
   },
   "outputs": [],
   "source": [
    "one = pd.pivot_table(sodiena[['Shrt_Desc','Energ_Kcal', 'Protein_(g)','Lipid_Tot_(g)','Net_carbs','QUANT']],index=[\"Shrt_Desc\"])"
   ]
  },
  {
   "cell_type": "code",
   "execution_count": null,
   "metadata": {
    "ExecuteTime": {
     "end_time": "2021-02-09T11:58:11.239354Z",
     "start_time": "2021-02-09T11:58:11.217254Z"
    }
   },
   "outputs": [],
   "source": [
    "one[['Energ_Kcal', 'Protein_(g)','Lipid_Tot_(g)','Net_carbs']].multiply(one[\"QUANT\"], axis=\"index\")"
   ]
  },
  {
   "cell_type": "code",
   "execution_count": null,
   "metadata": {
    "ExecuteTime": {
     "end_time": "2021-02-09T11:59:31.226059Z",
     "start_time": "2021-02-09T11:59:31.213028Z"
    }
   },
   "outputs": [],
   "source": [
    "sodiena[['Energ_Kcal', 'Protein_(g)','Lipid_Tot_(g)','Net_carbs']].multiply(sodiena[\"QUANT\"], axis=\"index\").sum(axis=0)"
   ]
  }
 ],
 "metadata": {
  "kernelspec": {
   "display_name": "Python 3",
   "language": "python",
   "name": "python3"
  },
  "language_info": {
   "codemirror_mode": {
    "name": "ipython",
    "version": 3
   },
   "file_extension": ".py",
   "mimetype": "text/x-python",
   "name": "python",
   "nbconvert_exporter": "python",
   "pygments_lexer": "ipython3",
   "version": "3.7.4"
  },
  "toc": {
   "base_numbering": 1,
   "nav_menu": {},
   "number_sections": true,
   "sideBar": true,
   "skip_h1_title": false,
   "title_cell": "Table of Contents",
   "title_sidebar": "Contents",
   "toc_cell": false,
   "toc_position": {},
   "toc_section_display": true,
   "toc_window_display": false
  }
 },
 "nbformat": 4,
 "nbformat_minor": 2
}
