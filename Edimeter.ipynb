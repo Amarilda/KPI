{
 "cells": [
  {
   "cell_type": "code",
   "execution_count": null,
   "metadata": {
    "ExecuteTime": {
     "end_time": "2021-04-16T13:58:47.669575Z",
     "start_time": "2021-04-16T13:58:47.390830Z"
    }
   },
   "outputs": [],
   "source": [
    "import time \n",
    "import sys\n",
    "\n",
    "from playsound import playsound"
   ]
  },
  {
   "cell_type": "code",
   "execution_count": null,
   "metadata": {
    "ExecuteTime": {
     "end_time": "2021-04-16T14:10:05.946995Z",
     "start_time": "2021-04-16T14:10:05.907229Z"
    }
   },
   "outputs": [],
   "source": [
    "def user_imput():\n",
    "    interval = int(input(\"Block length: \"))\n",
    "    break_duration = int(input(\"Break in minutes: \"))\n",
    "    total_duration = int(input(\"Todays Mission: \"))\n",
    "    return interval, break_duration, total_duration"
   ]
  },
  {
   "cell_type": "code",
   "execution_count": null,
   "metadata": {
    "ExecuteTime": {
     "end_time": "2021-04-16T14:16:56.486328Z",
     "start_time": "2021-04-16T14:16:56.480149Z"
    }
   },
   "outputs": [],
   "source": [
    "def countdown(interval):\n",
    "    for i in range(interval, -1, -1):\n",
    "        for j in range(59, -1, -1):\n",
    "            sys.stdout.write(f'\\n Duration: Minutes {i} Seconds {j} to go')\n",
    "            time.sleep(1)\n",
    "            sys.stdout.flush()    "
   ]
  },
  {
   "cell_type": "code",
   "execution_count": null,
   "metadata": {
    "ExecuteTime": {
     "end_time": "2021-04-16T14:22:21.221760Z",
     "start_time": "2021-04-16T14:16:58.759487Z"
    }
   },
   "outputs": [],
   "source": [
    "if __name__ == \"__main__\":\n",
    "    session_count = 0\n",
    "    interval, break_duration, total_duration = user_imput()\n",
    "    \n",
    "    while session_count < total_duration:\n",
    "        \n",
    "        countdown(interval)\n",
    "        print('\\nBreak time!')\n",
    "        \n",
    "        countdown(break_duration)\n",
    "        session_count += 1\n",
    "        print('\\nsession number: ', session_count)\n",
    "        print('\\nEnd of Session!')"
   ]
  },
  {
   "cell_type": "code",
   "execution_count": null,
   "metadata": {
    "ExecuteTime": {
     "end_time": "2021-04-16T14:09:28.059315Z",
     "start_time": "2021-04-16T14:07:50.243659Z"
    }
   },
   "outputs": [],
   "source": [
    "interval = 5\n",
    "\n",
    "for i in range(interval, -1, -1):\n",
    "    for j in range(59, -1, -1):\n",
    "        sys.stdout.write(f'\\n Duration: Minutes {i} Seconds {j} to go')\n",
    "        time.sleep(1)\n",
    "        sys.stdout.flush()"
   ]
  },
  {
   "cell_type": "code",
   "execution_count": 12,
   "metadata": {
    "ExecuteTime": {
     "end_time": "2021-04-16T14:46:08.142473Z",
     "start_time": "2021-04-16T14:46:08.135613Z"
    }
   },
   "outputs": [
    {
     "data": {
      "text/plain": [
       "'!\"#$%&\\'()*+,-./:;<=>?@[\\\\]^_`{|}~'"
      ]
     },
     "execution_count": 12,
     "metadata": {},
     "output_type": "execute_result"
    }
   ],
   "source": [
    "import string\n",
    "from string import punctuation\n",
    "string.punctuation"
   ]
  },
  {
   "cell_type": "code",
   "execution_count": null,
   "metadata": {
    "ExecuteTime": {
     "end_time": "2021-04-16T14:22:56.120197Z",
     "start_time": "2021-04-16T14:22:56.116553Z"
    }
   },
   "outputs": [],
   "source": [
    "##2"
   ]
  },
  {
   "cell_type": "code",
   "execution_count": 1,
   "metadata": {
    "ExecuteTime": {
     "end_time": "2021-04-17T08:05:23.760646Z",
     "start_time": "2021-04-17T08:05:23.603722Z"
    }
   },
   "outputs": [],
   "source": [
    "import time\n",
    "import datetime as dt\n",
    "\n",
    "import tkinter as tk\n",
    "from tkinter import messagebox\n",
    "#import winsound"
   ]
  },
  {
   "cell_type": "code",
   "execution_count": 3,
   "metadata": {
    "ExecuteTime": {
     "end_time": "2021-04-17T08:05:43.466326Z",
     "start_time": "2021-04-17T08:05:43.460476Z"
    }
   },
   "outputs": [],
   "source": [
    "t_now = dt.datetime.now()\n",
    "t_pom = 1*60\n",
    "t_delta = dt.timedelta(0, t_pom)\n",
    "t_fut = t_now +t_delta\n",
    "delta_sec = 5*60\n",
    "t_fin = t_now+dt.timedelta(0,t_pom+delta_sec)"
   ]
  },
  {
   "cell_type": "code",
   "execution_count": null,
   "metadata": {
    "ExecuteTime": {
     "start_time": "2021-04-17T08:05:44.946Z"
    }
   },
   "outputs": [],
   "source": [
    "root = tk.Tk()\n",
    "root.withdraw()\n",
    "\n",
    "messagebox.showinfo(\"Pomodoro started\", \"\\n it is now\"+t_now.strftime(\"%H:%M\")+\"hrs.\\nTimer set up for 25 mins\")\n",
    "\n",
    "total_pomodoros = 0\n",
    "while True:\n",
    "    if t_now < t_fut:\n",
    "        #print(dt.datetime.now())\n",
    "        continue\n",
    "        \n",
    "    elif t_fut <= t_now <=t_fin:\n",
    "        print('in break')\n",
    "        if breaks == 0:\n",
    "            print('if break')\n",
    "            \n",
    "        print('Break time!')\n",
    "        breaks += 1\n",
    "    else:\n",
    "        print('finished')\n",
    "        breaks = 0\n",
    "        \n",
    "        usr_ans = messagebox.askyesno(\"Pomodoro Finished\", \"would you like to start another pomodoro?\")\n",
    "        total_pomodoros +=1\n",
    "        if usr_ans == True:\n",
    "            t_now = dt.datetime.now()\n",
    "            t_fut = t_now +dt.timedelta(0,t_pom)\n",
    "            t_fin = t_now +dt.timedelta(0,t_pom+delta_sec)\n",
    "            continue\n",
    "        elif usr_ans == False:\n",
    "            messagebox.showinfo(\"Pomodoro Finished\", \"\\n You completed \"+str(total_pomodoros)+\" pomodoros today!\")\n",
    "            "
   ]
  },
  {
   "cell_type": "code",
   "execution_count": 4,
   "metadata": {
    "ExecuteTime": {
     "end_time": "2021-04-18T18:07:35.320250Z",
     "start_time": "2021-04-18T18:07:26.955449Z"
    }
   },
   "outputs": [],
   "source": [
    "import pandas as pd\n",
    "from datetime import datetime"
   ]
  },
  {
   "cell_type": "code",
   "execution_count": 5,
   "metadata": {
    "ExecuteTime": {
     "end_time": "2021-04-18T18:07:35.356039Z",
     "start_time": "2021-04-18T18:07:35.323142Z"
    }
   },
   "outputs": [],
   "source": [
    "df = pd.read_csv(\"feelings.csv\")"
   ]
  },
  {
   "cell_type": "code",
   "execution_count": 26,
   "metadata": {
    "ExecuteTime": {
     "end_time": "2021-04-18T18:59:57.609907Z",
     "start_time": "2021-04-18T18:59:34.553811Z"
    }
   },
   "outputs": [
    {
     "name": "stdout",
     "output_type": "stream",
     "text": [
      "datums18/04/2021\n",
      "The date is already filled in\n",
      "Do you want overwrite Y/N?Y\n",
      "feeling\n",
      "ok\n",
      "walk\n",
      "0\n",
      "journal\n",
      "0\n",
      "keto\n",
      "0\n",
      "if\n",
      "0\n",
      "exercise\n",
      "0\n",
      "jump\n",
      "0\n",
      "mediation\n",
      "0\n",
      "mg\n",
      "0\n",
      "alcohol\n",
      "0\n",
      "headache\n",
      "0\n",
      "latesleep\n",
      "0\n",
      "interrupted sleep(tothenextday)\n",
      "0\n"
     ]
    }
   ],
   "source": [
    "import datetime as dt\n",
    "atbilde = []\n",
    "\n",
    "datums = input(\"datums\")\n",
    "\n",
    "for i in df.date:\n",
    "    if str(datums) in  i:\n",
    "        print(\"The date is already filled in\")\n",
    "        ans = input(\"Do you want overwrite Y/N?\")\n",
    "atbilde.append(datums)        \n",
    "       \n",
    "for i in df.columns[1:]:\n",
    "    print(i)\n",
    "    i = input()\n",
    "    atbilde.append(i)\n",
    "    \n",
    "print(atbilde)"
   ]
  },
  {
   "cell_type": "code",
   "execution_count": 26,
   "metadata": {
    "ExecuteTime": {
     "end_time": "2021-04-18T11:26:26.856720Z",
     "start_time": "2021-04-18T11:26:26.839334Z"
    }
   },
   "outputs": [],
   "source": [
    "df.loc[len(df)] = atbilde\n",
    "df.to_csv(\"feelings.csv\", index = False) "
   ]
  },
  {
   "cell_type": "code",
   "execution_count": 45,
   "metadata": {
    "ExecuteTime": {
     "end_time": "2021-04-18T11:35:49.046490Z",
     "start_time": "2021-04-18T11:35:48.962665Z"
    }
   },
   "outputs": [
    {
     "data": {
      "text/html": [
       "<div>\n",
       "<style scoped>\n",
       "    .dataframe tbody tr th:only-of-type {\n",
       "        vertical-align: middle;\n",
       "    }\n",
       "\n",
       "    .dataframe tbody tr th {\n",
       "        vertical-align: top;\n",
       "    }\n",
       "\n",
       "    .dataframe thead th {\n",
       "        text-align: right;\n",
       "    }\n",
       "</style>\n",
       "<table border=\"1\" class=\"dataframe\">\n",
       "  <thead>\n",
       "    <tr style=\"text-align: right;\">\n",
       "      <th></th>\n",
       "      <th>date</th>\n",
       "      <th>feeling</th>\n",
       "      <th>walk</th>\n",
       "      <th>journal</th>\n",
       "      <th>keto</th>\n",
       "      <th>if</th>\n",
       "      <th>exercise</th>\n",
       "      <th>jump</th>\n",
       "      <th>mediation</th>\n",
       "      <th>mg</th>\n",
       "      <th>alcohol</th>\n",
       "      <th>headache</th>\n",
       "      <th>latesleep</th>\n",
       "      <th>interrupted sleep(tothenextday)</th>\n",
       "    </tr>\n",
       "  </thead>\n",
       "  <tbody>\n",
       "    <tr>\n",
       "      <th>0</th>\n",
       "      <td>2029-01-04</td>\n",
       "      <td>calm</td>\n",
       "      <td>NaN</td>\n",
       "      <td>NaN</td>\n",
       "      <td>NaN</td>\n",
       "      <td>NaN</td>\n",
       "      <td>NaN</td>\n",
       "      <td>NaN</td>\n",
       "      <td>NaN</td>\n",
       "      <td>NaN</td>\n",
       "      <td>NaN</td>\n",
       "      <td>NaN</td>\n",
       "      <td>NaN</td>\n",
       "      <td>NaN</td>\n",
       "    </tr>\n",
       "    <tr>\n",
       "      <th>6</th>\n",
       "      <td>2021-12-04</td>\n",
       "      <td>normal</td>\n",
       "      <td>1.0</td>\n",
       "      <td>1.0</td>\n",
       "      <td>1.0</td>\n",
       "      <td>NaN</td>\n",
       "      <td>NaN</td>\n",
       "      <td>NaN</td>\n",
       "      <td>NaN</td>\n",
       "      <td>NaN</td>\n",
       "      <td>NaN</td>\n",
       "      <td>NaN</td>\n",
       "      <td>NaN</td>\n",
       "      <td>NaN</td>\n",
       "    </tr>\n",
       "    <tr>\n",
       "      <th>38</th>\n",
       "      <td>2021-12-03</td>\n",
       "      <td>happy</td>\n",
       "      <td>1.0</td>\n",
       "      <td>NaN</td>\n",
       "      <td>NaN</td>\n",
       "      <td>1.0</td>\n",
       "      <td>1.0</td>\n",
       "      <td>500.0</td>\n",
       "      <td>NaN</td>\n",
       "      <td>NaN</td>\n",
       "      <td>NaN</td>\n",
       "      <td>NaN</td>\n",
       "      <td>NaN</td>\n",
       "      <td>NaN</td>\n",
       "    </tr>\n",
       "    <tr>\n",
       "      <th>66</th>\n",
       "      <td>2021-12-02</td>\n",
       "      <td>determinant</td>\n",
       "      <td>NaN</td>\n",
       "      <td>NaN</td>\n",
       "      <td>NaN</td>\n",
       "      <td>1.0</td>\n",
       "      <td>NaN</td>\n",
       "      <td>NaN</td>\n",
       "      <td>NaN</td>\n",
       "      <td>NaN</td>\n",
       "      <td>1.0</td>\n",
       "      <td>1.0</td>\n",
       "      <td>NaN</td>\n",
       "      <td>NaN</td>\n",
       "    </tr>\n",
       "    <tr>\n",
       "      <th>97</th>\n",
       "      <td>2021-12-01</td>\n",
       "      <td>tired</td>\n",
       "      <td>1.0</td>\n",
       "      <td>NaN</td>\n",
       "      <td>NaN</td>\n",
       "      <td>NaN</td>\n",
       "      <td>1.0</td>\n",
       "      <td>NaN</td>\n",
       "      <td>NaN</td>\n",
       "      <td>NaN</td>\n",
       "      <td>NaN</td>\n",
       "      <td>1.0</td>\n",
       "      <td>NaN</td>\n",
       "      <td>1.0</td>\n",
       "    </tr>\n",
       "    <tr>\n",
       "      <th>...</th>\n",
       "      <td>...</td>\n",
       "      <td>...</td>\n",
       "      <td>...</td>\n",
       "      <td>...</td>\n",
       "      <td>...</td>\n",
       "      <td>...</td>\n",
       "      <td>...</td>\n",
       "      <td>...</td>\n",
       "      <td>...</td>\n",
       "      <td>...</td>\n",
       "      <td>...</td>\n",
       "      <td>...</td>\n",
       "      <td>...</td>\n",
       "      <td>...</td>\n",
       "    </tr>\n",
       "    <tr>\n",
       "      <th>95</th>\n",
       "      <td>2021-01-14</td>\n",
       "      <td>determinant</td>\n",
       "      <td>1.0</td>\n",
       "      <td>NaN</td>\n",
       "      <td>NaN</td>\n",
       "      <td>NaN</td>\n",
       "      <td>NaN</td>\n",
       "      <td>NaN</td>\n",
       "      <td>NaN</td>\n",
       "      <td>NaN</td>\n",
       "      <td>NaN</td>\n",
       "      <td>NaN</td>\n",
       "      <td>NaN</td>\n",
       "      <td>NaN</td>\n",
       "    </tr>\n",
       "    <tr>\n",
       "      <th>96</th>\n",
       "      <td>2021-01-13</td>\n",
       "      <td>tired down happy</td>\n",
       "      <td>NaN</td>\n",
       "      <td>NaN</td>\n",
       "      <td>NaN</td>\n",
       "      <td>NaN</td>\n",
       "      <td>1.0</td>\n",
       "      <td>NaN</td>\n",
       "      <td>NaN</td>\n",
       "      <td>NaN</td>\n",
       "      <td>NaN</td>\n",
       "      <td>1.0</td>\n",
       "      <td>NaN</td>\n",
       "      <td>1.0</td>\n",
       "    </tr>\n",
       "    <tr>\n",
       "      <th>17</th>\n",
       "      <td>2021-01-04</td>\n",
       "      <td>calm</td>\n",
       "      <td>NaN</td>\n",
       "      <td>NaN</td>\n",
       "      <td>NaN</td>\n",
       "      <td>NaN</td>\n",
       "      <td>1.0</td>\n",
       "      <td>NaN</td>\n",
       "      <td>NaN</td>\n",
       "      <td>NaN</td>\n",
       "      <td>1.0</td>\n",
       "      <td>NaN</td>\n",
       "      <td>NaN</td>\n",
       "      <td>NaN</td>\n",
       "    </tr>\n",
       "    <tr>\n",
       "      <th>49</th>\n",
       "      <td>2021-01-03</td>\n",
       "      <td>calmsleepylow energy</td>\n",
       "      <td>1.0</td>\n",
       "      <td>NaN</td>\n",
       "      <td>NaN</td>\n",
       "      <td>1.0</td>\n",
       "      <td>NaN</td>\n",
       "      <td>NaN</td>\n",
       "      <td>NaN</td>\n",
       "      <td>NaN</td>\n",
       "      <td>NaN</td>\n",
       "      <td>NaN</td>\n",
       "      <td>NaN</td>\n",
       "      <td>NaN</td>\n",
       "    </tr>\n",
       "    <tr>\n",
       "      <th>77</th>\n",
       "      <td>2021-01-02</td>\n",
       "      <td>energised</td>\n",
       "      <td>NaN</td>\n",
       "      <td>NaN</td>\n",
       "      <td>NaN</td>\n",
       "      <td>NaN</td>\n",
       "      <td>NaN</td>\n",
       "      <td>NaN</td>\n",
       "      <td>NaN</td>\n",
       "      <td>NaN</td>\n",
       "      <td>NaN</td>\n",
       "      <td>NaN</td>\n",
       "      <td>NaN</td>\n",
       "      <td>NaN</td>\n",
       "    </tr>\n",
       "  </tbody>\n",
       "</table>\n",
       "<p>109 rows × 14 columns</p>\n",
       "</div>"
      ],
      "text/plain": [
       "         date               feeling  walk  journal  keto   if  exercise  \\\n",
       "0  2029-01-04                  calm   NaN      NaN   NaN  NaN       NaN   \n",
       "6  2021-12-04                normal   1.0      1.0   1.0  NaN       NaN   \n",
       "38 2021-12-03                 happy   1.0      NaN   NaN  1.0       1.0   \n",
       "66 2021-12-02           determinant   NaN      NaN   NaN  1.0       NaN   \n",
       "97 2021-12-01                 tired   1.0      NaN   NaN  NaN       1.0   \n",
       "..        ...                   ...   ...      ...   ...  ...       ...   \n",
       "95 2021-01-14           determinant   1.0      NaN   NaN  NaN       NaN   \n",
       "96 2021-01-13      tired down happy   NaN      NaN   NaN  NaN       1.0   \n",
       "17 2021-01-04                  calm   NaN      NaN   NaN  NaN       1.0   \n",
       "49 2021-01-03  calmsleepylow energy   1.0      NaN   NaN  1.0       NaN   \n",
       "77 2021-01-02             energised   NaN      NaN   NaN  NaN       NaN   \n",
       "\n",
       "     jump  mediation  mg  alcohol  headache  latesleep  \\\n",
       "0     NaN        NaN NaN      NaN       NaN        NaN   \n",
       "6     NaN        NaN NaN      NaN       NaN        NaN   \n",
       "38  500.0        NaN NaN      NaN       NaN        NaN   \n",
       "66    NaN        NaN NaN      1.0       1.0        NaN   \n",
       "97    NaN        NaN NaN      NaN       1.0        NaN   \n",
       "..    ...        ...  ..      ...       ...        ...   \n",
       "95    NaN        NaN NaN      NaN       NaN        NaN   \n",
       "96    NaN        NaN NaN      NaN       1.0        NaN   \n",
       "17    NaN        NaN NaN      1.0       NaN        NaN   \n",
       "49    NaN        NaN NaN      NaN       NaN        NaN   \n",
       "77    NaN        NaN NaN      NaN       NaN        NaN   \n",
       "\n",
       "    interrupted sleep(tothenextday)  \n",
       "0                               NaN  \n",
       "6                               NaN  \n",
       "38                              NaN  \n",
       "66                              NaN  \n",
       "97                              1.0  \n",
       "..                              ...  \n",
       "95                              NaN  \n",
       "96                              1.0  \n",
       "17                              NaN  \n",
       "49                              NaN  \n",
       "77                              NaN  \n",
       "\n",
       "[109 rows x 14 columns]"
      ]
     },
     "execution_count": 45,
     "metadata": {},
     "output_type": "execute_result"
    }
   ],
   "source": [
    "df.sort_values(by = 'date', ascending = False)"
   ]
  },
  {
   "cell_type": "code",
   "execution_count": 1,
   "metadata": {
    "ExecuteTime": {
     "end_time": "2021-04-18T18:06:48.796665Z",
     "start_time": "2021-04-18T18:06:44.337293Z"
    }
   },
   "outputs": [
    {
     "name": "stdout",
     "output_type": "stream",
     "text": [
      "01/03/2021\n"
     ]
    }
   ],
   "source": [
    "date = input()"
   ]
  },
  {
   "cell_type": "code",
   "execution_count": 6,
   "metadata": {
    "ExecuteTime": {
     "end_time": "2021-04-18T18:07:37.185705Z",
     "start_time": "2021-04-18T18:07:37.162010Z"
    }
   },
   "outputs": [
    {
     "data": {
      "text/plain": [
       "0      01/04/2029\n",
       "1      17/04/2021\n",
       "2      16/04/2021\n",
       "3      15/04/2021\n",
       "4      14/04/2021\n",
       "          ...    \n",
       "104    05/01/2021\n",
       "105    04/01/2021\n",
       "106    03/01/2021\n",
       "107    02/01/2021\n",
       "108    18/04/2021\n",
       "Name: date, Length: 109, dtype: object"
      ]
     },
     "execution_count": 6,
     "metadata": {},
     "output_type": "execute_result"
    }
   ],
   "source": [
    "df.date"
   ]
  },
  {
   "cell_type": "code",
   "execution_count": 25,
   "metadata": {
    "ExecuteTime": {
     "end_time": "2021-04-18T18:23:02.167907Z",
     "start_time": "2021-04-18T18:22:55.263055Z"
    }
   },
   "outputs": [
    {
     "name": "stdout",
     "output_type": "stream",
     "text": [
      "01/04/2029\n",
      "already taken\n"
     ]
    }
   ],
   "source": []
  },
  {
   "cell_type": "code",
   "execution_count": 1,
   "metadata": {
    "ExecuteTime": {
     "end_time": "2021-04-20T06:41:41.957710Z",
     "start_time": "2021-04-20T06:41:41.935964Z"
    }
   },
   "outputs": [
    {
     "data": {
      "text/plain": [
       "'/Users/Edite/Documents/GitHub/KPI'"
      ]
     },
     "execution_count": 1,
     "metadata": {},
     "output_type": "execute_result"
    }
   ],
   "source": [
    "pwd"
   ]
  },
  {
   "cell_type": "code",
   "execution_count": null,
   "metadata": {},
   "outputs": [],
   "source": []
  }
 ],
 "metadata": {
  "kernelspec": {
   "display_name": "Python 3",
   "language": "python",
   "name": "python3"
  },
  "language_info": {
   "codemirror_mode": {
    "name": "ipython",
    "version": 3
   },
   "file_extension": ".py",
   "mimetype": "text/x-python",
   "name": "python",
   "nbconvert_exporter": "python",
   "pygments_lexer": "ipython3",
   "version": "3.7.4"
  },
  "toc": {
   "base_numbering": 1,
   "nav_menu": {},
   "number_sections": true,
   "sideBar": true,
   "skip_h1_title": false,
   "title_cell": "Table of Contents",
   "title_sidebar": "Contents",
   "toc_cell": false,
   "toc_position": {},
   "toc_section_display": true,
   "toc_window_display": false
  }
 },
 "nbformat": 4,
 "nbformat_minor": 2
}
