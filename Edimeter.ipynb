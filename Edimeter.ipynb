{
 "cells": [
  {
   "cell_type": "code",
   "execution_count": null,
   "metadata": {
    "ExecuteTime": {
     "end_time": "2021-04-16T13:58:47.669575Z",
     "start_time": "2021-04-16T13:58:47.390830Z"
    }
   },
   "outputs": [],
   "source": [
    "import time \n",
    "import sys\n",
    "\n",
    "from playsound import playsound"
   ]
  },
  {
   "cell_type": "code",
   "execution_count": null,
   "metadata": {
    "ExecuteTime": {
     "end_time": "2021-04-16T14:10:05.946995Z",
     "start_time": "2021-04-16T14:10:05.907229Z"
    }
   },
   "outputs": [],
   "source": [
    "def user_imput():\n",
    "    interval = int(input(\"Block length: \"))\n",
    "    break_duration = int(input(\"Break in minutes: \"))\n",
    "    total_duration = int(input(\"Todays Mission: \"))\n",
    "    return interval, break_duration, total_duration"
   ]
  },
  {
   "cell_type": "code",
   "execution_count": null,
   "metadata": {
    "ExecuteTime": {
     "end_time": "2021-04-16T14:16:56.486328Z",
     "start_time": "2021-04-16T14:16:56.480149Z"
    }
   },
   "outputs": [],
   "source": [
    "def countdown(interval):\n",
    "    for i in range(interval, -1, -1):\n",
    "        for j in range(59, -1, -1):\n",
    "            sys.stdout.write(f'\\n Duration: Minutes {i} Seconds {j} to go')\n",
    "            time.sleep(1)\n",
    "            sys.stdout.flush()    "
   ]
  },
  {
   "cell_type": "code",
   "execution_count": null,
   "metadata": {
    "ExecuteTime": {
     "end_time": "2021-04-16T14:22:21.221760Z",
     "start_time": "2021-04-16T14:16:58.759487Z"
    }
   },
   "outputs": [],
   "source": [
    "if __name__ == \"__main__\":\n",
    "    session_count = 0\n",
    "    interval, break_duration, total_duration = user_imput()\n",
    "    \n",
    "    while session_count < total_duration:\n",
    "        \n",
    "        countdown(interval)\n",
    "        print('\\nBreak time!')\n",
    "        \n",
    "        countdown(break_duration)\n",
    "        session_count += 1\n",
    "        print('\\nsession number: ', session_count)\n",
    "        print('\\nEnd of Session!')"
   ]
  },
  {
   "cell_type": "code",
   "execution_count": null,
   "metadata": {
    "ExecuteTime": {
     "end_time": "2021-04-16T14:09:28.059315Z",
     "start_time": "2021-04-16T14:07:50.243659Z"
    }
   },
   "outputs": [],
   "source": [
    "interval = 5\n",
    "\n",
    "for i in range(interval, -1, -1):\n",
    "    for j in range(59, -1, -1):\n",
    "        sys.stdout.write(f'\\n Duration: Minutes {i} Seconds {j} to go')\n",
    "        time.sleep(1)\n",
    "        sys.stdout.flush()"
   ]
  },
  {
   "cell_type": "code",
   "execution_count": 12,
   "metadata": {
    "ExecuteTime": {
     "end_time": "2021-04-16T14:46:08.142473Z",
     "start_time": "2021-04-16T14:46:08.135613Z"
    }
   },
   "outputs": [
    {
     "data": {
      "text/plain": [
       "'!\"#$%&\\'()*+,-./:;<=>?@[\\\\]^_`{|}~'"
      ]
     },
     "execution_count": 12,
     "metadata": {},
     "output_type": "execute_result"
    }
   ],
   "source": [
    "import string\n",
    "from string import punctuation\n",
    "string.punctuation"
   ]
  },
  {
   "cell_type": "code",
   "execution_count": null,
   "metadata": {
    "ExecuteTime": {
     "end_time": "2021-04-16T14:22:56.120197Z",
     "start_time": "2021-04-16T14:22:56.116553Z"
    }
   },
   "outputs": [],
   "source": [
    "##2"
   ]
  },
  {
   "cell_type": "code",
   "execution_count": 1,
   "metadata": {
    "ExecuteTime": {
     "end_time": "2021-04-16T15:27:59.113606Z",
     "start_time": "2021-04-16T15:27:57.327678Z"
    }
   },
   "outputs": [],
   "source": [
    "import time\n",
    "import datetime as dt\n",
    "\n",
    "import tkinter as tk\n",
    "from tkinter import messagebox\n",
    "#import winsound"
   ]
  },
  {
   "cell_type": "code",
   "execution_count": 13,
   "metadata": {
    "ExecuteTime": {
     "end_time": "2021-04-16T15:37:19.857552Z",
     "start_time": "2021-04-16T15:37:19.603429Z"
    }
   },
   "outputs": [
    {
     "data": {
      "text/plain": [
       "''"
      ]
     },
     "execution_count": 13,
     "metadata": {},
     "output_type": "execute_result"
    }
   ],
   "source": [
    "textbox = tk.Entry()\n",
    "textbox.get()"
   ]
  },
  {
   "cell_type": "code",
   "execution_count": 23,
   "metadata": {
    "ExecuteTime": {
     "end_time": "2021-04-16T15:54:57.778339Z",
     "start_time": "2021-04-16T15:54:57.772057Z"
    }
   },
   "outputs": [],
   "source": [
    "t_now = dt.datetime.now()\n",
    "t_pom = 1*60\n",
    "t_delta = dt.timedelta(0, t_pom)\n",
    "t_fut = t_now +t_delta\n",
    "delta_sec = 5*60\n",
    "t_fin = t_now+dt.timedelta(0,t_pom+delta_sec)"
   ]
  },
  {
   "cell_type": "code",
   "execution_count": 19,
   "metadata": {
    "ExecuteTime": {
     "end_time": "2021-04-16T15:46:36.199596Z",
     "start_time": "2021-04-16T15:46:36.191666Z"
    }
   },
   "outputs": [],
   "source": [
    "messagebox.showinfo?"
   ]
  },
  {
   "cell_type": "code",
   "execution_count": null,
   "metadata": {
    "ExecuteTime": {
     "start_time": "2021-04-16T15:55:15.611Z"
    }
   },
   "outputs": [],
   "source": [
    "root = tk.Tk()\n",
    "root.withdraw()\n",
    "\n",
    "messagebox.showinfo(\"Pomodoro started\", \"\\n it is now\"+t_now.strftime(\"%H:%M\")+\"hrs.\\nTimer set up for 25 mins\")\n",
    "\n",
    "total_pomodoros = 0\n",
    "while True:\n",
    "    if t_now < t_fut:\n",
    "        #print(dt.datetime.now())\n",
    "        continue\n",
    "        \n",
    "    elif t_fut <= t_now <=t_fin:\n",
    "        print('in break')\n",
    "        if breaks == 0:\n",
    "            print('if break')\n",
    "            \n",
    "        print('Break time!')\n",
    "        breaks += 1\n",
    "    else:\n",
    "        print('finished')\n",
    "        breaks = 0\n",
    "        \n",
    "        usr_ans = messagebox.askyesno(\"Pomodoro Finished\", \"would you like to start another pomodoro?\")\n",
    "        total_pomodoros +=1\n",
    "        if usr_ans == True:\n",
    "            t_now = dt.datetime.now()\n",
    "            t_fut = t_now +dt.timedelta(0,t_pom)\n",
    "            t_fin = t_now +dt.timedelta(0,t_pom+delta_sec)\n",
    "            continue\n",
    "        elif usr_ans == False:\n",
    "            messagebox.showinfo(\"Pomodoro Finished\", \"\\n You completed \"+str(total_pomodoros)+\" pomodoros today!\")\n",
    "            "
   ]
  },
  {
   "cell_type": "code",
   "execution_count": null,
   "metadata": {},
   "outputs": [],
   "source": []
  }
 ],
 "metadata": {
  "kernelspec": {
   "display_name": "Python 3",
   "language": "python",
   "name": "python3"
  },
  "language_info": {
   "codemirror_mode": {
    "name": "ipython",
    "version": 3
   },
   "file_extension": ".py",
   "mimetype": "text/x-python",
   "name": "python",
   "nbconvert_exporter": "python",
   "pygments_lexer": "ipython3",
   "version": "3.7.4"
  },
  "toc": {
   "base_numbering": 1,
   "nav_menu": {},
   "number_sections": true,
   "sideBar": true,
   "skip_h1_title": false,
   "title_cell": "Table of Contents",
   "title_sidebar": "Contents",
   "toc_cell": false,
   "toc_position": {},
   "toc_section_display": true,
   "toc_window_display": false
  }
 },
 "nbformat": 4,
 "nbformat_minor": 2
}
