{
 "cells": [
  {
   "cell_type": "code",
   "execution_count": null,
   "metadata": {
    "ExecuteTime": {
     "end_time": "2021-04-13T18:27:22.400451Z",
     "start_time": "2021-04-13T18:27:16.161539Z"
    }
   },
   "outputs": [],
   "source": [
    "import pandas as pd\n",
    "import sqlite3\n",
    "import datetime"
   ]
  },
  {
   "cell_type": "markdown",
   "metadata": {},
   "source": [
    "## EXISTING FOODS"
   ]
  },
  {
   "cell_type": "code",
   "execution_count": null,
   "metadata": {
    "ExecuteTime": {
     "end_time": "2021-04-13T18:40:40.285786Z",
     "start_time": "2021-04-13T18:40:40.225137Z"
    }
   },
   "outputs": [],
   "source": [
    "conn = sqlite3.connect('food.db')\n",
    "query = \"SELECT * FROM foods;\"\n",
    "\n",
    "foo = pd.read_sql_query(query,conn)\n",
    "print(\"Existing foods\")\n",
    "foo.tail()"
   ]
  },
  {
   "cell_type": "markdown",
   "metadata": {
    "ExecuteTime": {
     "end_time": "2021-02-10T08:52:35.954378Z",
     "start_time": "2021-02-10T08:52:35.946401Z"
    }
   },
   "source": [
    "Daily log"
   ]
  },
  {
   "cell_type": "code",
   "execution_count": null,
   "metadata": {
    "ExecuteTime": {
     "end_time": "2021-04-13T18:41:49.627451Z",
     "start_time": "2021-04-13T18:41:49.598517Z"
    }
   },
   "outputs": [],
   "source": [
    "connection = sqlite3.connect(\"food.db\")\n",
    "cursor = connection.cursor()\n",
    "cursor.executescript(\"DELETE FROM daily where date = '2021-04-13 00:00:00' and quantity = 2;\")"
   ]
  },
  {
   "cell_type": "code",
   "execution_count": null,
   "metadata": {
    "ExecuteTime": {
     "end_time": "2021-04-13T18:40:43.781291Z",
     "start_time": "2021-04-13T18:40:43.761903Z"
    }
   },
   "outputs": [],
   "source": [
    "#Change food here\n",
    "m = pd.DataFrame(foo.Shrt_Desc[foo.Shrt_Desc == \"CHEESE\" ])\n",
    "m.columns = [\"name\"]\n",
    "\n",
    "#Change # here\n",
    "m['quantity'] = [1.5]\n",
    "m['date'] = pd.to_datetime((datetime.datetime.now() - datetime.timedelta(days=0))).normalize()\n",
    "m"
   ]
  },
  {
   "cell_type": "code",
   "execution_count": null,
   "metadata": {
    "ExecuteTime": {
     "end_time": "2021-04-13T18:40:46.424003Z",
     "start_time": "2021-04-13T18:40:46.413386Z"
    }
   },
   "outputs": [],
   "source": [
    "m.to_sql(\"daily\", conn, if_exists='append', index = False)"
   ]
  },
  {
   "cell_type": "code",
   "execution_count": null,
   "metadata": {
    "ExecuteTime": {
     "end_time": "2021-04-13T18:40:47.514717Z",
     "start_time": "2021-04-13T18:40:47.494325Z"
    }
   },
   "outputs": [],
   "source": [
    "conn = sqlite3.connect('food.db')\n",
    "query = \"SELECT * FROM daily where date > '2021-04-12';\"\n",
    "\n",
    "voo = pd.read_sql_query(query,conn)\n",
    "voo"
   ]
  },
  {
   "cell_type": "markdown",
   "metadata": {},
   "source": [
    "## THIS IS TRANSFER PART"
   ]
  },
  {
   "cell_type": "code",
   "execution_count": null,
   "metadata": {
    "ExecuteTime": {
     "end_time": "2021-04-13T18:27:49.679675Z",
     "start_time": "2021-04-13T18:27:32.541969Z"
    }
   },
   "outputs": [],
   "source": [
    "df = pd.read_excel(\"/Users/Edite/foods.xlsx\")"
   ]
  },
  {
   "cell_type": "code",
   "execution_count": null,
   "metadata": {
    "ExecuteTime": {
     "end_time": "2021-04-13T18:27:49.723990Z",
     "start_time": "2021-04-13T18:27:49.683783Z"
    }
   },
   "outputs": [],
   "source": [
    "df.shape"
   ]
  },
  {
   "cell_type": "code",
   "execution_count": null,
   "metadata": {
    "ExecuteTime": {
     "end_time": "2021-04-13T18:38:31.089582Z",
     "start_time": "2021-04-13T18:38:31.047726Z"
    }
   },
   "outputs": [],
   "source": [
    "df[(df.Shrt_Desc.str.contains('BUTT') == True)\n",
    "   & (df.Shrt_Desc.str.contains('HEL') == True)\n",
    "   #& (df.Shrt_Desc.str.contains('SOUP') == False)\n",
    "   #& (df.Shrt_Desc.str.contains('FRZ') == True)\n",
    "]"
   ]
  },
  {
   "cell_type": "code",
   "execution_count": null,
   "metadata": {
    "ExecuteTime": {
     "end_time": "2021-04-13T18:37:06.135587Z",
     "start_time": "2021-04-13T18:37:06.085320Z"
    }
   },
   "outputs": [],
   "source": [
    "a = df[df.NDB_No.isin([1002]) == True].reset_index(drop = True)\n",
    "a\n",
    "\n",
    "a = a[['Shrt_Desc', 'Energ_Kcal', 'Protein_g', 'Lipid_Tot_g', 'Carbohydrt_g',\n",
    "       'Fiber_TD_g', 'Net_Carbs', 'Ash_g', 'Sugar_Tot_g', 'Water_g',\n",
    "       'Calcium_mg', 'Iron_mg', 'Magnesium_mg', 'Phosphorus_mg',\n",
    "       'Potassium_mg', 'Sodium_mg', 'Zinc_mg', 'Copper_mg', 'Manganese_mg',\n",
    "       'Selenium_mmg', 'Vit_C_mg', 'Thiamin_mg', 'Riboflavin_mg', 'Niacin_mg',\n",
    "       'Panto_Acid_mg', 'Vit_B6_mg', 'Folate_Tot_mmg', 'Folic_Acid_mmg',\n",
    "       'Food_Folate_mmg', 'Folate_DFE_mmg', 'Choline_Tot_mg', 'Vit_B12_mmg',\n",
    "       'Vit_A_IU', 'Vit_A_RAE', 'Retinol_mmg', 'Alpha_Carot_mmg',\n",
    "       'Beta_Carot_mmg', 'Beta_Crypt_mmg', 'Lycopene_mmg', 'LutZea_mmg',\n",
    "       'Vit_E_mg', 'Vit_D_mmg', 'Vit_D_IU', 'Vit_K_mmg', 'FA_Sat_g',\n",
    "       'FA_Mono_g', 'FA_Poly_g', 'Cholestrl_mg', 'GmWt_1', 'GmWt_Desc1',\n",
    "       'GmWt_2', 'GmWt_Desc2']]\n",
    "\n",
    "a.Shrt_Desc = \"BUTTER\"\n",
    "a"
   ]
  },
  {
   "cell_type": "code",
   "execution_count": null,
   "metadata": {
    "ExecuteTime": {
     "end_time": "2021-04-13T18:37:07.968150Z",
     "start_time": "2021-04-13T18:37:07.938021Z"
    }
   },
   "outputs": [],
   "source": [
    "conn = sqlite3.connect('food.db')\n",
    "a.to_sql(\"foods\", conn, if_exists='append', index = False)"
   ]
  },
  {
   "cell_type": "markdown",
   "metadata": {},
   "source": [
    "## KPI"
   ]
  },
  {
   "cell_type": "code",
   "execution_count": null,
   "metadata": {
    "ExecuteTime": {
     "end_time": "2021-04-13T18:42:50.876943Z",
     "start_time": "2021-04-13T18:42:50.868038Z"
    }
   },
   "outputs": [],
   "source": [
    "conn = sqlite3.connect('food.db')\n",
    "query = '''SELECT \n",
    "name\n",
    ",Net_Carbs *quantity as carbs\n",
    ",Protein_g *quantity as protein\n",
    ",Lipid_Tot_g*quantity as fat\n",
    ",energ_Kcal*quantity as Kcal\n",
    "FROM daily \n",
    "left join foods on daily.name = foods.Shrt_Desc\n",
    "WHERE date = \"2021-04-13 00:00:00\"\n",
    ";\n",
    "'''\n",
    "\n",
    "foo = pd.read_sql_query(query,conn)\n",
    "#foo"
   ]
  },
  {
   "cell_type": "code",
   "execution_count": null,
   "metadata": {
    "ExecuteTime": {
     "end_time": "2021-04-13T18:42:38.144350Z",
     "start_time": "2021-04-13T18:42:38.123494Z"
    }
   },
   "outputs": [],
   "source": [
    "pd.pivot_table(foo,index=[\"name\"]).sum(axis=0)"
   ]
  },
  {
   "cell_type": "code",
   "execution_count": null,
   "metadata": {
    "ExecuteTime": {
     "end_time": "2021-04-13T18:42:02.534208Z",
     "start_time": "2021-04-13T18:42:02.529002Z"
    }
   },
   "outputs": [],
   "source": [
    "carbs = 20\n",
    "protein = 106\n",
    "fat = 123\n",
    "kcal = 1609"
   ]
  },
  {
   "cell_type": "markdown",
   "metadata": {},
   "source": [
    "## Pseido Planing"
   ]
  },
  {
   "cell_type": "code",
   "execution_count": null,
   "metadata": {
    "ExecuteTime": {
     "end_time": "2021-03-01T11:15:39.135165Z",
     "start_time": "2021-03-01T11:15:39.071531Z"
    }
   },
   "outputs": [],
   "source": [
    "conn = sqlite3.connect('food.db')\n",
    "query = '''SELECT \n",
    "Shrt_Desc\n",
    ",Net_Carbs  \n",
    ",Protein_g  \n",
    ",Lipid_Tot_g \n",
    ",energ_Kcal \n",
    "FROM foods\n",
    "where Shrt_Desc in ('GELATIN POWDER', 'HEAVY WHIPPING CREAM', 'CREAM CHEESE','BLACKBERRIES,FRZ', 'ALMONDS');\n",
    "'''\n",
    "\n",
    "foo = pd.read_sql_query(query,conn)\n",
    "foo"
   ]
  },
  {
   "cell_type": "code",
   "execution_count": null,
   "metadata": {
    "ExecuteTime": {
     "end_time": "2021-03-01T11:15:42.767155Z",
     "start_time": "2021-03-01T11:15:42.725251Z"
    }
   },
   "outputs": [],
   "source": [
    "foo['Q'] = [2, 5, 1,4, 1]"
   ]
  },
  {
   "cell_type": "code",
   "execution_count": null,
   "metadata": {
    "ExecuteTime": {
     "end_time": "2021-03-01T11:15:43.569857Z",
     "start_time": "2021-03-01T11:15:43.513326Z"
    }
   },
   "outputs": [],
   "source": [
    "a = pd.pivot_table(foo, index = \"Shrt_Desc\")\n",
    "a"
   ]
  },
  {
   "cell_type": "code",
   "execution_count": null,
   "metadata": {
    "ExecuteTime": {
     "end_time": "2021-03-01T11:15:48.382743Z",
     "start_time": "2021-03-01T11:15:48.364275Z"
    }
   },
   "outputs": [],
   "source": [
    "a[['Net_Carbs', 'Protein_g', 'Lipid_Tot_g', 'Energ_Kcal']].multiply(a[\"Q\"], axis=\"index\")"
   ]
  },
  {
   "cell_type": "code",
   "execution_count": null,
   "metadata": {
    "ExecuteTime": {
     "end_time": "2021-03-01T11:15:49.040320Z",
     "start_time": "2021-03-01T11:15:49.026042Z"
    }
   },
   "outputs": [],
   "source": [
    "a[['Net_Carbs', 'Protein_g', 'Lipid_Tot_g', 'Energ_Kcal']].multiply(a[\"Q\"], axis=\"index\").sum(axis=0)"
   ]
  },
  {
   "cell_type": "code",
   "execution_count": null,
   "metadata": {
    "ExecuteTime": {
     "end_time": "2021-02-20T17:17:47.084359Z",
     "start_time": "2021-02-20T17:17:47.078000Z"
    }
   },
   "outputs": [],
   "source": [
    "carbs = 20\n",
    "protein = 106\n",
    "fat = 123\n",
    "kcal = 1609"
   ]
  },
  {
   "cell_type": "code",
   "execution_count": null,
   "metadata": {
    "ExecuteTime": {
     "end_time": "2021-02-20T17:30:21.146078Z",
     "start_time": "2021-02-20T17:30:21.136962Z"
    }
   },
   "outputs": [],
   "source": [
    "3579.00/2"
   ]
  },
  {
   "cell_type": "code",
   "execution_count": null,
   "metadata": {
    "ExecuteTime": {
     "end_time": "2021-03-01T11:16:30.211729Z",
     "start_time": "2021-03-01T11:16:30.203671Z"
    }
   },
   "outputs": [],
   "source": [
    "3699.0/5/2    "
   ]
  }
 ],
 "metadata": {
  "kernelspec": {
   "display_name": "Python 3",
   "language": "python",
   "name": "python3"
  },
  "language_info": {
   "codemirror_mode": {
    "name": "ipython",
    "version": 3
   },
   "file_extension": ".py",
   "mimetype": "text/x-python",
   "name": "python",
   "nbconvert_exporter": "python",
   "pygments_lexer": "ipython3",
   "version": "3.7.4"
  },
  "toc": {
   "base_numbering": 1,
   "nav_menu": {},
   "number_sections": true,
   "sideBar": true,
   "skip_h1_title": false,
   "title_cell": "Table of Contents",
   "title_sidebar": "Contents",
   "toc_cell": false,
   "toc_position": {
    "height": "calc(100% - 180px)",
    "left": "10px",
    "top": "150px",
    "width": "384px"
   },
   "toc_section_display": true,
   "toc_window_display": false
  }
 },
 "nbformat": 4,
 "nbformat_minor": 2
}
