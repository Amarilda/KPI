{
 "cells": [
  {
   "cell_type": "code",
   "execution_count": 1,
   "metadata": {
    "ExecuteTime": {
     "end_time": "2021-02-09T12:24:50.205394Z",
     "start_time": "2021-02-09T12:24:32.908059Z"
    }
   },
   "outputs": [],
   "source": [
    "import pandas as pd\n",
    "import sqlite3"
   ]
  },
  {
   "cell_type": "code",
   "execution_count": 2,
   "metadata": {
    "ExecuteTime": {
     "end_time": "2021-02-09T12:24:50.225612Z",
     "start_time": "2021-02-09T12:24:50.208554Z"
    }
   },
   "outputs": [],
   "source": [
    "connection = sqlite3.connect(\"food.db\")"
   ]
  },
  {
   "cell_type": "markdown",
   "metadata": {},
   "source": [
    "recipes = pd.read_excel(\"RECIPE_BOOK.xlsx\")\n",
    "recipes"
   ]
  },
  {
   "cell_type": "code",
   "execution_count": 62,
   "metadata": {
    "ExecuteTime": {
     "end_time": "2021-02-09T13:36:20.722210Z",
     "start_time": "2021-02-09T13:36:10.818680Z"
    }
   },
   "outputs": [],
   "source": [
    "df = pd.read_excel(\"/Users/Edite/foods.xlsx\")"
   ]
  },
  {
   "cell_type": "code",
   "execution_count": 82,
   "metadata": {
    "ExecuteTime": {
     "end_time": "2021-02-09T13:50:41.947351Z",
     "start_time": "2021-02-09T13:50:41.930247Z"
    },
    "scrolled": true
   },
   "outputs": [
    {
     "name": "stdout",
     "output_type": "stream",
     "text": [
      ",Shrt_Desc object\n",
      ",Energ_Kcal int64\n",
      ",Protein_g float64\n",
      ",Lipid_Tot_g float64\n",
      ",Ash_g float64\n",
      ",Carbohydrt_g float64\n",
      ",Fiber_TD_g float64\n",
      ",Sugar_Tot_g float64\n",
      ",Water_g float64\n",
      ",Calcium_mg float64\n",
      ",Iron_mg float64\n",
      ",Magnesium_mg float64\n",
      ",Phosphorus_mg float64\n",
      ",Potassium_mg float64\n",
      ",Sodium_mg float64\n",
      ",Zinc_mg float64\n",
      ",Copper_mg float64\n",
      ",Manganese_mg float64\n",
      ",Selenium_mmg float64\n",
      ",Vit_C_mg float64\n",
      ",Thiamin_mg float64\n",
      ",Riboflavin_mg float64\n",
      ",Niacin_mg float64\n",
      ",Panto_Acid_mg float64\n",
      ",Vit_B6_mg float64\n",
      ",Folate_Tot_mmg float64\n",
      ",Folic_Acid_mmg float64\n",
      ",Food_Folate_mmg float64\n",
      ",Folate_DFE_mmg float64\n",
      ",Choline_Tot_mg float64\n",
      ",Vit_B12_mmg float64\n",
      ",Vit_A_IU float64\n",
      ",Vit_A_RAE float64\n",
      ",Retinol_mmg float64\n",
      ",Alpha_Carot_mmg float64\n",
      ",Beta_Carot_mmg float64\n",
      ",Beta_Crypt_mmg float64\n",
      ",Lycopene_mmg float64\n",
      ",LutZea_mmg float64\n",
      ",Vit_E_mg float64\n",
      ",Vit_D_mmg float64\n",
      ",Vit_D_IU float64\n",
      ",Vit_K_mmg float64\n",
      ",FA_Sat_g float64\n",
      ",FA_Mono_g float64\n",
      ",FA_Poly_g float64\n",
      ",Cholestrl_mg float64\n",
      ",GmWt_1 float64\n",
      ",GmWt_Desc1 object\n",
      ",GmWt_2 float64\n",
      ",GmWt_Desc2 object\n"
     ]
    }
   ],
   "source": [
    "for i in df[transfer]:\n",
    "    print(\",\" +str(i).replace(\"(\",\"\").replace(\")\",\"\")\n",
    "          .replace(\"µ\",\"mm\").replace(\" \",\"\").replace(\"+\",\"\")\n",
    "          ,df[i].dtype)"
   ]
  },
  {
   "cell_type": "code",
   "execution_count": 8,
   "metadata": {
    "ExecuteTime": {
     "end_time": "2021-02-09T12:37:40.822358Z",
     "start_time": "2021-02-09T12:37:40.813822Z"
    }
   },
   "outputs": [],
   "source": [
    "transfer =['Shrt_Desc', 'Energ_Kcal', 'Protein_(g)','Lipid_Tot_(g)', \n",
    "        'Ash_(g)', 'Carbohydrt_(g)', 'Fiber_TD_(g)',\n",
    "       'Sugar_Tot_(g)', 'Water_(g)','Calcium_(mg)', 'Iron_(mg)', 'Magnesium_(mg)',\n",
    "       'Phosphorus_(mg)', 'Potassium_(mg)', 'Sodium_(mg)', 'Zinc_(mg)',\n",
    "       'Copper_mg)', 'Manganese_(mg)', 'Selenium_(µg)', 'Vit_C_(mg)',\n",
    "       'Thiamin_(mg)', 'Riboflavin_(mg)', 'Niacin_(mg)', 'Panto_Acid_mg)',\n",
    "       'Vit_B6_(mg)', 'Folate_Tot_(µg)', 'Folic_Acid_(µg)', 'Food_Folate_(µg)',\n",
    "       'Folate_DFE_(µg)', 'Choline_Tot_ (mg)', 'Vit_B12_(µg)', 'Vit_A_IU',\n",
    "       'Vit_A_RAE', 'Retinol_(µg)', 'Alpha_Carot_(µg)', 'Beta_Carot_(µg)',\n",
    "       'Beta_Crypt_(µg)', 'Lycopene_(µg)', 'Lut+Zea_ (µg)', 'Vit_E_(mg)',\n",
    "       'Vit_D_µg', 'Vit_D_IU', 'Vit_K_(µg)', 'FA_Sat_(g)', 'FA_Mono_(g)',\n",
    "       'FA_Poly_(g)', 'Cholestrl_(mg)', 'GmWt_1', 'GmWt_Desc1', 'GmWt_2',\n",
    "       'GmWt_Desc2']"
   ]
  },
  {
   "cell_type": "code",
   "execution_count": 83,
   "metadata": {
    "ExecuteTime": {
     "end_time": "2021-02-09T13:51:04.846974Z",
     "start_time": "2021-02-09T13:51:04.833526Z"
    }
   },
   "outputs": [
    {
     "data": {
      "text/plain": [
       "<sqlite3.Cursor at 0x7fb2487e93b0>"
      ]
     },
     "execution_count": 83,
     "metadata": {},
     "output_type": "execute_result"
    }
   ],
   "source": [
    "connection = sqlite3.connect(\"food.db\")\n",
    "cursor = connection.cursor()\n",
    "#cursor.executescript(\"DROP TABLE IF EXISTS foods\")\n",
    "\n",
    "cursor.execute(\n",
    "    '''CREATE TABLE foods (\n",
    "            Shrt_Desc object\n",
    "            ,Energ_Kcal int64\n",
    "            ,Protein_g float64\n",
    "            ,Lipid_Tot_g float64\n",
    "            ,Ash_g float64\n",
    "            ,Carbohydrt_g float64\n",
    "            ,Fiber_TD_g float64\n",
    "            ,Sugar_Tot_g float64\n",
    "            ,Water_g float64\n",
    "            ,Calcium_mg float64\n",
    "            ,Iron_mg float64\n",
    "            ,Magnesium_mg float64\n",
    "            ,Phosphorus_mg float64\n",
    "            ,Potassium_mg float64\n",
    "            ,Sodium_mg float64\n",
    "            ,Zinc_mg float64\n",
    "            ,Copper_mg float64\n",
    "            ,Manganese_mg float64\n",
    "            ,Selenium_mmg float64\n",
    "            ,Vit_C_mg float64\n",
    "            ,Thiamin_mg float64\n",
    "            ,Riboflavin_mg float64\n",
    "            ,Niacin_mg float64\n",
    "            ,Panto_Acid_mg float64\n",
    "            ,Vit_B6_mg float64\n",
    "            ,Folate_Tot_mmg float64\n",
    "            ,Folic_Acid_mmg float64\n",
    "            ,Food_Folate_mmg float64\n",
    "            ,Folate_DFE_mmg float64\n",
    "            ,Choline_Tot_mg float64\n",
    "            ,Vit_B12_mmg float64\n",
    "            ,Vit_A_IU float64\n",
    "            ,Vit_A_RAE float64\n",
    "            ,Retinol_mmg float64\n",
    "            ,Alpha_Carot_mmg float64\n",
    "            ,Beta_Carot_mmg float64\n",
    "            ,Beta_Crypt_mmg float64\n",
    "            ,Lycopene_mmg float64\n",
    "            ,LutZea_mmg float64\n",
    "            ,Vit_E_mg float64\n",
    "            ,Vit_D_mmg float64\n",
    "            ,Vit_D_IU float64\n",
    "            ,Vit_K_mmg float64\n",
    "            ,FA_Sat_g float64\n",
    "            ,FA_Mono_g float64\n",
    "            ,FA_Poly_g float64\n",
    "            ,Cholestrl_mg float64\n",
    "            ,GmWt_1 float64\n",
    "            ,GmWt_Desc1 object\n",
    "            ,GmWt_2 float64\n",
    "            ,GmWt_Desc2 object)''')"
   ]
  },
  {
   "cell_type": "code",
   "execution_count": 84,
   "metadata": {
    "ExecuteTime": {
     "end_time": "2021-02-09T13:51:09.193556Z",
     "start_time": "2021-02-09T13:51:09.162589Z"
    }
   },
   "outputs": [
    {
     "data": {
      "text/html": [
       "<div>\n",
       "<style scoped>\n",
       "    .dataframe tbody tr th:only-of-type {\n",
       "        vertical-align: middle;\n",
       "    }\n",
       "\n",
       "    .dataframe tbody tr th {\n",
       "        vertical-align: top;\n",
       "    }\n",
       "\n",
       "    .dataframe thead th {\n",
       "        text-align: right;\n",
       "    }\n",
       "</style>\n",
       "<table border=\"1\" class=\"dataframe\">\n",
       "  <thead>\n",
       "    <tr style=\"text-align: right;\">\n",
       "      <th></th>\n",
       "      <th>Shrt_Desc</th>\n",
       "      <th>Energ_Kcal</th>\n",
       "      <th>Protein_g</th>\n",
       "      <th>Lipid_Tot_g</th>\n",
       "      <th>Ash_g</th>\n",
       "      <th>Carbohydrt_g</th>\n",
       "      <th>Fiber_TD_g</th>\n",
       "      <th>Sugar_Tot_g</th>\n",
       "      <th>Water_g</th>\n",
       "      <th>Calcium_mg</th>\n",
       "      <th>...</th>\n",
       "      <th>Vit_D_IU</th>\n",
       "      <th>Vit_K_mmg</th>\n",
       "      <th>FA_Sat_g</th>\n",
       "      <th>FA_Mono_g</th>\n",
       "      <th>FA_Poly_g</th>\n",
       "      <th>Cholestrl_mg</th>\n",
       "      <th>GmWt_1</th>\n",
       "      <th>GmWt_Desc1</th>\n",
       "      <th>GmWt_2</th>\n",
       "      <th>GmWt_Desc2</th>\n",
       "    </tr>\n",
       "  </thead>\n",
       "  <tbody>\n",
       "  </tbody>\n",
       "</table>\n",
       "<p>0 rows × 51 columns</p>\n",
       "</div>"
      ],
      "text/plain": [
       "Empty DataFrame\n",
       "Columns: [Shrt_Desc, Energ_Kcal, Protein_g, Lipid_Tot_g, Ash_g, Carbohydrt_g, Fiber_TD_g, Sugar_Tot_g, Water_g, Calcium_mg, Iron_mg, Magnesium_mg, Phosphorus_mg, Potassium_mg, Sodium_mg, Zinc_mg, Copper_mg, Manganese_mg, Selenium_mmg, Vit_C_mg, Thiamin_mg, Riboflavin_mg, Niacin_mg, Panto_Acid_mg, Vit_B6_mg, Folate_Tot_mmg, Folic_Acid_mmg, Food_Folate_mmg, Folate_DFE_mmg, Choline_Tot_mg, Vit_B12_mmg, Vit_A_IU, Vit_A_RAE, Retinol_mmg, Alpha_Carot_mmg, Beta_Carot_mmg, Beta_Crypt_mmg, Lycopene_mmg, LutZea_mmg, Vit_E_mg, Vit_D_mmg, Vit_D_IU, Vit_K_mmg, FA_Sat_g, FA_Mono_g, FA_Poly_g, Cholestrl_mg, GmWt_1, GmWt_Desc1, GmWt_2, GmWt_Desc2]\n",
       "Index: []\n",
       "\n",
       "[0 rows x 51 columns]"
      ]
     },
     "execution_count": 84,
     "metadata": {},
     "output_type": "execute_result"
    }
   ],
   "source": [
    "conn = sqlite3.connect('food.db')\n",
    "query = \"SELECT * FROM foods;\"\n",
    "\n",
    "df = pd.read_sql_query(query,conn)\n",
    "df"
   ]
  },
  {
   "cell_type": "code",
   "execution_count": 14,
   "metadata": {
    "ExecuteTime": {
     "end_time": "2021-02-09T12:40:01.565861Z",
     "start_time": "2021-02-09T12:40:01.501953Z"
    }
   },
   "outputs": [
    {
     "data": {
      "text/html": [
       "<div>\n",
       "<style scoped>\n",
       "    .dataframe tbody tr th:only-of-type {\n",
       "        vertical-align: middle;\n",
       "    }\n",
       "\n",
       "    .dataframe tbody tr th {\n",
       "        vertical-align: top;\n",
       "    }\n",
       "\n",
       "    .dataframe thead th {\n",
       "        text-align: right;\n",
       "    }\n",
       "</style>\n",
       "<table border=\"1\" class=\"dataframe\">\n",
       "  <thead>\n",
       "    <tr style=\"text-align: right;\">\n",
       "      <th></th>\n",
       "      <th>NDB_No</th>\n",
       "      <th>Shrt_Desc</th>\n",
       "      <th>Water_(g)</th>\n",
       "      <th>Energ_Kcal</th>\n",
       "      <th>Protein_(g)</th>\n",
       "      <th>Lipid_Tot_(g)</th>\n",
       "      <th>Ash_(g)</th>\n",
       "      <th>Carbohydrt_(g)</th>\n",
       "      <th>Fiber_TD_(g)</th>\n",
       "      <th>Sugar_Tot_(g)</th>\n",
       "      <th>...</th>\n",
       "      <th>Vit_K_(µg)</th>\n",
       "      <th>FA_Sat_(g)</th>\n",
       "      <th>FA_Mono_(g)</th>\n",
       "      <th>FA_Poly_(g)</th>\n",
       "      <th>Cholestrl_(mg)</th>\n",
       "      <th>GmWt_1</th>\n",
       "      <th>GmWt_Desc1</th>\n",
       "      <th>GmWt_2</th>\n",
       "      <th>GmWt_Desc2</th>\n",
       "      <th>Refuse_Pct</th>\n",
       "    </tr>\n",
       "  </thead>\n",
       "  <tbody>\n",
       "    <tr>\n",
       "      <th>0</th>\n",
       "      <td>1005</td>\n",
       "      <td>CHEESE,BRICK</td>\n",
       "      <td>41.11</td>\n",
       "      <td>371</td>\n",
       "      <td>23.24</td>\n",
       "      <td>29.68</td>\n",
       "      <td>3.18</td>\n",
       "      <td>2.79</td>\n",
       "      <td>0.0</td>\n",
       "      <td>0.51</td>\n",
       "      <td>...</td>\n",
       "      <td>2.5</td>\n",
       "      <td>18.764</td>\n",
       "      <td>8.598</td>\n",
       "      <td>0.784</td>\n",
       "      <td>94.0</td>\n",
       "      <td>132.0</td>\n",
       "      <td>1 cup, diced</td>\n",
       "      <td>113.0</td>\n",
       "      <td>1 cup, shredded</td>\n",
       "      <td>0.0</td>\n",
       "    </tr>\n",
       "    <tr>\n",
       "      <th>1</th>\n",
       "      <td>1123</td>\n",
       "      <td>EGG,WHL,RAW,FRSH</td>\n",
       "      <td>76.15</td>\n",
       "      <td>143</td>\n",
       "      <td>12.56</td>\n",
       "      <td>9.51</td>\n",
       "      <td>1.06</td>\n",
       "      <td>0.72</td>\n",
       "      <td>0.0</td>\n",
       "      <td>0.37</td>\n",
       "      <td>...</td>\n",
       "      <td>0.3</td>\n",
       "      <td>3.126</td>\n",
       "      <td>3.658</td>\n",
       "      <td>1.911</td>\n",
       "      <td>372.0</td>\n",
       "      <td>50.0</td>\n",
       "      <td>1 large</td>\n",
       "      <td>56.0</td>\n",
       "      <td>1 extra large</td>\n",
       "      <td>12.0</td>\n",
       "    </tr>\n",
       "    <tr>\n",
       "      <th>2</th>\n",
       "      <td>9038</td>\n",
       "      <td>AVOCADOS,RAW,CALIFORNIA</td>\n",
       "      <td>72.33</td>\n",
       "      <td>167</td>\n",
       "      <td>1.96</td>\n",
       "      <td>15.41</td>\n",
       "      <td>1.66</td>\n",
       "      <td>8.64</td>\n",
       "      <td>6.8</td>\n",
       "      <td>0.30</td>\n",
       "      <td>...</td>\n",
       "      <td>21.0</td>\n",
       "      <td>2.126</td>\n",
       "      <td>9.799</td>\n",
       "      <td>1.816</td>\n",
       "      <td>0.0</td>\n",
       "      <td>230.0</td>\n",
       "      <td>1 cup, pureed</td>\n",
       "      <td>136.0</td>\n",
       "      <td>1 fruit, without skin and seed</td>\n",
       "      <td>33.0</td>\n",
       "    </tr>\n",
       "    <tr>\n",
       "      <th>3</th>\n",
       "      <td>10123</td>\n",
       "      <td>PORK,CURED,BACON,UNPREP</td>\n",
       "      <td>44.24</td>\n",
       "      <td>417</td>\n",
       "      <td>12.62</td>\n",
       "      <td>39.69</td>\n",
       "      <td>2.17</td>\n",
       "      <td>1.28</td>\n",
       "      <td>0.0</td>\n",
       "      <td>1.00</td>\n",
       "      <td>...</td>\n",
       "      <td>0.0</td>\n",
       "      <td>13.296</td>\n",
       "      <td>17.439</td>\n",
       "      <td>6.454</td>\n",
       "      <td>66.0</td>\n",
       "      <td>28.0</td>\n",
       "      <td>1 slice, raw</td>\n",
       "      <td>442.0</td>\n",
       "      <td>1 package</td>\n",
       "      <td>0.0</td>\n",
       "    </tr>\n",
       "    <tr>\n",
       "      <th>4</th>\n",
       "      <td>18375</td>\n",
       "      <td>LEAVENING AGENTS,YEAST,BAKER'S,ACTIVE DRY</td>\n",
       "      <td>5.08</td>\n",
       "      <td>325</td>\n",
       "      <td>40.44</td>\n",
       "      <td>7.61</td>\n",
       "      <td>5.65</td>\n",
       "      <td>41.22</td>\n",
       "      <td>26.9</td>\n",
       "      <td>0.00</td>\n",
       "      <td>...</td>\n",
       "      <td>0.4</td>\n",
       "      <td>1.001</td>\n",
       "      <td>4.309</td>\n",
       "      <td>0.017</td>\n",
       "      <td>0.0</td>\n",
       "      <td>4.0</td>\n",
       "      <td>1 tsp</td>\n",
       "      <td>12.0</td>\n",
       "      <td>1 tbsp</td>\n",
       "      <td>0.0</td>\n",
       "    </tr>\n",
       "  </tbody>\n",
       "</table>\n",
       "<p>5 rows × 53 columns</p>\n",
       "</div>"
      ],
      "text/plain": [
       "   NDB_No                                  Shrt_Desc  Water_(g)  Energ_Kcal  \\\n",
       "0    1005                               CHEESE,BRICK      41.11         371   \n",
       "1    1123                           EGG,WHL,RAW,FRSH      76.15         143   \n",
       "2    9038                    AVOCADOS,RAW,CALIFORNIA      72.33         167   \n",
       "3   10123                    PORK,CURED,BACON,UNPREP      44.24         417   \n",
       "4   18375  LEAVENING AGENTS,YEAST,BAKER'S,ACTIVE DRY       5.08         325   \n",
       "\n",
       "   Protein_(g)  Lipid_Tot_(g)  Ash_(g)  Carbohydrt_(g)  Fiber_TD_(g)  \\\n",
       "0        23.24          29.68     3.18            2.79           0.0   \n",
       "1        12.56           9.51     1.06            0.72           0.0   \n",
       "2         1.96          15.41     1.66            8.64           6.8   \n",
       "3        12.62          39.69     2.17            1.28           0.0   \n",
       "4        40.44           7.61     5.65           41.22          26.9   \n",
       "\n",
       "   Sugar_Tot_(g)  ...  Vit_K_(µg)  FA_Sat_(g)  FA_Mono_(g)  FA_Poly_(g)  \\\n",
       "0           0.51  ...         2.5      18.764        8.598        0.784   \n",
       "1           0.37  ...         0.3       3.126        3.658        1.911   \n",
       "2           0.30  ...        21.0       2.126        9.799        1.816   \n",
       "3           1.00  ...         0.0      13.296       17.439        6.454   \n",
       "4           0.00  ...         0.4       1.001        4.309        0.017   \n",
       "\n",
       "   Cholestrl_(mg)  GmWt_1     GmWt_Desc1  GmWt_2  \\\n",
       "0            94.0   132.0   1 cup, diced   113.0   \n",
       "1           372.0    50.0        1 large    56.0   \n",
       "2             0.0   230.0  1 cup, pureed   136.0   \n",
       "3            66.0    28.0   1 slice, raw   442.0   \n",
       "4             0.0     4.0          1 tsp    12.0   \n",
       "\n",
       "                       GmWt_Desc2  Refuse_Pct  \n",
       "0                 1 cup, shredded         0.0  \n",
       "1                   1 extra large        12.0  \n",
       "2  1 fruit, without skin and seed        33.0  \n",
       "3                       1 package         0.0  \n",
       "4                          1 tbsp         0.0  \n",
       "\n",
       "[5 rows x 53 columns]"
      ]
     },
     "execution_count": 14,
     "metadata": {},
     "output_type": "execute_result"
    }
   ],
   "source": [
    "df[df.NDB_No.isin([1123,9038,10123,1005,18375]) == True].reset_index(drop = True)"
   ]
  },
  {
   "cell_type": "code",
   "execution_count": null,
   "metadata": {},
   "outputs": [],
   "source": [
    "df.to_sql(\"VerbBender\", conn, if_exists='append', index = False)"
   ]
  },
  {
   "cell_type": "code",
   "execution_count": null,
   "metadata": {
    "ExecuteTime": {
     "end_time": "2021-02-09T12:06:07.128454Z",
     "start_time": "2021-02-09T12:06:07.068317Z"
    }
   },
   "outputs": [],
   "source": [
    "df[df.Shrt_Desc.str.contains('CHIA') == True]"
   ]
  },
  {
   "cell_type": "code",
   "execution_count": null,
   "metadata": {
    "ExecuteTime": {
     "end_time": "2021-02-09T12:09:11.568676Z",
     "start_time": "2021-02-09T12:09:11.521014Z"
    }
   },
   "outputs": [],
   "source": [
    "df[df.Shrt_Desc.str.contains('COCOA,') == True]"
   ]
  },
  {
   "cell_type": "code",
   "execution_count": null,
   "metadata": {
    "ExecuteTime": {
     "end_time": "2021-02-09T11:19:45.447769Z",
     "start_time": "2021-02-09T11:19:45.440924Z"
    },
    "scrolled": true
   },
   "outputs": [],
   "source": [
    "kcal = 1609\n",
    "carbs = 20\n",
    "protein = 106\n",
    "fat = 123"
   ]
  },
  {
   "cell_type": "code",
   "execution_count": null,
   "metadata": {
    "ExecuteTime": {
     "end_time": "2021-02-09T11:56:01.724460Z",
     "start_time": "2021-02-09T11:56:01.707695Z"
    }
   },
   "outputs": [],
   "source": [
    "trenger = ['NDB_No', 'Shrt_Desc','Energ_Kcal', 'Protein_(g)','Lipid_Tot_(g)', 'Carbohydrt_(g)','Fiber_TD_(g)']"
   ]
  },
  {
   "cell_type": "code",
   "execution_count": null,
   "metadata": {
    "ExecuteTime": {
     "end_time": "2021-02-09T11:56:02.746376Z",
     "start_time": "2021-02-09T11:56:02.737380Z"
    }
   },
   "outputs": [],
   "source": [
    "sodiena = df[trenger ]\n",
    "sodiena = sodiena[df.NDB_No.isin([1123,9038,10123,1005,18375])]"
   ]
  },
  {
   "cell_type": "code",
   "execution_count": null,
   "metadata": {
    "ExecuteTime": {
     "end_time": "2021-02-09T11:56:03.974743Z",
     "start_time": "2021-02-09T11:56:03.967613Z"
    }
   },
   "outputs": [],
   "source": [
    "sodiena['QUANT'] = [1,3, 1.36, 1.12, 0.05]"
   ]
  },
  {
   "cell_type": "code",
   "execution_count": null,
   "metadata": {
    "ExecuteTime": {
     "end_time": "2021-02-09T11:56:05.185546Z",
     "start_time": "2021-02-09T11:56:05.169344Z"
    }
   },
   "outputs": [],
   "source": [
    "sodiena['Net_carbs'] = sodiena['Carbohydrt_(g)'] - sodiena['Fiber_TD_(g)']"
   ]
  },
  {
   "cell_type": "code",
   "execution_count": null,
   "metadata": {
    "ExecuteTime": {
     "end_time": "2021-02-09T11:19:45.615634Z",
     "start_time": "2021-02-09T11:19:45.572949Z"
    }
   },
   "outputs": [],
   "source": [
    "sodiena"
   ]
  },
  {
   "cell_type": "code",
   "execution_count": null,
   "metadata": {
    "ExecuteTime": {
     "end_time": "2021-02-09T11:46:48.318354Z",
     "start_time": "2021-02-09T11:46:48.296176Z"
    }
   },
   "outputs": [],
   "source": [
    "sodiena[['Energ_Kcal', 'Protein_(g)','Lipid_Tot_(g)', 'Carbohydrt_(g)','Net_carbs']].multiply(sodiena[\"QUANT\"], axis=\"index\")"
   ]
  },
  {
   "cell_type": "code",
   "execution_count": null,
   "metadata": {
    "ExecuteTime": {
     "end_time": "2021-02-09T11:21:26.664307Z",
     "start_time": "2021-02-09T11:21:26.650329Z"
    }
   },
   "outputs": [],
   "source": [
    "sodiena[['Energ_Kcal', 'Protein_(g)','Lipid_Tot_(g)', 'Carbohydrt_(g)','Net_carbs']].multiply(sodiena[\"QUANT\"], axis=\"index\").sum(axis=0)"
   ]
  },
  {
   "cell_type": "code",
   "execution_count": null,
   "metadata": {
    "ExecuteTime": {
     "end_time": "2021-02-09T11:19:45.723817Z",
     "start_time": "2021-02-09T11:19:45.708552Z"
    }
   },
   "outputs": [],
   "source": [
    "kcal = 1609\n",
    "carbs = 20\n",
    "protein = 106\n",
    "fat = 123"
   ]
  },
  {
   "cell_type": "code",
   "execution_count": null,
   "metadata": {
    "ExecuteTime": {
     "end_time": "2021-02-09T11:57:49.533457Z",
     "start_time": "2021-02-09T11:57:49.515434Z"
    }
   },
   "outputs": [],
   "source": [
    "one = pd.pivot_table(sodiena[['Shrt_Desc','Energ_Kcal', 'Protein_(g)','Lipid_Tot_(g)','Net_carbs','QUANT']],index=[\"Shrt_Desc\"])"
   ]
  },
  {
   "cell_type": "code",
   "execution_count": null,
   "metadata": {
    "ExecuteTime": {
     "end_time": "2021-02-09T11:58:11.239354Z",
     "start_time": "2021-02-09T11:58:11.217254Z"
    }
   },
   "outputs": [],
   "source": [
    "one[['Energ_Kcal', 'Protein_(g)','Lipid_Tot_(g)','Net_carbs']].multiply(one[\"QUANT\"], axis=\"index\")"
   ]
  },
  {
   "cell_type": "code",
   "execution_count": null,
   "metadata": {
    "ExecuteTime": {
     "end_time": "2021-02-09T11:59:31.226059Z",
     "start_time": "2021-02-09T11:59:31.213028Z"
    }
   },
   "outputs": [],
   "source": [
    "sodiena[['Energ_Kcal', 'Protein_(g)','Lipid_Tot_(g)','Net_carbs']].multiply(sodiena[\"QUANT\"], axis=\"index\").sum(axis=0)"
   ]
  }
 ],
 "metadata": {
  "kernelspec": {
   "display_name": "Python 3",
   "language": "python",
   "name": "python3"
  },
  "language_info": {
   "codemirror_mode": {
    "name": "ipython",
    "version": 3
   },
   "file_extension": ".py",
   "mimetype": "text/x-python",
   "name": "python",
   "nbconvert_exporter": "python",
   "pygments_lexer": "ipython3",
   "version": "3.7.4"
  },
  "toc": {
   "base_numbering": 1,
   "nav_menu": {},
   "number_sections": true,
   "sideBar": true,
   "skip_h1_title": false,
   "title_cell": "Table of Contents",
   "title_sidebar": "Contents",
   "toc_cell": false,
   "toc_position": {},
   "toc_section_display": true,
   "toc_window_display": false
  }
 },
 "nbformat": 4,
 "nbformat_minor": 2
}
