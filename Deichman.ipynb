{
 "cells": [
  {
   "cell_type": "code",
   "execution_count": 5,
   "metadata": {
    "ExecuteTime": {
     "end_time": "2021-03-31T10:35:26.766325Z",
     "start_time": "2021-03-31T10:35:26.755557Z"
    }
   },
   "outputs": [],
   "source": [
    "import pandas as pd\n",
    "from bs4 import BeautifulSoup\n",
    "import requests\n",
    "import re\n",
    "import datetime"
   ]
  },
  {
   "cell_type": "code",
   "execution_count": 14,
   "metadata": {
    "ExecuteTime": {
     "end_time": "2021-03-31T10:42:44.978945Z",
     "start_time": "2021-03-31T10:42:44.974608Z"
    }
   },
   "outputs": [],
   "source": [
    "old = ['https://deichman.no/event/digital-bokklubb-p%C3%A5-lettere-norsk%3A-over-grensen-av-maja-lunde_1c52a850-fb69-4fdc-b537-8a1bfb9f4222'\n",
    "       ,'https://deichman.no/event/digital-bokklubb-p%C3%A5-lettere-norsk_2e45b5ad-263d-4830-8d14-b86627a3e39d'\n",
    "       ,'https://deichman.no/event/bokklubb-p%C3%A5-lettere-norsk_c1734fe9-b208-4507-ad4d-a427d30b5726'\n",
    "      ,'https://deichman.no/event/digital-bokklubb-p%C3%A5-lettere-norsk_b1f168d7-06d3-4759-8581-2a7d8ea8ef9b']"
   ]
  },
  {
   "cell_type": "code",
   "execution_count": 15,
   "metadata": {
    "ExecuteTime": {
     "end_time": "2021-03-31T10:42:46.813552Z",
     "start_time": "2021-03-31T10:42:46.806094Z"
    }
   },
   "outputs": [
    {
     "name": "stdout",
     "output_type": "stream",
     "text": [
      "https://deichman.no/event/digital-bokklubb-p%C3%A5-lettere-norsk%3A-over-grensen-av-maja-lunde_1c52a850-fb69-4fdc-b537-8a1bfb9f4222\n",
      "\n",
      "https://deichman.no/event/digital-bokklubb-p%C3%A5-lettere-norsk_2e45b5ad-263d-4830-8d14-b86627a3e39d\n",
      "\n",
      "https://deichman.no/event/bokklubb-p%C3%A5-lettere-norsk_c1734fe9-b208-4507-ad4d-a427d30b5726\n",
      "\n",
      "https://deichman.no/event/digital-bokklubb-p%C3%A5-lettere-norsk_b1f168d7-06d3-4759-8581-2a7d8ea8ef9b\n",
      "\n"
     ]
    }
   ],
   "source": [
    "for i in old:\n",
    "    print(i)\n",
    "    print()"
   ]
  },
  {
   "cell_type": "markdown",
   "metadata": {
    "ExecuteTime": {
     "end_time": "2021-03-31T10:38:31.312421Z",
     "start_time": "2021-03-31T10:38:31.303113Z"
    }
   },
   "source": [
    "sep\n",
    "'Over grensen' av Maja Lunde\n",
    "\n",
    "oct\n",
    "‘Petter uteligger’ av Petter Nyquist og Eiviind Hofstad Evjemo\n",
    "\n",
    "jan\n",
    "Velkommen til dyrehagen\n",
    "\n",
    "feb\n",
    "\n",
    "mars\n",
    "Gul bok av Zeshan Shakar."
   ]
  },
  {
   "cell_type": "code",
   "execution_count": 16,
   "metadata": {
    "ExecuteTime": {
     "end_time": "2021-03-31T10:46:16.530589Z",
     "start_time": "2021-03-31T10:46:16.508851Z"
    }
   },
   "outputs": [],
   "source": [
    "url = \"https://deichman.no/digitalt\""
   ]
  },
  {
   "cell_type": "code",
   "execution_count": 39,
   "metadata": {
    "ExecuteTime": {
     "end_time": "2021-03-31T10:55:41.067040Z",
     "start_time": "2021-03-31T10:55:41.061132Z"
    }
   },
   "outputs": [],
   "source": [
    "url2 = \"https://deichman.no/hva-skjer?serviceForm=serviceForm_Formidling+og+fortelling\""
   ]
  },
  {
   "cell_type": "code",
   "execution_count": 36,
   "metadata": {
    "ExecuteTime": {
     "end_time": "2021-03-31T10:54:07.832744Z",
     "start_time": "2021-03-31T10:54:07.826997Z"
    }
   },
   "outputs": [],
   "source": [
    "url= 'https://deichman.no/hva-skjer?serviceForm=serviceForm_Kurs+og+l%C3%A6ring'"
   ]
  },
  {
   "cell_type": "code",
   "execution_count": 37,
   "metadata": {
    "ExecuteTime": {
     "end_time": "2021-03-31T10:54:09.981208Z",
     "start_time": "2021-03-31T10:54:09.634699Z"
    }
   },
   "outputs": [],
   "source": [
    "r = requests.get(url)\n",
    "data = r.text\n",
    "soup = BeautifulSoup(data)"
   ]
  },
  {
   "cell_type": "code",
   "execution_count": 41,
   "metadata": {
    "ExecuteTime": {
     "end_time": "2021-03-31T10:57:25.230254Z",
     "start_time": "2021-03-31T10:57:25.216633Z"
    }
   },
   "outputs": [
    {
     "name": "stdout",
     "output_type": "stream",
     "text": [
      "/event/digital-norsk-for-m%C3%B8dre_3deb4799-8e31-412e-9251-17c4623a069b\n",
      "/event/digital-spr%C3%A5kkaf%C3%A9_4aeb76fa-aab9-42cc-befe-a34c9744ee2c\n",
      "/event/digital-norsk-for-m%C3%B8dre_73c0736c-ccd1-409e-9f63-046eedc8dc13\n",
      "/event/digital-norsk-for-m%C3%B8dre_09f7d07d-efca-4440-aa1f-7a8413a259d2\n",
      "/event/digital-spr%C3%A5kkaf%C3%A9_530f4cda-612a-4007-88ef-e29b0dafde31\n",
      "/event/digital-norsk-for-m%C3%B8dre_2afe2d38-0b68-4bbf-a76d-799ea749db13\n",
      "/event/digital-spr%C3%A5kkaf%C3%A9_d35cbdc6-b180-4c0c-9e49-d06bc1297347\n",
      "/event/digital-norsk-for-m%C3%B8dre_45febba0-39d9-4c61-b604-f6ca106b77ce\n",
      "/event/digital-spr%C3%A5kkaf%C3%A9-med-litteratur_e08f93ff-5869-4f48-a5e6-d50a43fe8c09\n",
      "/event/digital-spr%C3%A5kkaf%C3%A9_5a22b418-f7df-49f7-8a01-7f3a9218c40a\n",
      "/event/digital-norsk-for-m%C3%B8dre_32de8fa8-bfe8-4ac2-ba6e-555145f9d054\n"
     ]
    }
   ],
   "source": [
    "for link in soup.find_all('a', href=True):\n",
    "    if link['href'].startswith( '/event/digital' ):\n",
    "        print(link['href'])"
   ]
  },
  {
   "cell_type": "code",
   "execution_count": null,
   "metadata": {},
   "outputs": [],
   "source": []
  }
 ],
 "metadata": {
  "kernelspec": {
   "display_name": "Python 3",
   "language": "python",
   "name": "python3"
  },
  "language_info": {
   "codemirror_mode": {
    "name": "ipython",
    "version": 3
   },
   "file_extension": ".py",
   "mimetype": "text/x-python",
   "name": "python",
   "nbconvert_exporter": "python",
   "pygments_lexer": "ipython3",
   "version": "3.7.4"
  },
  "toc": {
   "base_numbering": 1,
   "nav_menu": {},
   "number_sections": true,
   "sideBar": true,
   "skip_h1_title": false,
   "title_cell": "Table of Contents",
   "title_sidebar": "Contents",
   "toc_cell": false,
   "toc_position": {},
   "toc_section_display": true,
   "toc_window_display": false
  }
 },
 "nbformat": 4,
 "nbformat_minor": 2
}
