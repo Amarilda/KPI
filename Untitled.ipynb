{
 "cells": [
  {
   "cell_type": "markdown",
   "metadata": {
    "ExecuteTime": {
     "end_time": "2021-02-13T17:10:46.525033Z",
     "start_time": "2021-02-13T17:10:43.999Z"
    }
   },
   "source": [
    "https://www.youtube.com/watch?v=drDdb1MBBfI"
   ]
  },
  {
   "cell_type": "code",
   "execution_count": 1,
   "metadata": {
    "ExecuteTime": {
     "end_time": "2021-02-15T12:08:28.870073Z",
     "start_time": "2021-02-15T12:08:20.313833Z"
    }
   },
   "outputs": [],
   "source": [
    "import pandas as pd\n",
    "from bs4 import BeautifulSoup\n",
    "import requests\n",
    "import re\n",
    "import datetime"
   ]
  },
  {
   "cell_type": "markdown",
   "metadata": {},
   "source": [
    "## Get a list of the url for the individual advertisement"
   ]
  },
  {
   "cell_type": "code",
   "execution_count": 64,
   "metadata": {
    "ExecuteTime": {
     "end_time": "2021-02-15T12:43:03.773687Z",
     "start_time": "2021-02-15T12:43:03.763011Z"
    }
   },
   "outputs": [],
   "source": [
    "df = pd.read_csv('Jurmala.csv')"
   ]
  },
  {
   "cell_type": "code",
   "execution_count": 2,
   "metadata": {
    "ExecuteTime": {
     "end_time": "2021-02-15T12:08:32.731966Z",
     "start_time": "2021-02-15T12:08:32.063973Z"
    }
   },
   "outputs": [
    {
     "name": "stdout",
     "output_type": "stream",
     "text": [
      "2021-02-15 13:08:32.729302\n"
     ]
    }
   ],
   "source": [
    "url = 'https://www.ss.lv/lv/real-estate/flats/jurmala/bulduri/sell/'\n",
    "a = []\n",
    "r = requests.get(url)\n",
    "data = r.text\n",
    "soup = BeautifulSoup(data)\n",
    "\n",
    "for link in soup.find_all('a', href=True):\n",
    "    if link['href'].startswith( '/msg' ) and link['href'] not in a:\n",
    "        a.append(link['href'])\n",
    "print(datetime.datetime.now()) "
   ]
  },
  {
   "cell_type": "markdown",
   "metadata": {},
   "source": [
    "url_ss = \"https://www.ss.lv/msg/lv/real-estate/flats/jurmala/bulduri/\"\n",
    "for i in a:\n",
    "    #print(i)\n",
    "    #print(i[42:])\n",
    "    print(url_ss+i[42:])\n",
    "    r = requests.get(url_ss+i[42:])\n",
    "    data = r.text\n",
    "    soup = BeautifulSoup(data)\n",
    "    print()\n",
    "    \n",
    "    ex = []\n",
    "    ex.append(url_ss+i[42:])\n",
    "    table_MN = pd.read_html(url_ss+i[42:])\n",
    "\n",
    "    frames = [table_MN[3], table_MN[4], table_MN[5]]\n",
    "    result = pd.concat(frames)\n",
    "\n",
    "    for i in ['Pilsēta:', 'Rajons:', 'Iela:', 'Istabas:','Platība:','Stāvs:', 'Sērija:', 'Mājas tips:', 'Ērtības:','Cena:']:\n",
    "        if i in result[0].unique():\n",
    "            ex.append(result.loc[result[0] == i, (1)].item())\n",
    "        else:\n",
    "            ex.append('FALSE')\n",
    "\n",
    "    if table_MN[7].shape[0] == 4:\n",
    "        ex.append(table_MN[7][2][1][8:])\n",
    "        ex.append(table_MN[7][2][2][28:])\n",
    "    else:\n",
    "        ex.append(table_MN[8][2][1][8:])\n",
    "        ex.append(table_MN[8][2][2][28:])\n",
    "    #print(ex)\n",
    "    #print(len(ex))\n",
    "    #print(df.shape)\n",
    "    df.loc[len(df)]= ex\n",
    "    #sleep(randint(1,100))"
   ]
  },
  {
   "cell_type": "markdown",
   "metadata": {
    "ExecuteTime": {
     "end_time": "2021-02-15T12:08:46.365522Z",
     "start_time": "2021-02-15T12:08:46.353110Z"
    }
   },
   "source": [
    "df = pd.DataFrame(columns = ['Url','Pilsēta','Rajons','Iela','Istabas'\n",
    "                             ,'Platība','Stāvs','Sērija','Mājas tips'\n",
    "                             ,'Ērtības:','Cena','Datums','Unikālo apmeklējumu skaits'])"
   ]
  },
  {
   "cell_type": "markdown",
   "metadata": {
    "ExecuteTime": {
     "end_time": "2021-02-14T13:43:26.564965Z",
     "start_time": "2021-02-14T13:43:26.528005Z"
    }
   },
   "source": [
    "## Add text"
   ]
  },
  {
   "cell_type": "markdown",
   "metadata": {
    "ExecuteTime": {
     "end_time": "2021-02-14T13:44:37.804345Z",
     "start_time": "2021-02-14T13:44:37.792429Z"
    }
   },
   "source": [
    "soup.find_all(\"div\", {\"id\": \"msg_div_msg\"})"
   ]
  },
  {
   "cell_type": "markdown",
   "metadata": {
    "ExecuteTime": {
     "end_time": "2021-02-14T13:56:49.568142Z",
     "start_time": "2021-02-14T13:56:49.309477Z"
    }
   },
   "source": [
    "soup.find_all(\"div\", {\"id\": \"tr_foto\"})"
   ]
  },
  {
   "cell_type": "markdown",
   "metadata": {
    "ExecuteTime": {
     "end_time": "2021-02-14T14:06:30.260549Z",
     "start_time": "2021-02-14T14:06:30.253114Z"
    }
   },
   "source": [
    "pictures=[]\n",
    "\n",
    "for link in soup.find_all(\"a\", href=True):\n",
    "    if link['href'].startswith( 'https://i.ss.lv' ):\n",
    "        pictures.append(link['href'])"
   ]
  },
  {
   "cell_type": "code",
   "execution_count": 58,
   "metadata": {
    "ExecuteTime": {
     "end_time": "2021-02-15T12:39:51.460407Z",
     "start_time": "2021-02-15T12:39:41.423092Z"
    }
   },
   "outputs": [
    {
     "name": "stdout",
     "output_type": "stream",
     "text": [
      "/msg/lv/real-estate/flats/jurmala/bulduri/amfop.html\n",
      "amfop.html\n",
      "https://www.ss.lv/msg/lv/real-estate/flats/jurmala/bulduri/amfop.html\n",
      "\n",
      "['https://www.ss.lv/msg/lv/real-estate/flats/jurmala/bulduri/amfop.html', 'Jūrmala', 'Bulduri', 'Bauskas 5 [Karte]', '3', '140 m²', '4/4', 'Jaun.', 'Mūra', 'FALSE', '180 000 € (1 285.71 €/m²)', '01.02.2021 13:22', '1']\n",
      "13\n",
      "(12, 13)\n",
      "/msg/lv/real-estate/flats/jurmala/bulduri/eldgp.html\n",
      "eldgp.html\n",
      "https://www.ss.lv/msg/lv/real-estate/flats/jurmala/bulduri/eldgp.html\n",
      "\n",
      "['https://www.ss.lv/msg/lv/real-estate/flats/jurmala/bulduri/eldgp.html', 'Jūrmala', 'Bulduri', 'Vienības pr. 34 [Karte]', '4', '590 m²', '3/4/lifts', 'Jaun.', 'Paneļu - ķieģeļu', 'FALSE', '395 000 € (669.49 €/m²)', '31.01.2021 17:08', '1']\n",
      "13\n",
      "(13, 13)\n",
      "/msg/lv/real-estate/flats/jurmala/bulduri/bpghg.html\n",
      "bpghg.html\n",
      "https://www.ss.lv/msg/lv/real-estate/flats/jurmala/bulduri/bpghg.html\n",
      "\n",
      "['https://www.ss.lv/msg/lv/real-estate/flats/jurmala/bulduri/bpghg.html', 'Jūrmala', 'Bulduri', 'Brivibas pr 104 [Karte]', '2', '56 m²', '3/4', '104.', 'Ķieģeļu', 'Balkons, Parkošanas vieta', '87 500 € (1 562.50 €/m²)', '30.01.2021 19:09', '1']\n",
      "13\n",
      "(14, 13)\n",
      "/msg/lv/real-estate/flats/jurmala/bulduri/cnejk.html\n",
      "cnejk.html\n",
      "https://www.ss.lv/msg/lv/real-estate/flats/jurmala/bulduri/cnejk.html\n",
      "\n",
      "['https://www.ss.lv/msg/lv/real-estate/flats/jurmala/bulduri/cnejk.html', 'Jūrmala', 'Bulduri', 'Meža prospekts 19 [Karte]', '3', '120 m²', '2/3/lifts', 'Jaun.', 'Paneļu', 'FALSE', '450 000 € (3 750 €/m²)', '29.01.2021 20:45', '1']\n",
      "13\n",
      "(15, 13)\n",
      "/msg/lv/real-estate/flats/jurmala/bulduri/gpfpj.html\n",
      "gpfpj.html\n",
      "https://www.ss.lv/msg/lv/real-estate/flats/jurmala/bulduri/gpfpj.html\n",
      "\n",
      "['https://www.ss.lv/msg/lv/real-estate/flats/jurmala/bulduri/gpfpj.html', 'Jūrmala', 'Bulduri', 'Muižas 11 [Karte]', '3', '92 m²', '3/4', 'Jaun.', 'Paneļu - ķieģeļu', 'Balkons, Terase, Parkošanas vieta', '270 000 € (2 934.78 €/m²)', '29.01.2021 16:30', '1']\n",
      "13\n",
      "(16, 13)\n",
      "/msg/lv/real-estate/flats/jurmala/bulduri/gfiib.html\n",
      "gfiib.html\n",
      "https://www.ss.lv/msg/lv/real-estate/flats/jurmala/bulduri/gfiib.html\n",
      "\n",
      "['https://www.ss.lv/msg/lv/real-estate/flats/jurmala/bulduri/gfiib.html', 'Jūrmala', 'Bulduri', 'Pērkona iela 3 [Karte]', '5', '154 m²', '3/3/lifts', 'Jaun.', 'Paneļu', 'Terase', '379 990 € (2 467.47 €/m²)', '29.01.2021 11:51', '1']\n",
      "13\n",
      "(17, 13)\n",
      "/msg/lv/real-estate/flats/jurmala/bulduri/afeco.html\n",
      "afeco.html\n",
      "https://www.ss.lv/msg/lv/real-estate/flats/jurmala/bulduri/afeco.html\n",
      "\n",
      "['https://www.ss.lv/msg/lv/real-estate/flats/jurmala/bulduri/afeco.html', 'Jūrmala', 'Bulduri', 'Brīvības prospekts 104 [Karte]', '4', '115 m²', '3/4', 'Specpr.', 'Ķieģeļu-paneļu', 'Pirts', '145 000 € (1 260.87 €/m²)', '29.01.2021 08:54', '1']\n",
      "13\n",
      "(18, 13)\n",
      "/msg/lv/real-estate/flats/jurmala/bulduri/apnpg.html\n",
      "apnpg.html\n",
      "https://www.ss.lv/msg/lv/real-estate/flats/jurmala/bulduri/apnpg.html\n",
      "\n",
      "['https://www.ss.lv/msg/lv/real-estate/flats/jurmala/bulduri/apnpg.html', 'Jūrmala', 'Bulduri', 'Rēzeknes pulka 17 [Karte]', '2', '52 m²', '1/5', '103.', 'Ķieģeļu-paneļu', 'Lodžija, Parkošanas vieta', '66 000 € (1 269.23 €/m²)', '28.01.2021 13:16', '1']\n",
      "13\n",
      "(19, 13)\n",
      "/msg/lv/real-estate/flats/jurmala/bulduri/cgijd.html\n",
      "cgijd.html\n",
      "https://www.ss.lv/msg/lv/real-estate/flats/jurmala/bulduri/cgijd.html\n",
      "\n",
      "['https://www.ss.lv/msg/lv/real-estate/flats/jurmala/bulduri/cgijd.html', 'Jūrmala', 'Bulduri', 'Mužas 13 [Karte]', '4', '121 m²', '1/4', 'Jaun.', 'Mūra', 'Terase', '257 000 € (2 123.97 €/m²)', '26.01.2021 21:24', '1']\n",
      "13\n",
      "(20, 13)\n",
      "/msg/lv/real-estate/flats/jurmala/bulduri/fgfml.html\n",
      "fgfml.html\n",
      "https://www.ss.lv/msg/lv/real-estate/flats/jurmala/bulduri/fgfml.html\n",
      "\n",
      "['https://www.ss.lv/msg/lv/real-estate/flats/jurmala/bulduri/fgfml.html', 'Jūrmala', 'Bulduri', 'Mazā Jelgavas 18 [Karte]', '2', '54 m²', '1/5', '103.', 'Ķieģeļu-paneļu', 'Lodžija', '64 500 € (1 194.44 €/m²)', '26.01.2021 16:12', '1']\n",
      "13\n",
      "(21, 13)\n",
      "/msg/lv/real-estate/flats/jurmala/bulduri/hmkjp.html\n",
      "hmkjp.html\n",
      "https://www.ss.lv/msg/lv/real-estate/flats/jurmala/bulduri/hmkjp.html\n",
      "\n",
      "['https://www.ss.lv/msg/lv/real-estate/flats/jurmala/bulduri/hmkjp.html', 'Jūrmala', 'Bulduri', 'Kuldigas 8 [Karte]', '1', '34 m²', '2/4', '103.', 'Ķieģeļu-paneļu', 'FALSE', '75 300 € (2 214.71 €/m²)', '24.01.2021 23:19', '1']\n",
      "13\n",
      "(22, 13)\n",
      "/msg/lv/real-estate/flats/jurmala/bulduri/idmdk.html\n",
      "idmdk.html\n",
      "https://www.ss.lv/msg/lv/real-estate/flats/jurmala/bulduri/idmdk.html\n",
      "\n",
      "['https://www.ss.lv/msg/lv/real-estate/flats/jurmala/bulduri/idmdk.html', 'Jūrmala', 'Bulduri', 'Jasminu 9 [Karte]', '3', '57 m²', '1/3', 'Jaun.', 'Mūra', 'FALSE', '164 000 € (2 877.19 €/m²)', '22.01.2021 16:35', '1']\n",
      "13\n",
      "(23, 13)\n",
      "/msg/lv/real-estate/flats/jurmala/bulduri/acpkj.html\n",
      "acpkj.html\n",
      "https://www.ss.lv/msg/lv/real-estate/flats/jurmala/bulduri/acpkj.html\n",
      "\n",
      "['https://www.ss.lv/msg/lv/real-estate/flats/jurmala/bulduri/acpkj.html', 'Jūrmala', 'Bulduri', 'Jasminu 9 [Karte]', '2', '59 m²', '3/3', 'Jaun.', 'Mūra', 'Terase', '159 000 € (2 694.92 €/m²)', '21.01.2021 22:39', '1']\n",
      "13\n",
      "(24, 13)\n",
      "/msg/lv/real-estate/flats/jurmala/bulduri/hghne.html\n",
      "hghne.html\n",
      "https://www.ss.lv/msg/lv/real-estate/flats/jurmala/bulduri/hghne.html\n",
      "\n",
      "['https://www.ss.lv/msg/lv/real-estate/flats/jurmala/bulduri/hghne.html', 'Jūrmala', 'Bulduri', 'Jasminu 9 [Karte]', '3', '48 m²', '1/3', 'Jaun.', 'Mūra', 'FALSE', '135 000 € (2 812.50 €/m²)', '21.01.2021 22:22', '1']\n",
      "13\n",
      "(25, 13)\n",
      "/msg/lv/real-estate/flats/jurmala/bulduri/jmjlh.html\n",
      "jmjlh.html\n",
      "https://www.ss.lv/msg/lv/real-estate/flats/jurmala/bulduri/jmjlh.html\n",
      "\n",
      "['https://www.ss.lv/msg/lv/real-estate/flats/jurmala/bulduri/jmjlh.html', 'Jūrmala', 'Bulduri', 'Jasminu 9 [Karte]', '3', '64 m²', '2/3', 'Jaun.', 'Mūra', 'FALSE', '175 000 € (2 734.38 €/m²)', '21.01.2021 22:07', '1']\n",
      "13\n",
      "(26, 13)\n",
      "/msg/lv/real-estate/flats/jurmala/bulduri/deogd.html\n",
      "deogd.html\n",
      "https://www.ss.lv/msg/lv/real-estate/flats/jurmala/bulduri/deogd.html\n",
      "\n",
      "['https://www.ss.lv/msg/lv/real-estate/flats/jurmala/bulduri/deogd.html', 'Jūrmala', 'Bulduri', 'Jasminu 9 [Karte]', '3', '50 m²', '1/3', 'Jaun.', 'Mūra', 'FALSE', '144 000 € (2 880 €/m²)', '21.01.2021 21:50', '1']\n",
      "13\n",
      "(27, 13)\n",
      "/msg/lv/real-estate/flats/jurmala/bulduri/acelo.html\n",
      "acelo.html\n",
      "https://www.ss.lv/msg/lv/real-estate/flats/jurmala/bulduri/acelo.html\n",
      "\n",
      "['https://www.ss.lv/msg/lv/real-estate/flats/jurmala/bulduri/acelo.html', 'Jūrmala', 'Bulduri', 'Jasminu 9 [Karte]', '2', '37 m²', '1/3/lifts', 'Jaun.', 'Mūra', 'FALSE', '114 000 € (3 081.08 €/m²)', '21.01.2021 21:13', '1']\n",
      "13\n",
      "(28, 13)\n",
      "/msg/lv/real-estate/flats/jurmala/bulduri/bbefl.html\n",
      "bbefl.html\n",
      "https://www.ss.lv/msg/lv/real-estate/flats/jurmala/bulduri/bbefl.html\n",
      "\n",
      "['https://www.ss.lv/msg/lv/real-estate/flats/jurmala/bulduri/bbefl.html', 'Jūrmala', 'Bulduri', 'Meža Prospekts 19 [Karte]', '3', '113 m²', '2/3/lifts', 'Jaun.', 'Ķieģeļu', 'Balkons, Parkošanas vieta', '250 000 € (2 212.39 €/m²)', '21.01.2021 18:40', '1']\n",
      "13\n",
      "(29, 13)\n"
     ]
    }
   ],
   "source": [
    "url_ss = \"https://www.ss.lv/msg/lv/real-estate/flats/jurmala/bulduri/\"\n",
    "for i in a:\n",
    "    #print(i)\n",
    "    #print(i[42:])\n",
    "    print(url_ss+i[42:])\n",
    "    r = requests.get(url_ss+i[42:])\n",
    "    data = r.text\n",
    "    soup = BeautifulSoup(data)\n",
    "    print()\n",
    "    \n",
    "    ex = []\n",
    "    ex.append(url_ss+i[42:])\n",
    "    table_MN = pd.read_html(url_ss+i[42:])\n",
    "\n",
    "    frames = [table_MN[3], table_MN[4], table_MN[5]]\n",
    "    result = pd.concat(frames)\n",
    "\n",
    "    for i in ['Pilsēta:', 'Rajons:', 'Iela:', 'Istabas:','Platība:','Stāvs:', 'Sērija:', 'Mājas tips:', 'Ērtības:','Cena:']:\n",
    "        if i in result[0].unique():\n",
    "            ex.append(result.loc[result[0] == i, (1)].item())\n",
    "        else:\n",
    "            ex.append('FALSE')\n",
    "\n",
    "    if table_MN[7].shape[0] == 4:\n",
    "        ex.append(table_MN[7][2][1][8:])\n",
    "        ex.append(table_MN[7][2][2][28:])\n",
    "    else:\n",
    "        ex.append(table_MN[8][2][1][8:])\n",
    "        ex.append(table_MN[8][2][2][28:])\n",
    "    #print(ex)\n",
    "    #print(len(ex))\n",
    "    #print(df.shape)\n",
    "    df.loc[len(df)]= ex\n",
    "    #sleep(randint(1,100))"
   ]
  },
  {
   "cell_type": "code",
   "execution_count": 45,
   "metadata": {
    "ExecuteTime": {
     "end_time": "2021-03-12T12:30:46.821504Z",
     "start_time": "2021-03-12T12:30:46.527802Z"
    }
   },
   "outputs": [],
   "source": [
    "df.to_csv('Jurmala20210312.csv',index = False)"
   ]
  },
  {
   "cell_type": "code",
   "execution_count": 71,
   "metadata": {
    "ExecuteTime": {
     "end_time": "2021-02-15T12:46:12.285663Z",
     "start_time": "2021-02-15T12:46:12.272534Z"
    }
   },
   "outputs": [],
   "source": [
    "url_ss = \"https://www.ss.lv/msg/lv/real-estate/flats/jurmala/bulduri/\"\n",
    "for i in a:\n",
    "    #print(i)\n",
    "    #print(i[42:])\n",
    "    if url_ss+i[42:] not in df.Url.unique():\n",
    "        print(url_ss+i[42:])"
   ]
  },
  {
   "cell_type": "code",
   "execution_count": 1,
   "metadata": {
    "ExecuteTime": {
     "end_time": "2021-03-12T11:59:16.946703Z",
     "start_time": "2021-03-12T11:59:05.935530Z"
    }
   },
   "outputs": [],
   "source": [
    "import pandas as pd"
   ]
  },
  {
   "cell_type": "code",
   "execution_count": 2,
   "metadata": {
    "ExecuteTime": {
     "end_time": "2021-03-12T11:59:22.309474Z",
     "start_time": "2021-03-12T11:59:22.064195Z"
    }
   },
   "outputs": [],
   "source": [
    "df = pd.read_csv('Jurmala.csv')"
   ]
  },
  {
   "cell_type": "code",
   "execution_count": 4,
   "metadata": {
    "ExecuteTime": {
     "end_time": "2021-03-12T12:00:28.359374Z",
     "start_time": "2021-03-12T12:00:28.268119Z"
    }
   },
   "outputs": [
    {
     "name": "stdout",
     "output_type": "stream",
     "text": [
      "https://www.ss.lv/msg/lv/real-estate/flats/jurmala/bulduri/agofm.html\n",
      "https://www.ss.lv/msg/lv/real-estate/flats/jurmala/bulduri/nblgx.html\n",
      "https://www.ss.lv/msg/lv/real-estate/flats/jurmala/bulduri/cxfbg.html\n",
      "https://www.ss.lv/msg/lv/real-estate/flats/jurmala/bulduri/ngjkg.html\n",
      "https://www.ss.lv/msg/lv/real-estate/flats/jurmala/bulduri/bdpfdo.html\n",
      "https://www.ss.lv/msg/lv/real-estate/flats/jurmala/bulduri/aceck.html\n",
      "https://www.ss.lv/msg/lv/real-estate/flats/jurmala/bulduri/aebec.html\n",
      "https://www.ss.lv/msg/lv/real-estate/flats/jurmala/bulduri/ndibg.html\n",
      "https://www.ss.lv/msg/lv/real-estate/flats/jurmala/bulduri/aeclp.html\n",
      "https://www.ss.lv/msg/lv/real-estate/flats/jurmala/bulduri/fcimx.html\n",
      "https://www.ss.lv/msg/lv/real-estate/flats/jurmala/bulduri/eigfm.html\n",
      "https://www.ss.lv/msg/lv/real-estate/flats/jurmala/bulduri/ndmoj.html\n",
      "https://www.ss.lv/msg/lv/real-estate/flats/jurmala/bulduri/amfop.html\n",
      "https://www.ss.lv/msg/lv/real-estate/flats/jurmala/bulduri/eldgp.html\n",
      "https://www.ss.lv/msg/lv/real-estate/flats/jurmala/bulduri/bpghg.html\n",
      "https://www.ss.lv/msg/lv/real-estate/flats/jurmala/bulduri/cnejk.html\n",
      "https://www.ss.lv/msg/lv/real-estate/flats/jurmala/bulduri/gpfpj.html\n",
      "https://www.ss.lv/msg/lv/real-estate/flats/jurmala/bulduri/gfiib.html\n",
      "https://www.ss.lv/msg/lv/real-estate/flats/jurmala/bulduri/afeco.html\n",
      "https://www.ss.lv/msg/lv/real-estate/flats/jurmala/bulduri/apnpg.html\n",
      "https://www.ss.lv/msg/lv/real-estate/flats/jurmala/bulduri/cgijd.html\n",
      "https://www.ss.lv/msg/lv/real-estate/flats/jurmala/bulduri/fgfml.html\n",
      "https://www.ss.lv/msg/lv/real-estate/flats/jurmala/bulduri/hmkjp.html\n",
      "https://www.ss.lv/msg/lv/real-estate/flats/jurmala/bulduri/idmdk.html\n",
      "https://www.ss.lv/msg/lv/real-estate/flats/jurmala/bulduri/acpkj.html\n",
      "https://www.ss.lv/msg/lv/real-estate/flats/jurmala/bulduri/hghne.html\n",
      "https://www.ss.lv/msg/lv/real-estate/flats/jurmala/bulduri/jmjlh.html\n",
      "https://www.ss.lv/msg/lv/real-estate/flats/jurmala/bulduri/deogd.html\n",
      "https://www.ss.lv/msg/lv/real-estate/flats/jurmala/bulduri/acelo.html\n",
      "https://www.ss.lv/msg/lv/real-estate/flats/jurmala/bulduri/bbefl.html\n"
     ]
    }
   ],
   "source": [
    "for i in df.Url:\n",
    "    print(i)"
   ]
  },
  {
   "cell_type": "code",
   "execution_count": 44,
   "metadata": {
    "ExecuteTime": {
     "end_time": "2021-03-12T12:29:44.531918Z",
     "start_time": "2021-03-12T12:29:44.520564Z"
    }
   },
   "outputs": [
    {
     "name": "stdout",
     "output_type": "stream",
     "text": [
      "2021-02-15 13:39:51\n",
      "2021-02-15 13:39:52\n",
      "2021-02-15 13:39:53\n",
      "2021-02-15 13:39:54\n",
      "2021-02-15 13:39:55\n",
      "2021-02-15 13:39:56\n",
      "2021-02-15 13:39:57\n",
      "2021-02-15 13:39:58\n",
      "2021-02-15 13:39:59\n",
      "2021-02-15 13:40:00\n",
      "2021-02-15 13:40:01\n",
      "2021-02-15 13:40:02\n",
      "2021-02-15 13:40:03\n",
      "2021-02-15 13:40:04\n",
      "2021-02-15 13:40:05\n",
      "2021-02-15 13:40:06\n",
      "2021-02-15 13:40:07\n",
      "2021-02-15 13:40:08\n",
      "2021-02-15 13:40:09\n",
      "2021-02-15 13:40:10\n",
      "2021-02-15 13:40:11\n",
      "2021-02-15 13:40:12\n",
      "2021-02-15 13:40:13\n",
      "2021-02-15 13:40:14\n",
      "2021-02-15 13:40:15\n",
      "2021-02-15 13:40:16\n",
      "2021-02-15 13:40:17\n",
      "2021-02-15 13:40:18\n",
      "2021-02-15 13:40:19\n",
      "2021-02-15 13:40:20\n"
     ]
    }
   ],
   "source": [
    "datums = pd.to_datetime('2021-02-15 13:39:51')\n",
    "datumi = []\n",
    "for i in range(0,len(df)):\n",
    "    x = datums + datetime.timedelta(seconds=i)\n",
    "    print(x)\n",
    "    datumi.append(str(x))"
   ]
  },
  {
   "cell_type": "markdown",
   "metadata": {},
   "source": [
    "# THIS IS GOLD"
   ]
  },
  {
   "cell_type": "code",
   "execution_count": 41,
   "metadata": {
    "ExecuteTime": {
     "end_time": "2021-03-12T12:22:32.837492Z",
     "start_time": "2021-03-12T12:22:32.796912Z"
    }
   },
   "outputs": [],
   "source": [
    "import numpy as np\n",
    "\n",
    "df['web_date'] = np.resize(datumi,len(df))"
   ]
  },
  {
   "cell_type": "code",
   "execution_count": 43,
   "metadata": {
    "ExecuteTime": {
     "end_time": "2021-03-12T12:25:40.946047Z",
     "start_time": "2021-03-12T12:25:39.914448Z"
    }
   },
   "outputs": [
    {
     "data": {
      "text/plain": [
       "count                      30\n",
       "unique                     30\n",
       "top       2021-02-15 13:40:11\n",
       "freq                        1\n",
       "Name: web_date, dtype: object"
      ]
     },
     "execution_count": 43,
     "metadata": {},
     "output_type": "execute_result"
    }
   ],
   "source": [
    "df.web_date.describe()"
   ]
  }
 ],
 "metadata": {
  "kernelspec": {
   "display_name": "Python 3",
   "language": "python",
   "name": "python3"
  },
  "language_info": {
   "codemirror_mode": {
    "name": "ipython",
    "version": 3
   },
   "file_extension": ".py",
   "mimetype": "text/x-python",
   "name": "python",
   "nbconvert_exporter": "python",
   "pygments_lexer": "ipython3",
   "version": "3.7.4"
  },
  "toc": {
   "base_numbering": 1,
   "nav_menu": {},
   "number_sections": true,
   "sideBar": true,
   "skip_h1_title": false,
   "title_cell": "Table of Contents",
   "title_sidebar": "Contents",
   "toc_cell": false,
   "toc_position": {},
   "toc_section_display": true,
   "toc_window_display": false
  }
 },
 "nbformat": 4,
 "nbformat_minor": 2
}
