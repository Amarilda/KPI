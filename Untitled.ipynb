{
 "cells": [
  {
   "cell_type": "code",
   "execution_count": 1,
   "metadata": {
    "ExecuteTime": {
     "end_time": "2021-02-15T09:29:20.743933Z",
     "start_time": "2021-02-15T09:29:18.897272Z"
    }
   },
   "outputs": [],
   "source": [
    "import mechanicalsoup\n",
    "\n",
    "browser = mechanicalsoup.StatefulBrowser()\n",
    "url = \"https://www.ss.lv/lv/real-estate/flats/jurmala/bulduri/sell\""
   ]
  },
  {
   "cell_type": "code",
   "execution_count": 2,
   "metadata": {
    "ExecuteTime": {
     "end_time": "2021-02-13T17:10:46.274752Z",
     "start_time": "2021-02-13T17:10:45.649434Z"
    }
   },
   "outputs": [
    {
     "name": "stdout",
     "output_type": "stream",
     "text": [
      "https://www.ss.lv/lv/real-estate/flats/jurmala/bulduri/sell\n"
     ]
    }
   ],
   "source": [
    "browser.open(url)\n",
    "print(browser.get_url())"
   ]
  },
  {
   "cell_type": "markdown",
   "metadata": {
    "ExecuteTime": {
     "end_time": "2021-02-13T17:10:59.850352Z",
     "start_time": "2021-02-13T17:10:59.717703Z"
    }
   },
   "source": [
    "browser.get_current_page()"
   ]
  },
  {
   "cell_type": "markdown",
   "metadata": {
    "ExecuteTime": {
     "end_time": "2021-02-13T17:10:46.525033Z",
     "start_time": "2021-02-13T17:10:43.999Z"
    }
   },
   "source": [
    "https://www.youtube.com/watch?v=drDdb1MBBfI"
   ]
  },
  {
   "cell_type": "code",
   "execution_count": 67,
   "metadata": {
    "ExecuteTime": {
     "end_time": "2021-02-14T13:31:10.636999Z",
     "start_time": "2021-02-14T13:31:10.631837Z"
    }
   },
   "outputs": [],
   "source": [
    "import pandas as pd\n",
    "from bs4 import BeautifulSoup\n",
    "import requests\n",
    "import re\n",
    "import datetime"
   ]
  },
  {
   "cell_type": "markdown",
   "metadata": {},
   "source": [
    "## Get a list of the url for the individual advertisement"
   ]
  },
  {
   "cell_type": "code",
   "execution_count": 27,
   "metadata": {
    "ExecuteTime": {
     "end_time": "2021-02-13T17:31:48.874808Z",
     "start_time": "2021-02-13T17:31:48.454390Z"
    }
   },
   "outputs": [
    {
     "name": "stdout",
     "output_type": "stream",
     "text": [
      "2021-02-13 18:31:48.872556\n"
     ]
    }
   ],
   "source": [
    "url = 'https://www.ss.lv/lv/real-estate/flats/jurmala/bulduri/sell/'\n",
    "a = []\n",
    "r = requests.get(url)\n",
    "data = r.text\n",
    "soup = BeautifulSoup(data)\n",
    "\n",
    "for link in soup.find_all('a'):\n",
    "    a.append(link.get('href'))\n",
    "    A = pd.DataFrame(a,columns=['text'])\n",
    "    B = A[A.text.str.contains('msg') == True].reset_index(drop = True)\n",
    "    C = B.text.unique()\n",
    "print(datetime.datetime.now())    "
   ]
  },
  {
   "cell_type": "code",
   "execution_count": null,
   "metadata": {},
   "outputs": [],
   "source": [
    "url = 'https://www.ss.lv/lv/real-estate/flats/jurmala/bulduri/sell/'\n",
    "a = []\n",
    "r = requests.get(url)\n",
    "data = r.text\n",
    "soup = BeautifulSoup(data)\n",
    "\n",
    "for link in soup.find_all('a'):\n",
    "    a.append(link.get('href'))\n",
    "    A = pd.DataFrame(a,columns=['text'])\n",
    "    B = A[A.text.str.contains('msg') == True].reset_index(drop = True)\n",
    "    C = B.text.unique()\n",
    "print(datetime.datetime.now()) "
   ]
  },
  {
   "cell_type": "code",
   "execution_count": 89,
   "metadata": {
    "ExecuteTime": {
     "end_time": "2021-02-13T17:53:06.649706Z",
     "start_time": "2021-02-13T17:53:05.642832Z"
    }
   },
   "outputs": [
    {
     "name": "stdout",
     "output_type": "stream",
     "text": [
      "/msg/lv/real-estate/flats/jurmala/bulduri/nblgx.html\n",
      "nblgx.html\n",
      "https://www.ss.lv/msg/lv/real-estate/flats/jurmala/bulduri/nblgx.html\n",
      "\n",
      "/msg/lv/real-estate/flats/jurmala/bulduri/cxfbg.html\n",
      "cxfbg.html\n",
      "https://www.ss.lv/msg/lv/real-estate/flats/jurmala/bulduri/cxfbg.html\n",
      "\n",
      "/msg/lv/real-estate/flats/jurmala/bulduri/ngjkg.html\n",
      "ngjkg.html\n",
      "https://www.ss.lv/msg/lv/real-estate/flats/jurmala/bulduri/ngjkg.html\n",
      "\n"
     ]
    }
   ],
   "source": [
    "url_ss = \"https://www.ss.lv/msg/lv/real-estate/flats/jurmala/bulduri/\"\n",
    "for i in C[0:3]:\n",
    "    print(i)\n",
    "    print(i[42:])\n",
    "    print(url_ss+i[42:])\n",
    "    r = requests.get(url_ss+i[42:])\n",
    "    data = r.text\n",
    "    soup = BeautifulSoup(data)\n",
    "    \n",
    "    print()"
   ]
  },
  {
   "cell_type": "code",
   "execution_count": 4,
   "metadata": {
    "ExecuteTime": {
     "end_time": "2021-02-14T13:03:52.670653Z",
     "start_time": "2021-02-14T13:03:52.296344Z"
    }
   },
   "outputs": [],
   "source": [
    "r = requests.get(\"https://www.ss.lv/msg/lv/real-estate/flats/jurmala/bulduri/ngjkg.html\")\n",
    "data = r.text\n",
    "soup = BeautifulSoup(data)"
   ]
  },
  {
   "cell_type": "markdown",
   "metadata": {
    "ExecuteTime": {
     "end_time": "2021-02-13T18:00:51.563359Z",
     "start_time": "2021-02-13T18:00:51.524316Z"
    }
   },
   "source": [
    "soup.select('table')"
   ]
  },
  {
   "cell_type": "code",
   "execution_count": 13,
   "metadata": {
    "ExecuteTime": {
     "end_time": "2021-02-14T13:06:25.661953Z",
     "start_time": "2021-02-14T13:06:25.120466Z"
    }
   },
   "outputs": [],
   "source": [
    "table_MN = pd.read_html(\"https://www.ss.lv/msg/lv/real-estate/flats/jurmala/bulduri/ngjkg.html\")"
   ]
  },
  {
   "cell_type": "code",
   "execution_count": 59,
   "metadata": {
    "ExecuteTime": {
     "end_time": "2021-02-14T13:27:34.189089Z",
     "start_time": "2021-02-14T13:27:34.179354Z"
    }
   },
   "outputs": [],
   "source": [
    "df = pd.DataFrame(columns = ['Pilsēta', 'Rajons', 'Iela' , 'Istabas','Platība', 'Stāvs', 'Sērija'\n",
    "                             , 'Mājas tips','Cena', 'Datums', 'Unikālo apmeklējumu skaits'])"
   ]
  },
  {
   "cell_type": "code",
   "execution_count": 61,
   "metadata": {
    "ExecuteTime": {
     "end_time": "2021-02-14T13:27:45.084833Z",
     "start_time": "2021-02-14T13:27:45.075927Z"
    }
   },
   "outputs": [],
   "source": [
    "ex = []\n",
    "for i in table_MN[3][1]:\n",
    "    ex.append(i)\n",
    "for i in table_MN[4][1]:\n",
    "    ex.append(i)\n",
    "for i in table_MN[5][1]:\n",
    "    ex.append(i)\n",
    "ex.append(table_MN[7][2][1][8:])\n",
    "ex.append(table_MN[7][2][2][28:])"
   ]
  },
  {
   "cell_type": "code",
   "execution_count": 62,
   "metadata": {
    "ExecuteTime": {
     "end_time": "2021-02-14T13:27:46.691716Z",
     "start_time": "2021-02-14T13:27:46.658478Z"
    }
   },
   "outputs": [
    {
     "data": {
      "text/html": [
       "<div>\n",
       "<style scoped>\n",
       "    .dataframe tbody tr th:only-of-type {\n",
       "        vertical-align: middle;\n",
       "    }\n",
       "\n",
       "    .dataframe tbody tr th {\n",
       "        vertical-align: top;\n",
       "    }\n",
       "\n",
       "    .dataframe thead th {\n",
       "        text-align: right;\n",
       "    }\n",
       "</style>\n",
       "<table border=\"1\" class=\"dataframe\">\n",
       "  <thead>\n",
       "    <tr style=\"text-align: right;\">\n",
       "      <th></th>\n",
       "      <th>Pilsēta</th>\n",
       "      <th>Rajons</th>\n",
       "      <th>Iela</th>\n",
       "      <th>Istabas</th>\n",
       "      <th>Platība</th>\n",
       "      <th>Stāvs</th>\n",
       "      <th>Sērija</th>\n",
       "      <th>Mājas tips</th>\n",
       "      <th>Cena</th>\n",
       "      <th>Datums</th>\n",
       "      <th>Unikālo apmeklējumu skaits</th>\n",
       "    </tr>\n",
       "  </thead>\n",
       "  <tbody>\n",
       "    <tr>\n",
       "      <th>0</th>\n",
       "      <td>Jūrmala</td>\n",
       "      <td>Bulduri</td>\n",
       "      <td>Vienības pr. 34 [Karte]</td>\n",
       "      <td>3</td>\n",
       "      <td>156.70 m²</td>\n",
       "      <td>1/4/lifts</td>\n",
       "      <td>Jaun.</td>\n",
       "      <td>Paneļu - ķieģeļu</td>\n",
       "      <td>189 000 € (1 206.13 €/m²)</td>\n",
       "      <td>12.02.2021 14:52</td>\n",
       "      <td>1</td>\n",
       "    </tr>\n",
       "  </tbody>\n",
       "</table>\n",
       "</div>"
      ],
      "text/plain": [
       "   Pilsēta   Rajons                     Iela Istabas    Platība      Stāvs  \\\n",
       "0  Jūrmala  Bulduri  Vienības pr. 34 [Karte]       3  156.70 m²  1/4/lifts   \n",
       "\n",
       "  Sērija        Mājas tips                       Cena            Datums  \\\n",
       "0  Jaun.  Paneļu - ķieģeļu  189 000 € (1 206.13 €/m²)  12.02.2021 14:52   \n",
       "\n",
       "  Unikālo apmeklējumu skaits  \n",
       "0                          1  "
      ]
     },
     "execution_count": 62,
     "metadata": {},
     "output_type": "execute_result"
    }
   ],
   "source": [
    "df.loc[len(df)]= ex\n",
    "df"
   ]
  },
  {
   "cell_type": "markdown",
   "metadata": {
    "ExecuteTime": {
     "end_time": "2021-02-14T13:43:26.564965Z",
     "start_time": "2021-02-14T13:43:26.528005Z"
    }
   },
   "source": [
    "## Add text"
   ]
  },
  {
   "cell_type": "code",
   "execution_count": 90,
   "metadata": {
    "ExecuteTime": {
     "end_time": "2021-02-14T13:44:37.804345Z",
     "start_time": "2021-02-14T13:44:37.792429Z"
    }
   },
   "outputs": [
    {
     "data": {
      "text/plain": [
       "[<div id=\"msg_div_msg\">\n",
       " <div id=\"content_sys_div_msg\" style=\"float:right;margin:0px 0px 20px 20px;\"></div>\n",
       " \n",
       " Jūrmalas priedes un jūra – šis piedāvājums ir domāts tieši Jums. Līdz jūras krastam apmēram 10 minūtes mierīgi pastaigājoties, līdz koncertzālei Dzintari un galvenai promenādei-Jomas ielai-apmēram 7 minūtes kur ir un viss nepieciešamais ērtai dzīvei un atpūtai. <br/>\n",
       " Piedāvājumā dzīvoklis ar platību 156.70 m2( terase 85 m2), kluba mājā, pašā attīstītākajā Jūrmalas rajonā –Dzintaros. Dzīvoklis piedāvā ar statusu „viss iekļauts”. <br/>\n",
       " DzīvokļĪ augstas kvalitātes remonts no mūsdienīgiem, ekoloģiskiem materiāliem. Dzīvoklis ir pilnībā mēbelēts, aprīkots ar nepieciešamām mēbelēm un tehniku, iebūvētiem skapjiem un visu nepieciešamo ērtai dzīvei. Dzīvoklis noformēts hi-tech stilā. Griestu augstums standarta apartamentos ir 3m. Mājā ir pazemes autostāvvieta. <br/>\n",
       " Pati galvenā mājas priekšrocība – savs gāzes apkures katls, kas ļauj mājas iemītniekiem regulēt temperatūru dzīvoklī un līdz ar to samazināt komunālos maksājumus. <br/>\n",
       " Mājas veidols noteikts ar Baltijas tendencēm organiski apvienot pilsētu ar dabu: mazstāvu ēka ar panorāmas stikliem harmoniski iekļaujas pilsētas ainavā. Arhitektu darbs izceļās ar izsmalcinātību un formu lakonismu, kā arī ar mūsdienīgu tehnoloģiju pielietošanu. Pilnīgs vitrāžu stiklojums piešķir ēkai unikālu veidolu. Сenā iekļauta pazemes stāvvieta. <br/>\n",
       " <br/>\n",
       " --<br/>\n",
       " Сосны и море Юрмалы- это предложение именно для Вас. До морского побережья- около 10 минут неспешной ходьбы, до концертного зала Дзинтари и главного проминада Юрмалы- улице Йомас- около 7 минут, езды на машине, где Вас ждет и все необходимое для комфортной жизни , как на отдыхе, так и в повседневной жизни. <br/>\n",
       " Предлагается квартира общей площадью 156.70 м2, из которой 85 м2 удобная терраса для отдыха- выход как из гостинной и из спальнен. Прекрасная квартира находится в клубном доме в самом развитом по своей инфраструктуре районе Юрмалы в Булдури. Квартира предлагается со стасусом \"все включено\". В квартире - высококачественный ремонт из самых современных и экологических строительных материалов. Квартира полностью мебелирована и оснащена всей необходимой мебелью и техникой, встроенными шкафами и всем необходимым для комфортного проживания. Квартира оформлена в встиле hi-tech. Высота потолков в стандартных апартаментах составляет 3.0 м. В цену аренды квартиры входят просторная и удобная парковка. Самая главная особенность дома - свой газовый отопительный котел в доме, что позволяет владельцам квартир регулировать температуру и при необходимости выставить в квартире экономный режим отопления, что значительно сокращает счета по коммунальным платежам .<br/>\n",
       " Облик дома определен прибалтийской тенденцией к органичному слиянию: малоэтажное здание с панорамным остеклением гармонично вписано в ландшафт города. Работу архитекторов отличает изысканность и лаконизмом форм, а также применение самых современных технологий. Сплошное витражное остекление наделяет здание уникальным обликом, а владельцу апартаментов - великолепным панорамным видом на историческую часть Юрмалы. Дом находится в районе с очень хорошо развитой инфраструктурой- рядом супермаркет RIMI, Ливу аквапарк, река с причалом для катеров и лодок, больница, кафе и рестораны, местный юрмальский базарчик, общественный транспорт- все то, что необходимо для комфортной жизни. <br/>\n",
       " <br/>\n",
       " --<br/><br/><table border=\"0\" cellpadding=\"0\" cellspacing=\"0\" class=\"options_list\" width=\"100%\"><tr><td valign=\"top\" width=\"50%\"><table border=\"0\" cellpadding=\"1\" cellspacing=\"0\" width=\"100%\"><tr><td class=\"ads_opt_name\" height=\"20\" nowrap=\"\" width=\"30\">Pilsēta:</td><td class=\"ads_opt\" id=\"tdo_20\" nowrap=\"\"><b>Jūrmala</b></td></tr><tr><td class=\"ads_opt_name\" height=\"20\" nowrap=\"\" width=\"30\">Rajons:</td><td class=\"ads_opt\" id=\"tdo_856\" nowrap=\"\"><b>Bulduri</b></td></tr><tr><td class=\"ads_opt_name\" height=\"20\" nowrap=\"\" width=\"30\">Iela:</td><td class=\"ads_opt\" id=\"tdo_11\" nowrap=\"\"><b>Vienības pr. 34</b> <span class=\"td15\">[<a class=\"ads_opt_link_map\" href=\"javascript:;\" id=\"mnu_map\" onclick=\"mnu('map',1,1,'/lv/gmap/fTgTeF4QAzt4FD4eFFM=.html?mode=1&amp;c=56.976635,23.860617,0');return false;\">Karte</a>]</span></td></tr><tr><td class=\"ads_opt_name\" height=\"20\" nowrap=\"\" width=\"30\">Istabas:</td><td class=\"ads_opt\" id=\"tdo_1\" nowrap=\"\">3</td></tr></table></td><td valign=\"top\" width=\"50%\"><table border=\"0\" cellpadding=\"1\" cellspacing=\"0\" width=\"100%\"><tr><td class=\"ads_opt_name\" height=\"20\" nowrap=\"\" width=\"30\">Platība:</td><td class=\"ads_opt\" id=\"tdo_3\" nowrap=\"\">156.70 m²</td></tr><tr><td class=\"ads_opt_name\" height=\"20\" nowrap=\"\" width=\"30\">Stāvs:</td><td class=\"ads_opt\" id=\"tdo_4\" nowrap=\"\">1/4/lifts</td></tr><tr><td class=\"ads_opt_name\" height=\"20\" nowrap=\"\" width=\"30\">Sērija:</td><td class=\"ads_opt\" id=\"tdo_6\" nowrap=\"\">Jaun.</td></tr><tr><td class=\"ads_opt_name\" height=\"20\" id=\"pprice_td\" nowrap=\"\" width=\"30\">Mājas tips:</td><td class=\"ads_opt\" id=\"tdo_2\" nowrap=\"\">Paneļu - ķieģeļu</td></tr></table></td></tr></table><table border=\"0\" cellpadding=\"1\" cellspacing=\"0\" style=\"border-top:1px #eee solid;padding-top:5px;margin-top:10px;\" width=\"100%\"><tr><td class=\"ads_opt_name_big\" height=\"20\" nowrap=\"\" valign=\"top\" width=\"30\">Cena:</td><td class=\"ads_price\" id=\"tdo_8\" nowrap=\"\" valign=\"top\">189 000 € (1 206.13 €/m²)</td></tr></table></div>]"
      ]
     },
     "execution_count": 90,
     "metadata": {},
     "output_type": "execute_result"
    }
   ],
   "source": [
    "soup.find_all(\"div\", {\"id\": \"msg_div_msg\"})"
   ]
  },
  {
   "cell_type": "markdown",
   "metadata": {
    "ExecuteTime": {
     "end_time": "2021-02-14T13:56:49.568142Z",
     "start_time": "2021-02-14T13:56:49.309477Z"
    }
   },
   "source": [
    "soup.find_all(\"div\", {\"id\": \"tr_foto\"})"
   ]
  },
  {
   "cell_type": "code",
   "execution_count": 124,
   "metadata": {
    "ExecuteTime": {
     "end_time": "2021-02-14T14:06:30.260549Z",
     "start_time": "2021-02-14T14:06:30.253114Z"
    }
   },
   "outputs": [],
   "source": [
    "pictures=[]\n",
    "\n",
    "for link in soup.find_all(\"a\", href=True):\n",
    "    if link['href'].startswith( 'https://i.ss.lv' ):\n",
    "        pictures.append(link['href'])"
   ]
  },
  {
   "cell_type": "code",
   "execution_count": 126,
   "metadata": {
    "ExecuteTime": {
     "end_time": "2021-02-14T14:09:07.035429Z",
     "start_time": "2021-02-14T14:09:07.027468Z"
    }
   },
   "outputs": [
    {
     "data": {
      "text/plain": [
       "35"
      ]
     },
     "execution_count": 126,
     "metadata": {},
     "output_type": "execute_result"
    }
   ],
   "source": [
    "len(pictures)"
   ]
  }
 ],
 "metadata": {
  "kernelspec": {
   "display_name": "Python 3",
   "language": "python",
   "name": "python3"
  },
  "language_info": {
   "codemirror_mode": {
    "name": "ipython",
    "version": 3
   },
   "file_extension": ".py",
   "mimetype": "text/x-python",
   "name": "python",
   "nbconvert_exporter": "python",
   "pygments_lexer": "ipython3",
   "version": "3.7.4"
  },
  "toc": {
   "base_numbering": 1,
   "nav_menu": {},
   "number_sections": true,
   "sideBar": true,
   "skip_h1_title": false,
   "title_cell": "Table of Contents",
   "title_sidebar": "Contents",
   "toc_cell": false,
   "toc_position": {},
   "toc_section_display": true,
   "toc_window_display": false
  }
 },
 "nbformat": 4,
 "nbformat_minor": 2
}
